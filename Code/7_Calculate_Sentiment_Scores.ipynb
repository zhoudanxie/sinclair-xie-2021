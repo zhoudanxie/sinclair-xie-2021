{
 "cells": [
  {
   "cell_type": "code",
   "execution_count": 21,
   "metadata": {},
   "outputs": [],
   "source": [
    "import pandas as pd\n",
    "import os\n",
    "import datetime\n",
    "import pickle\n",
    "import re\n",
    "import time"
   ]
  },
  {
   "cell_type": "markdown",
   "metadata": {},
   "source": [
    "## 1. Import Meta Data"
   ]
  },
  {
   "cell_type": "code",
   "execution_count": 22,
   "metadata": {},
   "outputs": [
    {
     "name": "stdout",
     "output_type": "stream",
     "text": [
      "<class 'pandas.core.frame.DataFrame'>\n",
      "RangeIndex: 822737 entries, 0 to 822736\n",
      "Data columns (total 12 columns):\n",
      " #   Column         Non-Null Count   Dtype         \n",
      "---  ------         --------------   -----         \n",
      " 0   ID             822737 non-null  object        \n",
      " 1   Title          822737 non-null  object        \n",
      " 2   Type           822737 non-null  object        \n",
      " 3   StartDate      822737 non-null  datetime64[ns]\n",
      " 4   EndDate        822737 non-null  object        \n",
      " 5   Text           822737 non-null  object        \n",
      " 6   TextWordCount  822737 non-null  object        \n",
      " 7   PubTitle       822737 non-null  object        \n",
      " 8   SourceType     822737 non-null  object        \n",
      " 9   Year           822737 non-null  int64         \n",
      " 10  Month          822737 non-null  int64         \n",
      " 11  Newspaper      822737 non-null  object        \n",
      "dtypes: datetime64[ns](1), int64(2), object(9)\n",
      "memory usage: 75.3+ MB\n",
      "None\n"
     ]
    }
   ],
   "source": [
    "# All news metadata\n",
    "allNews=pd.read_pickle('/home/ec2-user/SageMaker/New Uncertainty/parsed_xml.pkl')\n",
    "print(allNews.info())"
   ]
  },
  {
   "cell_type": "code",
   "execution_count": 23,
   "metadata": {},
   "outputs": [
    {
     "name": "stdout",
     "output_type": "stream",
     "text": [
      "<class 'pandas.core.frame.DataFrame'>\n",
      "RangeIndex: 822737 entries, 0 to 822736\n",
      "Data columns (total 6 columns):\n",
      " #   Column                       Non-Null Count   Dtype \n",
      "---  ------                       --------------   ----- \n",
      " 0   ID                           822737 non-null  object\n",
      " 1   RegSentsExpand               822737 non-null  object\n",
      " 2   NounChunksMatch              822737 non-null  int64 \n",
      " 3   NounChunkMatchWords          822737 non-null  object\n",
      " 4   NounChunkMatchWordsFiltered  822737 non-null  object\n",
      " 5   NounChunkMatchFiltered       822737 non-null  int64 \n",
      "dtypes: int64(2), object(4)\n",
      "memory usage: 37.7+ MB\n",
      "None\n"
     ]
    }
   ],
   "source": [
    "# Reg relevant articles\n",
    "df_regSentsExpand=pd.read_pickle('/home/ec2-user/SageMaker/New Uncertainty/Reg Relevance/RegSentsExpand_NounChunks3.pkl')\n",
    "print(df_regSentsExpand.info())"
   ]
  },
  {
   "cell_type": "code",
   "execution_count": 24,
   "metadata": {},
   "outputs": [
    {
     "name": "stdout",
     "output_type": "stream",
     "text": [
      "<class 'pandas.core.frame.DataFrame'>\n",
      "Int64Index: 822737 entries, 0 to 822736\n",
      "Data columns (total 14 columns):\n",
      " #   Column                       Non-Null Count   Dtype         \n",
      "---  ------                       --------------   -----         \n",
      " 0   ID                           822737 non-null  object        \n",
      " 1   RegSentsExpand               822737 non-null  object        \n",
      " 2   NounChunksMatch              822737 non-null  int64         \n",
      " 3   NounChunkMatchWords          822737 non-null  object        \n",
      " 4   NounChunkMatchWordsFiltered  822737 non-null  object        \n",
      " 5   NounChunkMatchFiltered       822737 non-null  int64         \n",
      " 6   Title                        822737 non-null  object        \n",
      " 7   StartDate                    822737 non-null  datetime64[ns]\n",
      " 8   Text                         822737 non-null  object        \n",
      " 9   Newspaper                    822737 non-null  object        \n",
      " 10  Year                         822737 non-null  int64         \n",
      " 11  Month                        822737 non-null  int64         \n",
      " 12  Type                         822737 non-null  object        \n",
      " 13  SourceType                   822737 non-null  object        \n",
      "dtypes: datetime64[ns](1), int64(4), object(9)\n",
      "memory usage: 94.2+ MB\n",
      "None\n"
     ]
    }
   ],
   "source": [
    "# Merge with metadata\n",
    "df=df_regSentsExpand.merge(allNews[['ID','Title','StartDate','Text','Newspaper','Year','Month','Type','SourceType']],\n",
    "                           on='ID',how='left')\n",
    "print(df.info())"
   ]
  },
  {
   "cell_type": "code",
   "execution_count": 25,
   "metadata": {},
   "outputs": [
    {
     "name": "stdout",
     "output_type": "stream",
     "text": [
      "<class 'pandas.core.frame.DataFrame'>\n",
      "RangeIndex: 788516 entries, 0 to 788515\n",
      "Data columns (total 1 columns):\n",
      " #   Column  Non-Null Count   Dtype\n",
      "---  ------  --------------   -----\n",
      " 0   ID      788516 non-null  int64\n",
      "dtypes: int64(1)\n",
      "memory usage: 6.0 MB\n",
      "None\n"
     ]
    }
   ],
   "source": [
    "# Remove duplicated articles\n",
    "IDs_nodup=pd.read_csv('/home/ec2-user/SageMaker/New Uncertainty/IDs_no_duplicates.csv')\n",
    "print(IDs_nodup.info())"
   ]
  },
  {
   "cell_type": "code",
   "execution_count": 26,
   "metadata": {},
   "outputs": [
    {
     "name": "stdout",
     "output_type": "stream",
     "text": [
      "<class 'pandas.core.frame.DataFrame'>\n",
      "RangeIndex: 788516 entries, 0 to 788515\n",
      "Data columns (total 14 columns):\n",
      " #   Column                       Non-Null Count   Dtype         \n",
      "---  ------                       --------------   -----         \n",
      " 0   ID                           788516 non-null  object        \n",
      " 1   RegSentsExpand               788516 non-null  object        \n",
      " 2   NounChunksMatch              788516 non-null  int64         \n",
      " 3   NounChunkMatchWords          788516 non-null  object        \n",
      " 4   NounChunkMatchWordsFiltered  788516 non-null  object        \n",
      " 5   NounChunkMatchFiltered       788516 non-null  int64         \n",
      " 6   Title                        788516 non-null  object        \n",
      " 7   StartDate                    788516 non-null  datetime64[ns]\n",
      " 8   Text                         788516 non-null  object        \n",
      " 9   Newspaper                    788516 non-null  object        \n",
      " 10  Year                         788516 non-null  int64         \n",
      " 11  Month                        788516 non-null  int64         \n",
      " 12  Type                         788516 non-null  object        \n",
      " 13  SourceType                   788516 non-null  object        \n",
      "dtypes: datetime64[ns](1), int64(4), object(9)\n",
      "memory usage: 84.2+ MB\n",
      "None\n"
     ]
    }
   ],
   "source": [
    "#df['ID']=df['ID'].astype('int64')\n",
    "IDs_nodup['ID']=IDs_nodup['ID'].astype('str')\n",
    "df=IDs_nodup.merge(df,on='ID',how='left').reset_index(drop=True)\n",
    "print(df.info())"
   ]
  },
  {
   "cell_type": "code",
   "execution_count": 27,
   "metadata": {},
   "outputs": [
    {
     "name": "stdout",
     "output_type": "stream",
     "text": [
      "# of reg relevant articles: 493418\n"
     ]
    }
   ],
   "source": [
    "# Use filtered noun chunk matches to define reg relevance\n",
    "df.loc[df['NounChunkMatchFiltered']!=0,'RegRelevance']=1\n",
    "print(\"# of reg relevant articles:\",df[df['RegRelevance']==1]['ID'].nunique())"
   ]
  },
  {
   "cell_type": "markdown",
   "metadata": {},
   "source": [
    "## 2. Calculate Sentiment Scores"
   ]
  },
  {
   "cell_type": "code",
   "execution_count": 28,
   "metadata": {},
   "outputs": [
    {
     "name": "stdout",
     "output_type": "stream",
     "text": [
      "<class 'pandas.core.frame.DataFrame'>\n",
      "RangeIndex: 502909 entries, 0 to 502908\n",
      "Data columns (total 3 columns):\n",
      " #   Column            Non-Null Count   Dtype \n",
      "---  ------            --------------   ----- \n",
      " 0   ID                502909 non-null  int64 \n",
      " 1   UncertaintyCount  502909 non-null  int64 \n",
      " 2   UncertaintyWords  502909 non-null  object\n",
      "dtypes: int64(2), object(1)\n",
      "memory usage: 11.5+ MB\n",
      "None\n"
     ]
    }
   ],
   "source": [
    "# LM uncertainty scores\n",
    "LMuncertainty=pd.read_csv('/home/ec2-user/SageMaker/New Uncertainty/Sentiment Analysis/LMuncertainty.csv')\n",
    "print(LMuncertainty.info())"
   ]
  },
  {
   "cell_type": "code",
   "execution_count": 29,
   "metadata": {},
   "outputs": [
    {
     "name": "stdout",
     "output_type": "stream",
     "text": [
      "<class 'pandas.core.frame.DataFrame'>\n",
      "RangeIndex: 502909 entries, 0 to 502908\n",
      "Data columns (total 3 columns):\n",
      " #   Column            Non-Null Count   Dtype \n",
      "---  ------            --------------   ----- \n",
      " 0   ID                502909 non-null  object\n",
      " 1   UncertaintyCount  502909 non-null  int64 \n",
      " 2   UncertaintyWords  502909 non-null  object\n",
      "dtypes: int64(1), object(2)\n",
      "memory usage: 11.5+ MB\n",
      "None\n"
     ]
    }
   ],
   "source": [
    "LMuncertainty['ID']=LMuncertainty['ID'].astype('str')\n",
    "print(LMuncertainty.info())"
   ]
  },
  {
   "cell_type": "code",
   "execution_count": 30,
   "metadata": {},
   "outputs": [
    {
     "name": "stdout",
     "output_type": "stream",
     "text": [
      "<class 'str'>\n"
     ]
    }
   ],
   "source": [
    "print(type(LMuncertainty['ID'][0]))"
   ]
  },
  {
   "cell_type": "code",
   "execution_count": 31,
   "metadata": {},
   "outputs": [
    {
     "name": "stdout",
     "output_type": "stream",
     "text": [
      "<class 'pandas.core.frame.DataFrame'>\n",
      "Int64Index: 788516 entries, 0 to 788515\n",
      "Data columns (total 17 columns):\n",
      " #   Column                       Non-Null Count   Dtype         \n",
      "---  ------                       --------------   -----         \n",
      " 0   ID                           788516 non-null  object        \n",
      " 1   RegSentsExpand               788516 non-null  object        \n",
      " 2   NounChunksMatch              788516 non-null  int64         \n",
      " 3   NounChunkMatchWords          788516 non-null  object        \n",
      " 4   NounChunkMatchWordsFiltered  788516 non-null  object        \n",
      " 5   NounChunkMatchFiltered       788516 non-null  int64         \n",
      " 6   Title                        788516 non-null  object        \n",
      " 7   StartDate                    788516 non-null  datetime64[ns]\n",
      " 8   Text                         788516 non-null  object        \n",
      " 9   Newspaper                    788516 non-null  object        \n",
      " 10  Year                         788516 non-null  int64         \n",
      " 11  Month                        788516 non-null  int64         \n",
      " 12  Type                         788516 non-null  object        \n",
      " 13  SourceType                   788516 non-null  object        \n",
      " 14  RegRelevance                 493418 non-null  float64       \n",
      " 15  UncertaintyCount             493586 non-null  float64       \n",
      " 16  UncertaintyWords             493586 non-null  object        \n",
      "dtypes: datetime64[ns](1), float64(2), int64(4), object(10)\n",
      "memory usage: 108.3+ MB\n",
      "None\n"
     ]
    }
   ],
   "source": [
    "# Merge\n",
    "df2=df.merge(LMuncertainty,on='ID',how='left')\n",
    "print(df2.info())"
   ]
  },
  {
   "cell_type": "code",
   "execution_count": 32,
   "metadata": {},
   "outputs": [
    {
     "name": "stdout",
     "output_type": "stream",
     "text": [
      "<class 'pandas.core.frame.DataFrame'>\n",
      "RangeIndex: 502909 entries, 0 to 502908\n",
      "Data columns (total 6 columns):\n",
      " #   Column          Non-Null Count   Dtype \n",
      "---  ------          --------------   ----- \n",
      " 0   ID              502909 non-null  object\n",
      " 1   TotalWordCount  502909 non-null  int64 \n",
      " 2   GIposCount      502909 non-null  int64 \n",
      " 3   GInegCount      502909 non-null  int64 \n",
      " 4   GIposWords      502909 non-null  object\n",
      " 5   GInegWords      502909 non-null  object\n",
      "dtypes: int64(3), object(3)\n",
      "memory usage: 23.0+ MB\n",
      "None\n"
     ]
    }
   ],
   "source": [
    "# GI sentiments\n",
    "GIsentiments=pd.read_csv('/home/ec2-user/SageMaker/New Uncertainty/Sentiment Analysis/GIsentiments.csv')\n",
    "GIsentiments['ID']=GIsentiments['ID'].astype('str')\n",
    "print(GIsentiments.info())"
   ]
  },
  {
   "cell_type": "code",
   "execution_count": 33,
   "metadata": {},
   "outputs": [
    {
     "name": "stdout",
     "output_type": "stream",
     "text": [
      "<class 'pandas.core.frame.DataFrame'>\n",
      "RangeIndex: 502909 entries, 0 to 502908\n",
      "Data columns (total 5 columns):\n",
      " #   Column       Non-Null Count   Dtype \n",
      "---  ------       --------------   ----- \n",
      " 0   ID           502909 non-null  object\n",
      " 1   LSDposCount  502909 non-null  int64 \n",
      " 2   LSDnegCount  502909 non-null  int64 \n",
      " 3   LSDposWords  502909 non-null  object\n",
      " 4   LSDnegWords  502909 non-null  object\n",
      "dtypes: int64(2), object(3)\n",
      "memory usage: 19.2+ MB\n",
      "None\n"
     ]
    }
   ],
   "source": [
    "# LSD sentiments\n",
    "LSDsentiments=pd.read_csv('/home/ec2-user/SageMaker/New Uncertainty/Sentiment Analysis/LSDsentiments.csv')\n",
    "LSDsentiments['ID']=LSDsentiments['ID'].astype('str')\n",
    "print(LSDsentiments.info())"
   ]
  },
  {
   "cell_type": "code",
   "execution_count": 34,
   "metadata": {},
   "outputs": [
    {
     "name": "stdout",
     "output_type": "stream",
     "text": [
      "<class 'pandas.core.frame.DataFrame'>\n",
      "RangeIndex: 502909 entries, 0 to 502908\n",
      "Data columns (total 5 columns):\n",
      " #   Column      Non-Null Count   Dtype \n",
      "---  ------      --------------   ----- \n",
      " 0   ID          502909 non-null  object\n",
      " 1   LMposCount  502909 non-null  int64 \n",
      " 2   LMnegCount  502909 non-null  int64 \n",
      " 3   LMposWords  502909 non-null  object\n",
      " 4   LMnegWords  502909 non-null  object\n",
      "dtypes: int64(2), object(3)\n",
      "memory usage: 19.2+ MB\n",
      "None\n"
     ]
    }
   ],
   "source": [
    "# LM sentiments\n",
    "LMsentiments=pd.read_csv('/home/ec2-user/SageMaker/New Uncertainty/Sentiment Analysis/LMsentiments.csv')\n",
    "LMsentiments['ID']=LMsentiments['ID'].astype('str')\n",
    "print(LMsentiments.info())"
   ]
  },
  {
   "cell_type": "code",
   "execution_count": 35,
   "metadata": {},
   "outputs": [
    {
     "name": "stdout",
     "output_type": "stream",
     "text": [
      "<class 'pandas.core.frame.DataFrame'>\n",
      "Int64Index: 788516 entries, 0 to 788515\n",
      "Data columns (total 30 columns):\n",
      " #   Column                       Non-Null Count   Dtype         \n",
      "---  ------                       --------------   -----         \n",
      " 0   ID                           788516 non-null  object        \n",
      " 1   RegSentsExpand               788516 non-null  object        \n",
      " 2   NounChunksMatch              788516 non-null  int64         \n",
      " 3   NounChunkMatchWords          788516 non-null  object        \n",
      " 4   NounChunkMatchWordsFiltered  788516 non-null  object        \n",
      " 5   NounChunkMatchFiltered       788516 non-null  int64         \n",
      " 6   Title                        788516 non-null  object        \n",
      " 7   StartDate                    788516 non-null  datetime64[ns]\n",
      " 8   Text                         788516 non-null  object        \n",
      " 9   Newspaper                    788516 non-null  object        \n",
      " 10  Year                         788516 non-null  int64         \n",
      " 11  Month                        788516 non-null  int64         \n",
      " 12  Type                         788516 non-null  object        \n",
      " 13  SourceType                   788516 non-null  object        \n",
      " 14  RegRelevance                 493418 non-null  float64       \n",
      " 15  UncertaintyCount             493586 non-null  float64       \n",
      " 16  UncertaintyWords             493586 non-null  object        \n",
      " 17  TotalWordCount               493586 non-null  float64       \n",
      " 18  GIposCount                   493586 non-null  float64       \n",
      " 19  GInegCount                   493586 non-null  float64       \n",
      " 20  GIposWords                   493586 non-null  object        \n",
      " 21  GInegWords                   493586 non-null  object        \n",
      " 22  LMposCount                   493586 non-null  float64       \n",
      " 23  LMnegCount                   493586 non-null  float64       \n",
      " 24  LMposWords                   493586 non-null  object        \n",
      " 25  LMnegWords                   493586 non-null  object        \n",
      " 26  LSDposCount                  493586 non-null  float64       \n",
      " 27  LSDnegCount                  493586 non-null  float64       \n",
      " 28  LSDposWords                  493586 non-null  object        \n",
      " 29  LSDnegWords                  493586 non-null  object        \n",
      "dtypes: datetime64[ns](1), float64(9), int64(4), object(16)\n",
      "memory usage: 186.5+ MB\n",
      "None\n"
     ]
    }
   ],
   "source": [
    "# Merge\n",
    "df3=df2.merge(GIsentiments,on='ID',how='left').\\\n",
    "    merge(LMsentiments,on='ID',how='left').\\\n",
    "    merge(LSDsentiments,on='ID',how='left')\n",
    "print(df3.info())"
   ]
  },
  {
   "cell_type": "code",
   "execution_count": 36,
   "metadata": {},
   "outputs": [
    {
     "name": "stdout",
     "output_type": "stream",
     "text": [
      "<class 'pandas.core.frame.DataFrame'>\n",
      "Int64Index: 493418 entries, 3 to 788500\n",
      "Data columns (total 30 columns):\n",
      " #   Column                       Non-Null Count   Dtype         \n",
      "---  ------                       --------------   -----         \n",
      " 0   ID                           493418 non-null  object        \n",
      " 1   RegSentsExpand               493418 non-null  object        \n",
      " 2   NounChunksMatch              493418 non-null  int64         \n",
      " 3   NounChunkMatchWords          493418 non-null  object        \n",
      " 4   NounChunkMatchWordsFiltered  493418 non-null  object        \n",
      " 5   NounChunkMatchFiltered       493418 non-null  int64         \n",
      " 6   Title                        493418 non-null  object        \n",
      " 7   StartDate                    493418 non-null  datetime64[ns]\n",
      " 8   Text                         493418 non-null  object        \n",
      " 9   Newspaper                    493418 non-null  object        \n",
      " 10  Year                         493418 non-null  int64         \n",
      " 11  Month                        493418 non-null  int64         \n",
      " 12  Type                         493418 non-null  object        \n",
      " 13  SourceType                   493418 non-null  object        \n",
      " 14  RegRelevance                 493418 non-null  float64       \n",
      " 15  UncertaintyCount             493418 non-null  float64       \n",
      " 16  UncertaintyWords             493418 non-null  object        \n",
      " 17  TotalWordCount               493418 non-null  float64       \n",
      " 18  GIposCount                   493418 non-null  float64       \n",
      " 19  GInegCount                   493418 non-null  float64       \n",
      " 20  GIposWords                   493418 non-null  object        \n",
      " 21  GInegWords                   493418 non-null  object        \n",
      " 22  LMposCount                   493418 non-null  float64       \n",
      " 23  LMnegCount                   493418 non-null  float64       \n",
      " 24  LMposWords                   493418 non-null  object        \n",
      " 25  LMnegWords                   493418 non-null  object        \n",
      " 26  LSDposCount                  493418 non-null  float64       \n",
      " 27  LSDnegCount                  493418 non-null  float64       \n",
      " 28  LSDposWords                  493418 non-null  object        \n",
      " 29  LSDnegWords                  493418 non-null  object        \n",
      "dtypes: datetime64[ns](1), float64(9), int64(4), object(16)\n",
      "memory usage: 116.7+ MB\n",
      "None\n"
     ]
    }
   ],
   "source": [
    "# Reg relevant articles only\n",
    "df_reg=df3[df3['RegRelevance']==1]\n",
    "print(df_reg.info())"
   ]
  },
  {
   "cell_type": "code",
   "execution_count": 37,
   "metadata": {},
   "outputs": [
    {
     "name": "stderr",
     "output_type": "stream",
     "text": [
      "/home/ec2-user/SageMaker/.conda/envs/my_py/lib/python3.6/site-packages/ipykernel_launcher.py:2: SettingWithCopyWarning: \n",
      "A value is trying to be set on a copy of a slice from a DataFrame.\n",
      "Try using .loc[row_indexer,col_indexer] = value instead\n",
      "\n",
      "See the caveats in the documentation: https://pandas.pydata.org/pandas-docs/stable/user_guide/indexing.html#returning-a-view-versus-a-copy\n",
      "  \n",
      "/home/ec2-user/SageMaker/.conda/envs/my_py/lib/python3.6/site-packages/ipykernel_launcher.py:4: SettingWithCopyWarning: \n",
      "A value is trying to be set on a copy of a slice from a DataFrame.\n",
      "Try using .loc[row_indexer,col_indexer] = value instead\n",
      "\n",
      "See the caveats in the documentation: https://pandas.pydata.org/pandas-docs/stable/user_guide/indexing.html#returning-a-view-versus-a-copy\n",
      "  after removing the cwd from sys.path.\n"
     ]
    },
    {
     "name": "stdout",
     "output_type": "stream",
     "text": [
      "<class 'pandas.core.frame.DataFrame'>\n",
      "Int64Index: 493418 entries, 3 to 788500\n",
      "Data columns (total 34 columns):\n",
      " #   Column                       Non-Null Count   Dtype         \n",
      "---  ------                       --------------   -----         \n",
      " 0   ID                           493418 non-null  object        \n",
      " 1   RegSentsExpand               493418 non-null  object        \n",
      " 2   NounChunksMatch              493418 non-null  int64         \n",
      " 3   NounChunkMatchWords          493418 non-null  object        \n",
      " 4   NounChunkMatchWordsFiltered  493418 non-null  object        \n",
      " 5   NounChunkMatchFiltered       493418 non-null  int64         \n",
      " 6   Title                        493418 non-null  object        \n",
      " 7   StartDate                    493418 non-null  datetime64[ns]\n",
      " 8   Text                         493418 non-null  object        \n",
      " 9   Newspaper                    493418 non-null  object        \n",
      " 10  Year                         493418 non-null  int64         \n",
      " 11  Month                        493418 non-null  int64         \n",
      " 12  Type                         493418 non-null  object        \n",
      " 13  SourceType                   493418 non-null  object        \n",
      " 14  RegRelevance                 493418 non-null  float64       \n",
      " 15  UncertaintyCount             493418 non-null  float64       \n",
      " 16  UncertaintyWords             493418 non-null  object        \n",
      " 17  TotalWordCount               493418 non-null  float64       \n",
      " 18  GIposCount                   493418 non-null  float64       \n",
      " 19  GInegCount                   493418 non-null  float64       \n",
      " 20  GIposWords                   493418 non-null  object        \n",
      " 21  GInegWords                   493418 non-null  object        \n",
      " 22  LMposCount                   493418 non-null  float64       \n",
      " 23  LMnegCount                   493418 non-null  float64       \n",
      " 24  LMposWords                   493418 non-null  object        \n",
      " 25  LMnegWords                   493418 non-null  object        \n",
      " 26  LSDposCount                  493418 non-null  float64       \n",
      " 27  LSDnegCount                  493418 non-null  float64       \n",
      " 28  LSDposWords                  493418 non-null  object        \n",
      " 29  LSDnegWords                  493418 non-null  object        \n",
      " 30  UncertaintyScore             493418 non-null  float64       \n",
      " 31  GIscore                      493418 non-null  float64       \n",
      " 32  LSDscore                     493418 non-null  float64       \n",
      " 33  LMscore                      493418 non-null  float64       \n",
      "dtypes: datetime64[ns](1), float64(13), int64(4), object(16)\n",
      "memory usage: 131.8+ MB\n",
      "None\n"
     ]
    }
   ],
   "source": [
    "# Calculate scores\n",
    "df_reg['UncertaintyScore']=df_reg['UncertaintyCount']/df_reg['TotalWordCount']*100\n",
    "for dic in ['GI','LSD','LM']:\n",
    "    df_reg[dic+'score']=(df_reg[dic+'posCount']-df_reg[dic+'negCount'])/df_reg['TotalWordCount']*100\n",
    "print(df_reg.info())"
   ]
  },
  {
   "cell_type": "code",
   "execution_count": 38,
   "metadata": {},
   "outputs": [],
   "source": [
    "df_reg.to_pickle('/home/ec2-user/SageMaker/New Uncertainty/Sentiment Analysis/RegRelevant_ArticleSentimentWordsScores.pkl')"
   ]
  },
  {
   "cell_type": "code",
   "execution_count": 39,
   "metadata": {},
   "outputs": [
    {
     "name": "stdout",
     "output_type": "stream",
     "text": [
      "<class 'pandas.core.frame.DataFrame'>\n",
      "Int64Index: 493418 entries, 3 to 788500\n",
      "Data columns (total 7 columns):\n",
      " #   Column            Non-Null Count   Dtype         \n",
      "---  ------            --------------   -----         \n",
      " 0   ID                493418 non-null  object        \n",
      " 1   StartDate         493418 non-null  datetime64[ns]\n",
      " 2   Newspaper         493418 non-null  object        \n",
      " 3   UncertaintyScore  493418 non-null  float64       \n",
      " 4   GIscore           493418 non-null  float64       \n",
      " 5   LMscore           493418 non-null  float64       \n",
      " 6   LSDscore          493418 non-null  float64       \n",
      "dtypes: datetime64[ns](1), float64(4), object(2)\n",
      "memory usage: 30.1+ MB\n",
      "None\n"
     ]
    }
   ],
   "source": [
    "sentimentScores=df_reg[['ID','StartDate','Newspaper','UncertaintyScore','GIscore','LMscore','LSDscore']]\n",
    "print(sentimentScores.info())"
   ]
  },
  {
   "cell_type": "code",
   "execution_count": 40,
   "metadata": {},
   "outputs": [],
   "source": [
    "sentimentScores.to_csv('/home/ec2-user/SageMaker/New Uncertainty/Sentiment Analysis/RegRelevant_ArticleSentimentScores.csv',index=False)"
   ]
  },
  {
   "cell_type": "markdown",
   "metadata": {},
   "source": [
    "## 3. Calculate Monthly Average Scores"
   ]
  },
  {
   "cell_type": "code",
   "execution_count": 41,
   "metadata": {},
   "outputs": [
    {
     "name": "stdout",
     "output_type": "stream",
     "text": [
      "<class 'pandas.core.frame.DataFrame'>\n",
      "RangeIndex: 428 entries, 0 to 427\n",
      "Data columns (total 7 columns):\n",
      " #   Column            Non-Null Count  Dtype  \n",
      "---  ------            --------------  -----  \n",
      " 0   Year              428 non-null    int64  \n",
      " 1   Month             428 non-null    int64  \n",
      " 2   UncertaintyScore  428 non-null    float64\n",
      " 3   GIscore           428 non-null    float64\n",
      " 4   LSDscore          428 non-null    float64\n",
      " 5   LMscore           428 non-null    float64\n",
      " 6   ArticleCount      428 non-null    int64  \n",
      "dtypes: float64(4), int64(3)\n",
      "memory usage: 23.5 KB\n",
      "None\n"
     ]
    },
    {
     "name": "stderr",
     "output_type": "stream",
     "text": [
      "/home/ec2-user/SageMaker/.conda/envs/my_py/lib/python3.6/site-packages/ipykernel_launcher.py:2: SettingWithCopyWarning: \n",
      "A value is trying to be set on a copy of a slice from a DataFrame.\n",
      "Try using .loc[row_indexer,col_indexer] = value instead\n",
      "\n",
      "See the caveats in the documentation: https://pandas.pydata.org/pandas-docs/stable/user_guide/indexing.html#returning-a-view-versus-a-copy\n",
      "  \n"
     ]
    }
   ],
   "source": [
    "# Calculate average monthly scores\n",
    "df_reg['ArticleCount']=1\n",
    "monthlyScores=df_reg[['Year','Month','UncertaintyScore','GIscore','LSDscore','LMscore','ArticleCount']].\\\n",
    "    groupby(['Year','Month']).agg({'UncertaintyScore':'mean','GIscore':'mean',\n",
    "                                   'LSDscore':'mean','LMscore':'mean','ArticleCount':'sum'}).reset_index()\n",
    "print(monthlyScores.info())"
   ]
  },
  {
   "cell_type": "code",
   "execution_count": 42,
   "metadata": {},
   "outputs": [
    {
     "name": "stdout",
     "output_type": "stream",
     "text": [
      "   Year  Month  UncertaintyScore   GIscore  LSDscore   LMscore  ArticleCount\n",
      "0  1985      1          0.668864  1.118075 -0.004204 -1.995671           847\n",
      "1  1985      2          0.654157  1.237373 -0.201235 -2.112632           772\n",
      "2  1985      3          0.690767  0.977235 -0.306658 -2.174438           966\n",
      "3  1985      4          0.715025  1.187243 -0.172904 -2.048845           978\n",
      "4  1985      5          0.714494  1.224079  0.022134 -1.975888           982\n"
     ]
    }
   ],
   "source": [
    "print(monthlyScores.head())"
   ]
  },
  {
   "cell_type": "code",
   "execution_count": 43,
   "metadata": {},
   "outputs": [],
   "source": [
    "monthlyScores.to_csv('/home/ec2-user/SageMaker/New Uncertainty/Sentiment Analysis/RegRelevant_MonthlySentimentScores.csv',index=False)"
   ]
  }
 ],
 "metadata": {
  "kernelspec": {
   "display_name": "my_py",
   "language": "python",
   "name": "my_py"
  },
  "language_info": {
   "codemirror_mode": {
    "name": "ipython",
    "version": 3
   },
   "file_extension": ".py",
   "mimetype": "text/x-python",
   "name": "python",
   "nbconvert_exporter": "python",
   "pygments_lexer": "ipython3",
   "version": "3.6.10"
  }
 },
 "nbformat": 4,
 "nbformat_minor": 4
}
