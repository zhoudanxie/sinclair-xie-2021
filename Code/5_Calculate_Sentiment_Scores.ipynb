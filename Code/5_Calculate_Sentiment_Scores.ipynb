{
 "cells": [
  {
   "cell_type": "code",
   "execution_count": 5,
   "metadata": {},
   "outputs": [],
   "source": [
    "import pandas as pd\n",
    "import os\n",
    "import datetime\n",
    "import pickle\n",
    "import re\n",
    "import time"
   ]
  },
  {
   "cell_type": "code",
   "execution_count": 6,
   "metadata": {},
   "outputs": [
    {
     "name": "stdout",
     "output_type": "stream",
     "text": [
      "<class 'pandas.core.frame.DataFrame'>\n",
      "RangeIndex: 9278 entries, 0 to 9277\n",
      "Data columns (total 16 columns):\n",
      " #   Column                       Non-Null Count  Dtype         \n",
      "---  ------                       --------------  -----         \n",
      " 0   ID                           9278 non-null   object        \n",
      " 1   Title                        9278 non-null   object        \n",
      " 2   Type                         9278 non-null   object        \n",
      " 3   StartDate                    9278 non-null   datetime64[ns]\n",
      " 4   EndDate                      9278 non-null   object        \n",
      " 5   Text                         9278 non-null   object        \n",
      " 6   TextWordCount                9278 non-null   object        \n",
      " 7   PubTitle                     9278 non-null   object        \n",
      " 8   SourceType                   9278 non-null   object        \n",
      " 9   Year                         9278 non-null   int64         \n",
      " 10  Month                        9278 non-null   int64         \n",
      " 11  Newspaper                    9278 non-null   object        \n",
      " 12  RegSentsExpand               9278 non-null   object        \n",
      " 13  RegSentExpandLen             9278 non-null   int64         \n",
      " 14  NounChunkMatchFiltered       9278 non-null   int64         \n",
      " 15  NounChunkMatchWordsFiltered  9278 non-null   object        \n",
      "dtypes: datetime64[ns](1), int64(4), object(11)\n",
      "memory usage: 1.1+ MB\n",
      "None\n"
     ]
    }
   ],
   "source": [
    "# Reg relevant articles\n",
    "df=pd.read_pickle('/home/ec2-user/SageMaker/New Uncertainty/Update Data/RegSentsExpand_NounChunks_Update.pkl')\n",
    "print(df.info())"
   ]
  },
  {
   "cell_type": "code",
   "execution_count": 7,
   "metadata": {},
   "outputs": [
    {
     "name": "stdout",
     "output_type": "stream",
     "text": [
      "<class 'pandas.core.frame.DataFrame'>\n",
      "RangeIndex: 9278 entries, 0 to 9277\n",
      "Data columns (total 17 columns):\n",
      " #   Column                       Non-Null Count  Dtype         \n",
      "---  ------                       --------------  -----         \n",
      " 0   ID                           9278 non-null   object        \n",
      " 1   Title                        9278 non-null   object        \n",
      " 2   Type                         9278 non-null   object        \n",
      " 3   StartDate                    9278 non-null   datetime64[ns]\n",
      " 4   EndDate                      9278 non-null   object        \n",
      " 5   Text                         9278 non-null   object        \n",
      " 6   TextWordCount                9278 non-null   object        \n",
      " 7   PubTitle                     9278 non-null   object        \n",
      " 8   SourceType                   9278 non-null   object        \n",
      " 9   Year                         9278 non-null   int64         \n",
      " 10  Month                        9278 non-null   int64         \n",
      " 11  Newspaper                    9278 non-null   object        \n",
      " 12  RegSentsExpand               9278 non-null   object        \n",
      " 13  RegSentExpandLen             9278 non-null   int64         \n",
      " 14  NounChunkMatchFiltered       9278 non-null   int64         \n",
      " 15  NounChunkMatchWordsFiltered  9278 non-null   object        \n",
      " 16  RegRelevance                 5832 non-null   float64       \n",
      "dtypes: datetime64[ns](1), float64(1), int64(4), object(11)\n",
      "memory usage: 1.2+ MB\n",
      "None\n"
     ]
    }
   ],
   "source": [
    "# Use filtered noun chunk matches to define reg relevance\n",
    "df.loc[df['NounChunkMatchFiltered']!=0,'RegRelevance']=1\n",
    "print(df.info())"
   ]
  },
  {
   "cell_type": "code",
   "execution_count": 8,
   "metadata": {},
   "outputs": [
    {
     "name": "stdout",
     "output_type": "stream",
     "text": [
      "<class 'pandas.core.frame.DataFrame'>\n",
      "RangeIndex: 5832 entries, 0 to 5831\n",
      "Data columns (total 3 columns):\n",
      " #   Column            Non-Null Count  Dtype \n",
      "---  ------            --------------  ----- \n",
      " 0   ID                5832 non-null   int64 \n",
      " 1   UncertaintyCount  5832 non-null   int64 \n",
      " 2   UncertaintyWords  5832 non-null   object\n",
      "dtypes: int64(2), object(1)\n",
      "memory usage: 136.8+ KB\n",
      "None\n"
     ]
    }
   ],
   "source": [
    "# LM uncertainty scores\n",
    "LMuncertainty=pd.read_csv('/home/ec2-user/SageMaker/New Uncertainty/Update Data/LMuncertainty_Update.csv')\n",
    "print(LMuncertainty.info())"
   ]
  },
  {
   "cell_type": "code",
   "execution_count": 9,
   "metadata": {},
   "outputs": [
    {
     "name": "stdout",
     "output_type": "stream",
     "text": [
      "<class 'pandas.core.frame.DataFrame'>\n",
      "RangeIndex: 5832 entries, 0 to 5831\n",
      "Data columns (total 3 columns):\n",
      " #   Column            Non-Null Count  Dtype \n",
      "---  ------            --------------  ----- \n",
      " 0   ID                5832 non-null   object\n",
      " 1   UncertaintyCount  5832 non-null   int64 \n",
      " 2   UncertaintyWords  5832 non-null   object\n",
      "dtypes: int64(1), object(2)\n",
      "memory usage: 136.8+ KB\n",
      "None\n"
     ]
    }
   ],
   "source": [
    "LMuncertainty['ID']=LMuncertainty['ID'].astype('str')\n",
    "print(LMuncertainty.info())"
   ]
  },
  {
   "cell_type": "code",
   "execution_count": 10,
   "metadata": {},
   "outputs": [
    {
     "name": "stdout",
     "output_type": "stream",
     "text": [
      "<class 'pandas.core.frame.DataFrame'>\n",
      "Int64Index: 5832 entries, 0 to 5831\n",
      "Data columns (total 19 columns):\n",
      " #   Column                       Non-Null Count  Dtype         \n",
      "---  ------                       --------------  -----         \n",
      " 0   ID                           5832 non-null   object        \n",
      " 1   Title                        5832 non-null   object        \n",
      " 2   Type                         5832 non-null   object        \n",
      " 3   StartDate                    5832 non-null   datetime64[ns]\n",
      " 4   EndDate                      5832 non-null   object        \n",
      " 5   Text                         5832 non-null   object        \n",
      " 6   TextWordCount                5832 non-null   object        \n",
      " 7   PubTitle                     5832 non-null   object        \n",
      " 8   SourceType                   5832 non-null   object        \n",
      " 9   Year                         5832 non-null   int64         \n",
      " 10  Month                        5832 non-null   int64         \n",
      " 11  Newspaper                    5832 non-null   object        \n",
      " 12  RegSentsExpand               5832 non-null   object        \n",
      " 13  RegSentExpandLen             5832 non-null   int64         \n",
      " 14  NounChunkMatchFiltered       5832 non-null   int64         \n",
      " 15  NounChunkMatchWordsFiltered  5832 non-null   object        \n",
      " 16  RegRelevance                 5832 non-null   float64       \n",
      " 17  UncertaintyCount             5832 non-null   int64         \n",
      " 18  UncertaintyWords             5832 non-null   object        \n",
      "dtypes: datetime64[ns](1), float64(1), int64(5), object(12)\n",
      "memory usage: 911.2+ KB\n",
      "None\n"
     ]
    }
   ],
   "source": [
    "# Merge\n",
    "df2=df.merge(LMuncertainty,on='ID',how='right')\n",
    "print(df2.info())"
   ]
  },
  {
   "cell_type": "code",
   "execution_count": 11,
   "metadata": {},
   "outputs": [
    {
     "name": "stdout",
     "output_type": "stream",
     "text": [
      "<class 'pandas.core.frame.DataFrame'>\n",
      "RangeIndex: 5832 entries, 0 to 5831\n",
      "Data columns (total 6 columns):\n",
      " #   Column          Non-Null Count  Dtype \n",
      "---  ------          --------------  ----- \n",
      " 0   ID              5832 non-null   object\n",
      " 1   TotalWordCount  5832 non-null   int64 \n",
      " 2   GIposCount      5832 non-null   int64 \n",
      " 3   GInegCount      5832 non-null   int64 \n",
      " 4   GIposWords      5832 non-null   object\n",
      " 5   GInegWords      5832 non-null   object\n",
      "dtypes: int64(3), object(3)\n",
      "memory usage: 273.5+ KB\n",
      "None\n"
     ]
    }
   ],
   "source": [
    "# GI sentiments\n",
    "GIsentiments=pd.read_csv('/home/ec2-user/SageMaker/New Uncertainty/Update Data/GIsentiments_Update.csv')\n",
    "GIsentiments['ID']=GIsentiments['ID'].astype('str')\n",
    "print(GIsentiments.info())"
   ]
  },
  {
   "cell_type": "code",
   "execution_count": 12,
   "metadata": {},
   "outputs": [
    {
     "name": "stdout",
     "output_type": "stream",
     "text": [
      "<class 'pandas.core.frame.DataFrame'>\n",
      "RangeIndex: 5832 entries, 0 to 5831\n",
      "Data columns (total 5 columns):\n",
      " #   Column       Non-Null Count  Dtype \n",
      "---  ------       --------------  ----- \n",
      " 0   ID           5832 non-null   object\n",
      " 1   LSDposCount  5832 non-null   int64 \n",
      " 2   LSDnegCount  5832 non-null   int64 \n",
      " 3   LSDposWords  5832 non-null   object\n",
      " 4   LSDnegWords  5832 non-null   object\n",
      "dtypes: int64(2), object(3)\n",
      "memory usage: 227.9+ KB\n",
      "None\n"
     ]
    }
   ],
   "source": [
    "# LSD sentiments\n",
    "LSDsentiments=pd.read_csv('/home/ec2-user/SageMaker/New Uncertainty/Update Data/LSDsentiments_Update.csv')\n",
    "LSDsentiments['ID']=LSDsentiments['ID'].astype('str')\n",
    "print(LSDsentiments.info())"
   ]
  },
  {
   "cell_type": "code",
   "execution_count": 13,
   "metadata": {},
   "outputs": [
    {
     "name": "stdout",
     "output_type": "stream",
     "text": [
      "<class 'pandas.core.frame.DataFrame'>\n",
      "RangeIndex: 5832 entries, 0 to 5831\n",
      "Data columns (total 5 columns):\n",
      " #   Column      Non-Null Count  Dtype \n",
      "---  ------      --------------  ----- \n",
      " 0   ID          5832 non-null   object\n",
      " 1   LMposCount  5832 non-null   int64 \n",
      " 2   LMnegCount  5832 non-null   int64 \n",
      " 3   LMposWords  5832 non-null   object\n",
      " 4   LMnegWords  5832 non-null   object\n",
      "dtypes: int64(2), object(3)\n",
      "memory usage: 227.9+ KB\n",
      "None\n"
     ]
    }
   ],
   "source": [
    "# LM sentiments\n",
    "LMsentiments=pd.read_csv('/home/ec2-user/SageMaker/New Uncertainty/Update Data/LMsentiments_Update.csv')\n",
    "LMsentiments['ID']=LMsentiments['ID'].astype('str')\n",
    "print(LMsentiments.info())"
   ]
  },
  {
   "cell_type": "code",
   "execution_count": 14,
   "metadata": {},
   "outputs": [
    {
     "name": "stdout",
     "output_type": "stream",
     "text": [
      "<class 'pandas.core.frame.DataFrame'>\n",
      "Int64Index: 5832 entries, 0 to 5831\n",
      "Data columns (total 32 columns):\n",
      " #   Column                       Non-Null Count  Dtype         \n",
      "---  ------                       --------------  -----         \n",
      " 0   ID                           5832 non-null   object        \n",
      " 1   Title                        5832 non-null   object        \n",
      " 2   Type                         5832 non-null   object        \n",
      " 3   StartDate                    5832 non-null   datetime64[ns]\n",
      " 4   EndDate                      5832 non-null   object        \n",
      " 5   Text                         5832 non-null   object        \n",
      " 6   TextWordCount                5832 non-null   object        \n",
      " 7   PubTitle                     5832 non-null   object        \n",
      " 8   SourceType                   5832 non-null   object        \n",
      " 9   Year                         5832 non-null   int64         \n",
      " 10  Month                        5832 non-null   int64         \n",
      " 11  Newspaper                    5832 non-null   object        \n",
      " 12  RegSentsExpand               5832 non-null   object        \n",
      " 13  RegSentExpandLen             5832 non-null   int64         \n",
      " 14  NounChunkMatchFiltered       5832 non-null   int64         \n",
      " 15  NounChunkMatchWordsFiltered  5832 non-null   object        \n",
      " 16  RegRelevance                 5832 non-null   float64       \n",
      " 17  UncertaintyCount             5832 non-null   int64         \n",
      " 18  UncertaintyWords             5832 non-null   object        \n",
      " 19  TotalWordCount               5832 non-null   int64         \n",
      " 20  GIposCount                   5832 non-null   int64         \n",
      " 21  GInegCount                   5832 non-null   int64         \n",
      " 22  GIposWords                   5832 non-null   object        \n",
      " 23  GInegWords                   5832 non-null   object        \n",
      " 24  LMposCount                   5832 non-null   int64         \n",
      " 25  LMnegCount                   5832 non-null   int64         \n",
      " 26  LMposWords                   5832 non-null   object        \n",
      " 27  LMnegWords                   5832 non-null   object        \n",
      " 28  LSDposCount                  5832 non-null   int64         \n",
      " 29  LSDnegCount                  5832 non-null   int64         \n",
      " 30  LSDposWords                  5832 non-null   object        \n",
      " 31  LSDnegWords                  5832 non-null   object        \n",
      "dtypes: datetime64[ns](1), float64(1), int64(12), object(18)\n",
      "memory usage: 1.5+ MB\n",
      "None\n"
     ]
    }
   ],
   "source": [
    "# Merge\n",
    "df3=df2.merge(GIsentiments,on='ID',how='left').\\\n",
    "    merge(LMsentiments,on='ID',how='left').\\\n",
    "    merge(LSDsentiments,on='ID',how='left')\n",
    "print(df3.info())"
   ]
  },
  {
   "cell_type": "code",
   "execution_count": 15,
   "metadata": {},
   "outputs": [
    {
     "name": "stdout",
     "output_type": "stream",
     "text": [
      "<class 'pandas.core.frame.DataFrame'>\n",
      "Int64Index: 5832 entries, 0 to 5831\n",
      "Data columns (total 32 columns):\n",
      " #   Column                       Non-Null Count  Dtype         \n",
      "---  ------                       --------------  -----         \n",
      " 0   ID                           5832 non-null   object        \n",
      " 1   Title                        5832 non-null   object        \n",
      " 2   Type                         5832 non-null   object        \n",
      " 3   StartDate                    5832 non-null   datetime64[ns]\n",
      " 4   EndDate                      5832 non-null   object        \n",
      " 5   Text                         5832 non-null   object        \n",
      " 6   TextWordCount                5832 non-null   object        \n",
      " 7   PubTitle                     5832 non-null   object        \n",
      " 8   SourceType                   5832 non-null   object        \n",
      " 9   Year                         5832 non-null   int64         \n",
      " 10  Month                        5832 non-null   int64         \n",
      " 11  Newspaper                    5832 non-null   object        \n",
      " 12  RegSentsExpand               5832 non-null   object        \n",
      " 13  RegSentExpandLen             5832 non-null   int64         \n",
      " 14  NounChunkMatchFiltered       5832 non-null   int64         \n",
      " 15  NounChunkMatchWordsFiltered  5832 non-null   object        \n",
      " 16  RegRelevance                 5832 non-null   float64       \n",
      " 17  UncertaintyCount             5832 non-null   int64         \n",
      " 18  UncertaintyWords             5832 non-null   object        \n",
      " 19  TotalWordCount               5832 non-null   int64         \n",
      " 20  GIposCount                   5832 non-null   int64         \n",
      " 21  GInegCount                   5832 non-null   int64         \n",
      " 22  GIposWords                   5832 non-null   object        \n",
      " 23  GInegWords                   5832 non-null   object        \n",
      " 24  LMposCount                   5832 non-null   int64         \n",
      " 25  LMnegCount                   5832 non-null   int64         \n",
      " 26  LMposWords                   5832 non-null   object        \n",
      " 27  LMnegWords                   5832 non-null   object        \n",
      " 28  LSDposCount                  5832 non-null   int64         \n",
      " 29  LSDnegCount                  5832 non-null   int64         \n",
      " 30  LSDposWords                  5832 non-null   object        \n",
      " 31  LSDnegWords                  5832 non-null   object        \n",
      "dtypes: datetime64[ns](1), float64(1), int64(12), object(18)\n",
      "memory usage: 1.5+ MB\n",
      "None\n"
     ]
    }
   ],
   "source": [
    "# Reg relevant articles only\n",
    "df_reg=df3[df3['RegRelevance']==1]\n",
    "print(df_reg.info())"
   ]
  },
  {
   "cell_type": "code",
   "execution_count": 16,
   "metadata": {},
   "outputs": [
    {
     "name": "stdout",
     "output_type": "stream",
     "text": [
      "<class 'pandas.core.frame.DataFrame'>\n",
      "Int64Index: 5832 entries, 0 to 5831\n",
      "Data columns (total 36 columns):\n",
      " #   Column                       Non-Null Count  Dtype         \n",
      "---  ------                       --------------  -----         \n",
      " 0   ID                           5832 non-null   object        \n",
      " 1   Title                        5832 non-null   object        \n",
      " 2   Type                         5832 non-null   object        \n",
      " 3   StartDate                    5832 non-null   datetime64[ns]\n",
      " 4   EndDate                      5832 non-null   object        \n",
      " 5   Text                         5832 non-null   object        \n",
      " 6   TextWordCount                5832 non-null   object        \n",
      " 7   PubTitle                     5832 non-null   object        \n",
      " 8   SourceType                   5832 non-null   object        \n",
      " 9   Year                         5832 non-null   int64         \n",
      " 10  Month                        5832 non-null   int64         \n",
      " 11  Newspaper                    5832 non-null   object        \n",
      " 12  RegSentsExpand               5832 non-null   object        \n",
      " 13  RegSentExpandLen             5832 non-null   int64         \n",
      " 14  NounChunkMatchFiltered       5832 non-null   int64         \n",
      " 15  NounChunkMatchWordsFiltered  5832 non-null   object        \n",
      " 16  RegRelevance                 5832 non-null   float64       \n",
      " 17  UncertaintyCount             5832 non-null   int64         \n",
      " 18  UncertaintyWords             5832 non-null   object        \n",
      " 19  TotalWordCount               5832 non-null   int64         \n",
      " 20  GIposCount                   5832 non-null   int64         \n",
      " 21  GInegCount                   5832 non-null   int64         \n",
      " 22  GIposWords                   5832 non-null   object        \n",
      " 23  GInegWords                   5832 non-null   object        \n",
      " 24  LMposCount                   5832 non-null   int64         \n",
      " 25  LMnegCount                   5832 non-null   int64         \n",
      " 26  LMposWords                   5832 non-null   object        \n",
      " 27  LMnegWords                   5832 non-null   object        \n",
      " 28  LSDposCount                  5832 non-null   int64         \n",
      " 29  LSDnegCount                  5832 non-null   int64         \n",
      " 30  LSDposWords                  5832 non-null   object        \n",
      " 31  LSDnegWords                  5832 non-null   object        \n",
      " 32  UncertaintyScore             5832 non-null   float64       \n",
      " 33  GIscore                      5832 non-null   float64       \n",
      " 34  LSDscore                     5832 non-null   float64       \n",
      " 35  LMscore                      5832 non-null   float64       \n",
      "dtypes: datetime64[ns](1), float64(5), int64(12), object(18)\n",
      "memory usage: 1.6+ MB\n",
      "None\n"
     ]
    }
   ],
   "source": [
    "# Calculate scores\n",
    "df_reg['UncertaintyScore']=df_reg['UncertaintyCount']/df_reg['TotalWordCount']*100\n",
    "for dic in ['GI','LSD','LM']:\n",
    "    df_reg[dic+'score']=(df_reg[dic+'posCount']-df_reg[dic+'negCount'])/df_reg['TotalWordCount']*100\n",
    "print(df_reg.info())"
   ]
  },
  {
   "cell_type": "code",
   "execution_count": 13,
   "metadata": {},
   "outputs": [],
   "source": [
    "# Export all data\n",
    "df_reg.to_pickle('/home/ec2-user/SageMaker/New Uncertainty/Update Data/RegRelevant_ArticleSentimentWordsScores_Update.pkl')"
   ]
  },
  {
   "cell_type": "code",
   "execution_count": 18,
   "metadata": {},
   "outputs": [
    {
     "name": "stdout",
     "output_type": "stream",
     "text": [
      "<class 'pandas.core.frame.DataFrame'>\n",
      "Int64Index: 5832 entries, 0 to 5831\n",
      "Data columns (total 7 columns):\n",
      " #   Column            Non-Null Count  Dtype         \n",
      "---  ------            --------------  -----         \n",
      " 0   ID                5832 non-null   object        \n",
      " 1   StartDate         5832 non-null   datetime64[ns]\n",
      " 2   Newspaper         5832 non-null   object        \n",
      " 3   UncertaintyScore  5832 non-null   float64       \n",
      " 4   GIscore           5832 non-null   float64       \n",
      " 5   LMscore           5832 non-null   float64       \n",
      " 6   LSDscore          5832 non-null   float64       \n",
      "dtypes: datetime64[ns](1), float64(4), object(2)\n",
      "memory usage: 364.5+ KB\n",
      "None\n"
     ]
    }
   ],
   "source": [
    "# Export sentiment scores only\n",
    "sentimentScores=df_reg[['ID','StartDate','Newspaper','UncertaintyScore','GIscore','LMscore','LSDscore']]\n",
    "print(sentimentScores.info())"
   ]
  },
  {
   "cell_type": "code",
   "execution_count": 15,
   "metadata": {},
   "outputs": [],
   "source": [
    "sentimentScores.to_csv('/home/ec2-user/SageMaker/New Uncertainty/Update Data/RegRelevant_ArticleSentimentScores_Update.csv',index=False)"
   ]
  },
  {
   "cell_type": "code",
   "execution_count": null,
   "metadata": {},
   "outputs": [],
   "source": []
  }
 ],
 "metadata": {
  "kernelspec": {
   "display_name": "my_py",
   "language": "python",
   "name": "my_py"
  },
  "language_info": {
   "codemirror_mode": {
    "name": "ipython",
    "version": 3
   },
   "file_extension": ".py",
   "mimetype": "text/x-python",
   "name": "python",
   "nbconvert_exporter": "python",
   "pygments_lexer": "ipython3",
   "version": "3.6.10"
  }
 },
 "nbformat": 4,
 "nbformat_minor": 4
}
