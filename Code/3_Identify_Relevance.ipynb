{
 "cells": [
  {
   "cell_type": "code",
   "execution_count": 1,
   "metadata": {},
   "outputs": [
    {
     "data": {
      "text/plain": [
       "['/home/ec2-user/nltk_data',\n",
       " '/home/ec2-user/SageMaker/.conda/envs/my_py/nltk_data',\n",
       " '/home/ec2-user/SageMaker/.conda/envs/my_py/share/nltk_data',\n",
       " '/home/ec2-user/SageMaker/.conda/envs/my_py/lib/nltk_data',\n",
       " '/usr/share/nltk_data',\n",
       " '/usr/local/share/nltk_data',\n",
       " '/usr/lib/nltk_data',\n",
       " '/usr/local/lib/nltk_data']"
      ]
     },
     "execution_count": 1,
     "metadata": {},
     "output_type": "execute_result"
    }
   ],
   "source": [
    "import pandas as pd\n",
    "import os\n",
    "import datetime\n",
    "import pickle\n",
    "import re\n",
    "import time\n",
    "from collections import Counter\n",
    "import numpy as np\n",
    "\n",
    "import nltk\n",
    "nltk.data.path"
   ]
  },
  {
   "cell_type": "code",
   "execution_count": 2,
   "metadata": {},
   "outputs": [],
   "source": [
    "from nltk.tokenize import sent_tokenize, word_tokenize\n",
    "#nltk.download('stopwords')\n",
    "from nltk.corpus import stopwords"
   ]
  },
  {
   "cell_type": "code",
   "execution_count": 3,
   "metadata": {},
   "outputs": [],
   "source": [
    "import spacy\n",
    "nlp = spacy.load('en_core_web_sm', disable=['parser', 'ner'])"
   ]
  },
  {
   "cell_type": "code",
   "execution_count": 4,
   "metadata": {},
   "outputs": [],
   "source": [
    "import random"
   ]
  },
  {
   "cell_type": "code",
   "execution_count": 5,
   "metadata": {},
   "outputs": [],
   "source": [
    "from sklearn.feature_extraction.text import CountVectorizer\n",
    "from sklearn.feature_extraction.text import TfidfTransformer\n",
    "from sklearn.feature_extraction.text import TfidfVectorizer"
   ]
  },
  {
   "cell_type": "code",
   "execution_count": 6,
   "metadata": {},
   "outputs": [],
   "source": [
    "# Define a text preprocessor (lemmatizer)\n",
    "def my_preprocessor(text):\n",
    "    doc=nlp(text.lower())\n",
    "    lemmas=[token.lemma_ for token in doc if not token.is_punct | token.is_space]\n",
    "    texts_out=\" \".join(lemmas)\n",
    "    return texts_out"
   ]
  },
  {
   "cell_type": "code",
   "execution_count": 7,
   "metadata": {},
   "outputs": [
    {
     "name": "stdout",
     "output_type": "stream",
     "text": [
      "<class 'pandas.core.frame.DataFrame'>\n",
      "RangeIndex: 10684 entries, 0 to 10683\n",
      "Data columns (total 5 columns):\n",
      " #   Column       Non-Null Count  Dtype  \n",
      "---  ------       --------------  -----  \n",
      " 0   nc_code      10684 non-null  int64  \n",
      " 1   noun_chunks  10684 non-null  object \n",
      " 2   rin          10684 non-null  object \n",
      " 3   area         10684 non-null  object \n",
      " 4   area_no      10684 non-null  float64\n",
      "dtypes: float64(1), int64(1), object(3)\n",
      "memory usage: 417.5+ KB\n",
      "None\n"
     ]
    }
   ],
   "source": [
    "# Use the dictionary of regulatory noun chunks\n",
    "df_nounchunks=pd.read_csv('/home/ec2-user/SageMaker/New Uncertainty/DictionaryOfRegulatoryNounChunks.csv')\n",
    "print(df_nounchunks.info())"
   ]
  },
  {
   "cell_type": "code",
   "execution_count": 8,
   "metadata": {},
   "outputs": [
    {
     "name": "stdout",
     "output_type": "stream",
     "text": [
      "10684 ['1 capital', '10 guideline', '10 specie', '10 usc', '103 regulation', '11 plant', '11 usc', '12 cfr', '12 specie', '13 plant', '15 cfr', '16 compound', '16 plant', '18 plant', '18 u.s.c', '180-day exclusivity', '1983 amendment', '1988 amendment', '1990 farm bill', '1993 provision']\n"
     ]
    }
   ],
   "source": [
    "nounchunks=df_nounchunks['noun_chunks'].tolist()\n",
    "print(len(nounchunks),nounchunks[0:20])"
   ]
  },
  {
   "cell_type": "code",
   "execution_count": 9,
   "metadata": {},
   "outputs": [
    {
     "name": "stdout",
     "output_type": "stream",
     "text": [
      "<class 'pandas.core.frame.DataFrame'>\n",
      "RangeIndex: 9278 entries, 0 to 9277\n",
      "Data columns (total 14 columns):\n",
      " #   Column            Non-Null Count  Dtype         \n",
      "---  ------            --------------  -----         \n",
      " 0   ID                9278 non-null   object        \n",
      " 1   Title             9278 non-null   object        \n",
      " 2   Type              9278 non-null   object        \n",
      " 3   StartDate         9278 non-null   datetime64[ns]\n",
      " 4   EndDate           9278 non-null   object        \n",
      " 5   Text              9278 non-null   object        \n",
      " 6   TextWordCount     9278 non-null   object        \n",
      " 7   PubTitle          9278 non-null   object        \n",
      " 8   SourceType        9278 non-null   object        \n",
      " 9   Year              9278 non-null   int64         \n",
      " 10  Month             9278 non-null   int64         \n",
      " 11  Newspaper         9278 non-null   object        \n",
      " 12  RegSentsExpand    9278 non-null   object        \n",
      " 13  RegSentExpandLen  9278 non-null   int64         \n",
      "dtypes: datetime64[ns](1), int64(3), object(10)\n",
      "memory usage: 1014.9+ KB\n",
      "None\n"
     ]
    }
   ],
   "source": [
    "# Import expanded reg sentences\n",
    "df_regSentsExpand=pd.read_pickle('/home/ec2-user/SageMaker/New Uncertainty/Update Data/allRegSentsExpand_Update.pkl')\n",
    "print(df_regSentsExpand.info())"
   ]
  },
  {
   "cell_type": "code",
   "execution_count": 10,
   "metadata": {},
   "outputs": [
    {
     "name": "stdout",
     "output_type": "stream",
     "text": [
      "9278 Matsuyama hit just 22 of 56 fairways and just 37 of 72 greens in regulation and still managed a 2-under total and a tie for third. ■ I wouldn't mind having Hideki Matsuyama's short game for a weekend. He got up and down from everywhere and was tops in strokes gained around the green.\n"
     ]
    }
   ],
   "source": [
    "# Convert reg sentences to list\n",
    "regSentsExpand=df_regSentsExpand['RegSentsExpand'].tolist()\n",
    "print(len(regSentsExpand), regSentsExpand[0])"
   ]
  },
  {
   "cell_type": "code",
   "execution_count": 11,
   "metadata": {},
   "outputs": [
    {
     "name": "stdout",
     "output_type": "stream",
     "text": [
      "The low attendance is caused by several factors. Udvar-Hazy and the zoo are open daily, but the other sites are on five-day schedules. Government coronavirus regulations require museums to limit attendance to a small percentage of capacity, and museum officials have chosen to limit hours of operation to allow for cleaning.\n",
      "the low attendance be cause by several factor udvar hazy and the zoo be open daily but the other site be on five day schedule government coronavirus regulation require museum to limit attendance to a small percentage of capacity and museum official have choose to limit hour of operation to allow for clean\n"
     ]
    }
   ],
   "source": [
    "print(regSentsExpand[4031])\n",
    "print(my_preprocessor(regSentsExpand[4031]))"
   ]
  },
  {
   "cell_type": "code",
   "execution_count": 12,
   "metadata": {},
   "outputs": [],
   "source": [
    "# Preprocess all expanded reg sentences\n",
    "regSentsExpand_lemmatized=[my_preprocessor(sent) for sent in regSentsExpand]"
   ]
  },
  {
   "cell_type": "code",
   "execution_count": 13,
   "metadata": {},
   "outputs": [
    {
     "name": "stdout",
     "output_type": "stream",
     "text": [
      "9278 matsuyama hit just 22 of 56 fairway and just 37 of 72 green in regulation and still manage a 2-under total and a tie for third ■ i would not mind have hideki matsuyama 's short game for a weekend -PRON- get up and down from everywhere and be top in stroke gain around the green\n"
     ]
    }
   ],
   "source": [
    "print(len(regSentsExpand_lemmatized), regSentsExpand_lemmatized[0])"
   ]
  },
  {
   "cell_type": "code",
   "execution_count": 14,
   "metadata": {},
   "outputs": [
    {
     "name": "stdout",
     "output_type": "stream",
     "text": [
      "Matsuyama hit just 22 of 56 fairways and just 37 of 72 greens in regulation and still managed a 2-under total and a tie for third. ■ I wouldn't mind having Hideki Matsuyama's short game for a weekend. He got up and down from everywhere and was tops in strokes gained around the green. matsuyama hit just 22 of 56 fairway and just 37 of 72 green in regulation and still manage a 2-under total and a tie for third ■ i would not mind have hideki matsuyama 's short game for a weekend -PRON- get up and down from everywhere and be top in stroke gain around the green\n"
     ]
    }
   ],
   "source": [
    "print(regSentsExpand[0],regSentsExpand_lemmatized[0])"
   ]
  },
  {
   "cell_type": "code",
   "execution_count": 15,
   "metadata": {},
   "outputs": [],
   "source": [
    "# Compile a new re pattern with regulatory noun chunks\n",
    "pattern=re.compile(r\"\\b\"+r\"\\b|\\b\".join(map(re.escape, nounchunks))+r\"\\b\")"
   ]
  },
  {
   "cell_type": "code",
   "execution_count": 16,
   "metadata": {},
   "outputs": [
    {
     "name": "stdout",
     "output_type": "stream",
     "text": [
      "--- 252.3126175403595 seconds ---\n"
     ]
    }
   ],
   "source": [
    "# Match noun chunks in all expanded reg sentences\n",
    "start_time = time.time()\n",
    "\n",
    "nounchunk_match=[]\n",
    "nounchunk_match_words=[]\n",
    "for sent in regSentsExpand_lemmatized:\n",
    "    match_words=[]\n",
    "    match=0\n",
    "    find=pattern.findall(sent)\n",
    "    if len(find)>0:\n",
    "        match_words=find\n",
    "        match=len(find)\n",
    "    nounchunk_match.append(match)\n",
    "    nounchunk_match_words.append(match_words)\n",
    "    \n",
    "print(\"--- %s seconds ---\" % (time.time() - start_time))"
   ]
  },
  {
   "cell_type": "code",
   "execution_count": 17,
   "metadata": {},
   "outputs": [
    {
     "name": "stdout",
     "output_type": "stream",
     "text": [
      "9278 9278\n",
      "['u.s government'] 1\n"
     ]
    }
   ],
   "source": [
    "print(len(nounchunk_match), len(nounchunk_match_words))\n",
    "print(nounchunk_match_words[-1], nounchunk_match[-1])"
   ]
  },
  {
   "cell_type": "code",
   "execution_count": 18,
   "metadata": {},
   "outputs": [],
   "source": [
    "# Export results: matched noun chunks in expanded reg sentences\n",
    "df_regSentsExpand['NounChunkMatchFiltered']=nounchunk_match\n",
    "df_regSentsExpand['NounChunkMatchWordsFiltered']=nounchunk_match_words"
   ]
  },
  {
   "cell_type": "code",
   "execution_count": 19,
   "metadata": {},
   "outputs": [
    {
     "name": "stdout",
     "output_type": "stream",
     "text": [
      "           ID                                              Title  Type  \\\n",
      "0  2438846341                1-vs.-2 duel ended much too quickly  News   \n",
      "1  2438796738  Bruins eliminated in a double-overtime thrille...  News   \n",
      "2  2439088192  Crowded field vies for the Fourth District pri...  News   \n",
      "3  2438846397      Furious final hours for an unparalled primary  News   \n",
      "4  2439087001  In battle for the future, Markey and Kennedy r...  News   \n",
      "\n",
      "   StartDate     EndDate                                               Text  \\\n",
      "0 2020-09-01  2020-09-01  I was rooting for Jon Rahm and Dustin Johnson ...   \n",
      "1 2020-09-01  2020-09-01  This was the longest and likely, the strangest...   \n",
      "2 2020-09-01  2020-09-01  Voters from Brookline to Fall River cast ballo...   \n",
      "3 2020-09-01  2020-09-01  On the eve of an unprecedented primary,empty b...   \n",
      "4 2020-09-01  2020-09-01  For the first time in Massachusetts political ...   \n",
      "\n",
      "  TextWordCount               PubTitle  SourceType  Year  Month     Newspaper  \\\n",
      "0           580           Boston Globe  Newspapers  2020      9  Boston Globe   \n",
      "1          1132  Boston Globe (Online)  Newspapers  2020      9  Boston Globe   \n",
      "2          1346  Boston Globe (Online)  Newspapers  2020      9  Boston Globe   \n",
      "3          1158           Boston Globe  Newspapers  2020      9  Boston Globe   \n",
      "4           690  Boston Globe (Online)  Newspapers  2020      9  Boston Globe   \n",
      "\n",
      "                                      RegSentsExpand  RegSentExpandLen  \\\n",
      "0  Matsuyama hit just 22 of 56 fairways and just ...               284   \n",
      "1  Shortly before, he had broken Point's stick wi...              1180   \n",
      "2  Jake Auchincloss, a Newton city councilor and ...               781   \n",
      "3  Early and mail-in voting adds uncertainty to a...               620   \n",
      "4  For a politician long identified with wonky is...               425   \n",
      "\n",
      "   NounChunkMatchFiltered NounChunkMatchWordsFiltered  \n",
      "0                       0                          []  \n",
      "1                       0                          []  \n",
      "2                       0                          []  \n",
      "3                       0                          []  \n",
      "4                       0                          []  \n"
     ]
    }
   ],
   "source": [
    "print(df_regSentsExpand.head())"
   ]
  },
  {
   "cell_type": "code",
   "execution_count": 20,
   "metadata": {},
   "outputs": [
    {
     "name": "stdout",
     "output_type": "stream",
     "text": [
      "<class 'pandas.core.frame.DataFrame'>\n",
      "Int64Index: 5832 entries, 5 to 9277\n",
      "Data columns (total 16 columns):\n",
      " #   Column                       Non-Null Count  Dtype         \n",
      "---  ------                       --------------  -----         \n",
      " 0   ID                           5832 non-null   object        \n",
      " 1   Title                        5832 non-null   object        \n",
      " 2   Type                         5832 non-null   object        \n",
      " 3   StartDate                    5832 non-null   datetime64[ns]\n",
      " 4   EndDate                      5832 non-null   object        \n",
      " 5   Text                         5832 non-null   object        \n",
      " 6   TextWordCount                5832 non-null   object        \n",
      " 7   PubTitle                     5832 non-null   object        \n",
      " 8   SourceType                   5832 non-null   object        \n",
      " 9   Year                         5832 non-null   int64         \n",
      " 10  Month                        5832 non-null   int64         \n",
      " 11  Newspaper                    5832 non-null   object        \n",
      " 12  RegSentsExpand               5832 non-null   object        \n",
      " 13  RegSentExpandLen             5832 non-null   int64         \n",
      " 14  NounChunkMatchFiltered       5832 non-null   int64         \n",
      " 15  NounChunkMatchWordsFiltered  5832 non-null   object        \n",
      "dtypes: datetime64[ns](1), int64(4), object(11)\n",
      "memory usage: 774.6+ KB\n",
      "None\n"
     ]
    }
   ],
   "source": [
    "print(df_regSentsExpand[df_regSentsExpand['NounChunkMatchFiltered']>0].info())"
   ]
  },
  {
   "cell_type": "code",
   "execution_count": 21,
   "metadata": {},
   "outputs": [
    {
     "name": "stdout",
     "output_type": "stream",
     "text": [
      "The National Oceanic and Atmospheric Administration said it established a “dynamic management area” south of Nantucket where “an aggregation of right whales” was seen on Monday. Federal fisheries regulators are asking mariners to either go slow or find a route around an area south of Nantucket where groups of right whales have recently been spotted as the endangered mammals migrate. ['national oceanic', 'atmospheric administration', 'management area', 'right whale', 'federal fishery', 'right whale']\n",
      "The 50,000 home health aides who work for independent agencies, on the other hand, have less oversight, lower pay, and less political power to demand protective equipment and hazard pay, she said. Four Black workers grace 13 billboards bearing the messages: “Black homecare workers are leading the fight against COVID — and racism” and “Homecare workers are fighting to be seen and heard because our lives matter. ”The goal is to prod elected officials in Massachusetts to invest in home care and to better regulate nonunion home-care agencies, said Dana Alas, organizing director for 1199SEIU United Healthcare Workers East, which is part of the Service Employees International Union and represents 50,000 personal care attendants whose program is overseen and paid for by the state. ['home health', 'home care', 'home care']\n",
      "The National Oceanic and Atmospheric Administration said it established a “dynamic management area\" south of Nantucket where “an aggregation of right whales\" was seen on Monday. Federal fisheries regulators are asking mariners to either go slow or find a route around an area south of Nantucket where groups of right whales have recently been spotted as the endangered mammals migrate. ['national oceanic', 'atmospheric administration', 'management area', 'right whale', 'federal fishery', 'right whale']\n",
      "The 50,000 home health aides who work for independent agencies, on the other hand, have less oversight, lower pay, and less political power to demand protective equipment and hazard pay, she said. Four Black workers grace 13 billboards bearing the messages: “Black homecare workers are leading the fight against COVID — and racism\" and “Homecare workers are fighting to be seen and heard because our lives matter. \"The goal is to prod elected officials in Massachusetts to invest in home care and to better regulate nonunion home care agencies, said Dana Alas, organizing director for 1199SEIU United Healthcare Workers East, which is part of the Service Employees International Union and represents 50,000 personal care attendants whose program is overseen and paid for by the state. ['home health', 'home care', 'home care']\n",
      "The former employee shared these concerns with the facility's executive director, the letter said, but “the concerns were not addressed. Its website says its offers concierge services, a full service salon, and a dining room with solarium. Landmark officials did not return calls from the Globe. The locks, which had been installed on several residents' doors, were supposed to protect residents from coronavirus, families were told, and inspectors said they were removed at some point in July. State elder affairs officials said that the facility's failure to comply with state regulations presents “a threat to the health, safety or welfare of its residents. But locks, considered “restraints” under state regulations, are forbidden, officials said, and raised concerns that a resident could have an emergency while locked inside. The phone rang and rang but no one picked up. \" Regulators visited Landmark at Longwood after receiving a complaint from a former employee, who cited a litany of alleged abuses, including the locked doors, medication errors, missing drugs, missing resident belongings, and verbal abuse of residents. ”It also ordered immediate corrective action -- a nurse must evaluate the skills of everyone providing personal care or dispensing of medication '”including assurance that each is capable of demonstrating appropriate infection control technique,” and the facility must a plan to screen all visitors for COVID.Landmark at Longwood has reported eight positive cases of COVID-19 -- all before June 17. ”Based on those findings, the facility may not accept new residents until state officials determine the facility is “in full compliance...with all applicable laws and regulations. ['former employee', 'executive director', 'state regulation', 'state regulation', 'former employee', 'corrective action', 'state official']\n",
      "It's a strange way for a country to run a drug regulatory system,” he said, “where the average doctor and average citizen has to turn on CNN to find out what the truth is.” And even if the Food and Drug Administration does everything right, many people may reject the vaccine anyway if they have lost trust in the agency. The FDA already may have created a “damned-if-you-do, damned-if-you-don't” situation, said Dr. Jerry Avorn, codirector of the Program on Regulation, Therapeutics, and Law at Harvard Medical School. “ But providing objective answers to scientific questions used to be the FDA's role. “ If you end up with a good vaccine but people mistrust it,” Avorn said, “then you've won the first battle but you're losing the war. ['regulatory system', 'food and drug administration']\n",
      "If you end up with a good vaccine but people mistrust it,\" Avorn said, “then you've won the first battle but you're losing the war.\" The FDA already may have created a “damned-if-you-do, damned-if-you-don't\" situation, said Dr. Jerry Avorn, codirector of the Program on Regulation, Therapeutics, and Law at Harvard Medical School. “ Felice J. Freyer can be reached at felice.freyer@globe.com. And even if the Food and Drug Administration does everything right, many people may reject the vaccine anyway if they have lost trust in the agency. But providing objective answers to scientific questions used to be the FDA's role. “ It's a strange way for a country to run a drug regulatory system,\" he said, “where the average doctor and average citizen has to turn on CNN to find out what the truth is.\" ['food and drug administration', 'regulatory system']\n",
      "If you end up with a good vaccine but people mistrust it,\" Avorn said, “then you've won the first battle but you're losing the war. The FDA already may have created a “damned-if-you-do, damned-if-you-don't\" situation, said Dr. Jerry Avorn, codirector of the Program on Regulation, Therapeutics, and Law at Harvard Medical School. “ Felice J. Freyer can be reached at felice.freyer@globe.com. And even if the Food and Drug Administration does everything right, many people may reject the vaccine anyway if they have lost trust in the agency. But providing objective answers to scientific questions used to be the FDA's role. “ It's a strange way for a country to run a drug regulatory system,\" he said, “where the average doctor and average citizen has to turn on CNN to find out what the truth is.\" ['food and drug administration', 'regulatory system']\n",
      "The former employee shared these concerns with the facility's executive director, the letter said, but “the concerns were not addressed. \"Based on those findings, the facility may not accept new residents until state officials determine the facility is “in full compliance . Its website says its offers concierge services, a full service salon, and a dining room with solarium. \"It also ordered immediate corrective action -- a nurse must evaluate the skills of everyone providing personal care or dispensing of medication \"'including assurance that each is capable of demonstrating appropriate infection control technique,\" and the facility must a plan to screen all visitors for COVID.Landmark at Longwood has reported cases of COVID-19 to the state, but not the exact number, according to the elder affairs website. Landmark officials did not return calls from the Globe. \"The locks, which had been installed on several residents' doors, were supposed to protect residents from coronavirus, families were told, and inspectors said they were removed at some point in July. with all applicable laws and regulations. State elder affairs officials said that the facility's failure to comply with state regulations presents “a threat to the health, safety or welfare of its residents. The phone rang and rang but no one picked up. \" Regulators visited Landmark at Longwood after receiving a complaint from a former employee, who cited a litany of alleged abuses, including the locked doors, medication errors, missing drugs, missing resident belongings, and verbal abuse of residents. . But locks, considered “restraints\" under state regulations, are forbidden, officials said, and raised concerns that a resident could have an emergency while locked inside. ['former employee', 'executive director', 'state official', 'corrective action', 'state regulation', 'former employee', 'state regulation']\n",
      "The recommendations were laid out in an open letter organized by the Biotechnology Innovation Organization and published Thursday. Levin and other biotech industry leaders also urged federal regulators to reassure the American public that any approval of an eventual COVID-19 vaccine or therapeutic will be motivated by science, not politics. \"“It's at the end when the result is there that one's looking for a different quality of data,\" Levin added. \"In particular, they say the Food and Drug Administration must “maintain its historic independence as the gold-standard international regulatory body, free from external influence. “Political considerations should be put aside by Republicans and Democrats alike,\" the CEOs wrote. “ \"The FDA has openly struggled to retain its independence amid growing pressure from the White House to fast-track coronavirus vaccines and treatments prior to the Nov. 3 election. Among their demands: that biotech companies don't simply release clinical trial data in press releases, and that federal regulators make it clear to the public that any vaccines or treatments will be approved strictly based on science. WASHINGTON — A group of prominent biotech CEOs are calling on their peers and the federal government to hold themselves to the highest standards when it comes to developing and reviewing COVID-19 treatments. Our nation's leaders should reassure the public that politics will not influence the development and approval of new medicines. ['food and drug administration', 'regulatory body', 'federal government', 'high standard']\n",
      "Extra cleaning procedures and spacing requirements drove up costs, and a cascade of changing regulations required constant vigilance. Between wearing masks and monitoring customer numbers, employees were exhausted. Restaurants struggled to get enough workers due to the visa clampdown, and some local employees were too nervous to come back, driving owners to reduce hours. ['change regulation']\n",
      "Extra cleaning procedures and spacing requirements drove up costs, and a cascade of changing regulations required constant vigilance. Between wearing masks and monitoring customer numbers, employees were exhausted. Restaurants struggled to get enough workers due to the visa clampdown, and some local employees were too nervous to come back, driving owners to reduce hours. ['change regulation']\n",
      "They've praised Trump as the champion of faith and freedom, and have argued that, under Trump, rates of unemployment for Latinos have been historically low, while rates of homeownership have been historically high, at least before the pandemic. They've called Trump a “beacon of hope” because of his tax cut, financial deregulation, and help for small businesses, all of which, in the words of one Hispanic Republican leader — Daniel Garza of the free-market Libre Initiative — will “unleash an economic bonanza for the Latino community. ”The Hispanic Prosperity Initiative that Trump signed promotes “private-sector initiatives” and “public-private partnerships,” and the establishment of a “national network of individuals, organizations, and communities” that will work together to “improve access to educational and economic opportunities for Hispanic Americans.” ['tax cut', 'small business', 'public private partnership', 'national network', 'economic opportunity']\n",
      "They've praised Trump as the champion of faith and freedom, and have argued that, under Trump, rates of unemployment for Latinos have been historically low, while rates of homeownership have been historically high, at least before the pandemic. They've called Trump a “beacon of hope\" because of his tax cut, financial deregulation, and help for small businesses, all of which, in the words of one Hispanic Republican leader — Daniel Garza of the free-market Libre Initiative — will “unleash an economic bonanza for the Latino community. \"The Hispanic Prosperity Initiative that Trump signed promotes “private-sector initiatives\" and “public-private partnerships,\" and the establishment of a “national network of individuals, organizations, and communities\" that will work together to “improve access to educational and economic opportunities for Hispanic Americans.\" ['tax cut', 'small business', 'public private partnership', 'national network', 'economic opportunity']\n",
      "Without one, we all pay the price with our wallets and our lives. Legislation is pending to lower the minimum age for driving a truck across state lines, from 21 to 18, despite data clearly showing that teen truck drivers have a much higher risk of being involved in a fatal crash. Federal agency lacks the resources and political will to push safety measuresYour Aug. 30 editorial “Highway carnage begs for solutions,” commenting on the yearlong Globe investigative report “Blind Spot,” identified chronic failures of the Federal Motor Carrier Safety Administration to adequately regulate the trucking industry. Truck crash victims and survivors understand the need for an effective government regulator. The FMCSA lacks not only sufficient resources but also the political will to implement essential safety measures. ['federal agency', 'federal motor carrier safety administration', 'sufficient resource', 'safety measure']\n",
      "Now more than ever, outdoor learning is full of potential and has positive impacts on students academically, emotionally, and physically,” says Ockene. The two months of planning included gaining the necessary permissions, which required compliance with new COVID safety regulations. BPS sustainability and environmental resources manager Katherine Walsh helped pave the way. “ ['safety regulation']\n",
      "“In a perfect world, that takes at least a year,” Babineau said, referring to the state's regulatory process. He said antitrust discussions with the Federal Trade Commission can also take a year. In a telephone interview Wednesday, Lifespan President Dr. Timothy J. Babineau and Care New England President Dr. James E. Fanale stressed that the letter of intent is the beginning of a long process that will require regularity approval from the Rhode Island Department of Health, attorney general's office, and the Federal Trade Commission. ['attorney general']\n",
      "Now more than ever, outdoor learning is full of potential and has positive impacts on students academically, emotionally, and physically,\" says Ockene. The two months of planning included gaining the necessary permissions, which required compliance with new COVID safety regulations. BPS sustainability and environmental resources manager Katherine Walsh helped pave the way. “ ['safety regulation']\n",
      "And honestly, why should patients have to wonder? But as a medical marijuana patient myself, MPAA's lack of transparency and its leaders' other business activities make me seriously question whether my best interests are truly being represented when Latulippe and Snow testify at an advisory board meeting, or send the commission feedback on its proposed regulatory changes. So sure, there's no smoking gun. ['business activity', 'regulatory change']\n",
      "Why? For his part, Hahn has insisted he won't buckle to political pressure, but he also said emergency use may be authorized based on preliminary data. No government agency is perfect, but Trump is sadly undermining its credibility. But we've experienced unprecedented events since the beginning of COVID-19, starting with the FDA, where the commissioner has proven to be malleable, to be kind, at the foot of the president. “It's unprecedented in my experience that industry would do something like this,\" said Ira Loss of Washington Analysis, who tracks pharmaceutical regulatory and legislative matters for investors. “ The FDA has long been seen as the global gold standard among regulators. ['emergency use', 'government agency']\n",
      "”MassCOSH is also supporting a bill that would make all front-line employees who test positive for COVID-19 during the state of emergency automatically eligible for workers' compensation insurance and pushing for the state's COVID-19 safety regulations to apply to all workers, including those in schools, grocery stores, and health care who are currently exempt. Creating stronger protections is especially important to protect people of color, who make up a disproportionate share of essential workers and are getting infected at high rates, the report notes. More than 300 workers reported to the attorney general's office that employers weren't requiring symptomatic employees to stay home, according to the report; in addition, 377 reported they had experienced COVID-related retaliation from their employers. OSHA inspections alone have helped to ensure more than 604,000 workers are protected. “This is truly a worker health and safety crisis of proportions we've never seen,” she said. The Massachusetts Department of Public Health said it was working to improve data collection, including occupation information, in order to improve the state's ability to respond to COVID-19.MassCOSH is also pushing for greater worker safety regulations and enforcement. ['safety regulation', 'health care', 'attorney general', 'public health', 'worker safety']\n",
      "But quietly, many schools around the region, desperate to prevent a COVID-19 outbreak that could topple their carefully orchestrated reopening plans, are cracking down on students who violate strict new regulations for gatherings. At Boston University, nine students face suspension if they break another rule after they were caught socializing in a dorm without masks, and 15 others may be punished for similar violations. But regulating thousands of students, especially when they are with friends, is sure to be a challenge, he said. When Northeastern University dismissed 11 students last week without refunding their $36,500 tuition as punishment for socializing together in a hotel being used for temporary student housing, the move reverberated across higher education as swift and aggressive, perhaps extreme. The president sent the campus an e-mail warning that students who jeopardize the health of their peers will “lose the privilege of being a Wentworth student,” and that those who host gatherings on or off campus that violate city, state, or campus rules will be suspended or expelled, he said. “The struggle isn't to make the rules,” Bassett said. “ ['new regulation', 'high education']\n",
      "“In a perfect world, that takes at least a year,\" Babineau said, referring to the state's regulatory process. In a telephone interview Wednesday, Lifespan president Dr. Timothy J. Babineau and Care New England president Dr. James E. Fanale stressed that the letter of intent is the beginning of a long process that will require regularity approval from the Rhode Island Department of Health, attorney general's office, and the Federal Trade Commission. He said antitrust discussions with the Federal Trade Commission can also take a year. ['attorney general']\n",
      "But quietly, many schools around the region, desperate to prevent a COVID-19 outbreak that could topple their carefully orchestrated reopening plans, are cracking down on students who violate strict new regulations for gatherings. At Boston University, nine students face suspension if they break another rule after they were caught socializing in a dorm without masks, and 15 others may be punished for similar violations. But regulating thousands of students, especially when they are with friends, is sure to be a challenge, he said. When Northeastern University dismissed 11 students last week without refunding their $36,500 tuition as punishment for socializing together in a hotel being used for temporary student housing, the move reverberated across higher education as swift and aggressive, perhaps extreme. “The struggle isn't to make the rules,\" Bassett said. “ The president sent the campus an e-mail warning that students who jeopardize the health of their peers will “lose the privilege of being a Wentworth student,\" and that those who host gatherings on or off campus that violate city, state, or campus rules will be suspended or expelled, he said. ['new regulation', 'high education']\n",
      "”In the wake of the killing of George Floyd in May by a Minneapolis police officer who was watched by three others, Cardoza said his department has rewritten its use of force rules, and now bans choke holds. Cardoza — who said he favors “guardian versus warrior” — noted Fall River police have been accredited by the Commission on Accreditation for Law Enforcement Agencies, something only 4 percent of departments nationwide have achieved. And where once officers were verbally urged to stop fellow officers whom they knew to be acting improperly, the department has put that as a mandatory requirement in its written rules and regulations. ['law enforcement']\n",
      "The Massachusetts Gaming Commission on Thursday hired Karen Wells, who had been the regulatory body's director of investigations, as executive director. Wells will oversee a staff of nearly 100 people, with an annual budget of $39.7 million. Wells had been serving as interim executive director since January, when former director Ed Bedrosian left for a job in the private sector. While the five members of the commission are full-time state employees who make the big-picture decisions about the shape of the state's gambling industry, Wells and her staff are responsible for enforcing regulations, investigating any concerns, and developing recommendations that carry significant weight with the panel. As interim director, Wells oversaw a four-month shutdown and the tentative reopening of the three casinos in Massachusetts. ['regulatory body', 'executive director', 'executive director']\n",
      "“This is truly a worker health and safety crisis of proportions we've never seen,\" she said. Creating stronger protections is especially important to protect people of color, who make up a disproportionate share of essential workers and are getting infected at high rates, the report notes. MassCOSH is also supporting a bill that would make all front-line employees who test positive for COVID during the state of emergency automatically eligible for workers' compensation insurance and pushing for the state's COVID-19 safety regulations to apply to all workers, including those in schools, grocery stores, and health care who are currently exempt. More than 300 workers reported to the attorney general's office that employers weren't requiring symptomatic employees to stay home, according to the report; in addition, 377 reported they had experienced COVID-related retaliation from their employers. OSHA did not respond to a request for comment. The Massachusetts Department of Public Health said it was working to improve data collection, including occupation information, in order to improve the state's ability to respond to COVID-19.MassCOSH is also pushing for greater worker safety regulations and enforcement. ['safety regulation', 'health care', 'attorney general', 'public health', 'worker safety']\n",
      "“Unfortunately, we are all left fighting for kids with hands tied by the restrictions of regulation, herculean logistics, and unfathomable circumstances,\" she said. “I can understand that our program's presence within some public schools might cause some to be confused, but without our efforts, children would be less safe within our community. ['public school']\n",
      "The Massachusetts Gaming Commission on Thursday hired Karen Wells, who had been the regulatory body's director of investigations, as executive director. Wells will oversee a staff of nearly 100 people, with an annual budget of $39.7 million. Wells had been serving as interim executive director since January, when former director Ed Bedrosian left for a job in the private sector. While the five members of the commission are full-time state employees who make the big-picture decisions about the shape of the state's gambling industry, Wells and her staff are responsible for enforcing regulations, investigating any concerns, and developing recommendations that carry significant weight with the panel. As interim director, Wells oversaw a four-month shutdown and the tentative reopening of the three casinos in Massachusetts. ['regulatory body', 'executive director', 'executive director']\n",
      "“Unfortunately, we are all left fighting for kids with hands tied by the restrictions of regulation, herculean logistics, and unfathomable circumstances,\" she said. Stephanie Ebbert can be reached at Stephanie. “I can understand that our program's presence within some public schools might cause some to be confused, but without our efforts, children would be less safe within our community. ['public school']\n",
      "Meanwhile, in the capital Ankara — which officials say has overtaken Istanbul as the nation's virus hot spot — civil servants will start work at varying hours of the day to ease overcrowding on public transportation. The circular said they would also be penalized for breach of a law regulating infectious diseases and quarantine. An Interior Ministry circular sent to the country's 81 provinces on Friday said people caught leaving their homes despite isolation orders will be quarantined and supervised at state-owned dormitories or hostels. ['infectious disease']\n",
      "The administration began enforcing radical new restrictions on who qualifies for asylum; the new policy would effectively deny asylum to nearly all immigrants arriving at the southern border who aren't from Mexico. Last year, the Trump administration revoked a regulation from the Obama era that shielded many US wetlands and streams from pollution; the regulation was opposed by developers and farmers who said it hurt economic development and infringed on property rights. President Barack Obama strongly condemned the violence, and vowed to bring the killers to justice; Republican challenger Mitt Romney accused the administration of showing weakness in the face of tumultuous events in the Middle East. ['new restriction', 'economic development']\n",
      "It's a new world, sports fans, not only by look but by sound. I mean, come on, a few blasts of that and you're deaf, right?”Both Kavanagh and Gaitane explained that under the ruling from the State House, which charged the state's executive office of Energy and Environmental Affairs (EEA) to work out return-to-play regulations, use of electronic whistles has not been mandated. Forget it. Even the traditional whistle, the essential tool tooted since the late 19th century by coaches and game officials worldwide, is being forced out of the game in our new abnormal of COVID-19.Mass Hockey, the governing body that helps to put some 50,000 Bay State kids on the ice, in recent weeks purchased upward of 2,000 electronic whistles to help its on-ice officials abide by the state's return-to-play regulations. However, officials and coaches must wear face coverings. Electronic whistles. ['executive office']\n",
      "In April last year, US Senator Edward Markey and Representative Lori Trahan introduced a bill in Rondon's name that officials said would strengthen pipeline safety precautions. The Leonel Rondon Pipeline Safety Act, which Markey's camp has said would close regulatory loopholes and increase safety standards, was included in the Senate-passed PIPES Act in August. For Moriarty, the fire chief, the two years since the explosions have passed quickly, but he took a moment to reflect on Sunday. ['pipeline safety', 'pipeline safety', 'safety standard']\n",
      "The FDA has set up a firewall between the vast majority of staff and the initiative to separate any regulatory decisions from policy or budgetary decisions. FDA officials are still allowed to interact with companies developing products for OWS, but they're barred from sitting in on discussions regarding other focuses of OWS, like procurement, investment, or distribution. Several audience members asked him questions he pointedly did not answer. Two senior FDA officials told STAT the agency couldn't even explain the structure of OWS or when its leaders meet. Careful balance with regulatorsThe Food and Drug Administration, which is playing a critical role in the pandemic, has virtually no visibility into OWS — by design. ['food and drug administration']\n",
      "It's a new world, sports fans, not only by look but by sound. I mean, come on, a few blasts of that and you're deaf, right?\"Both Kavanagh and Gaitane explained that under the ruling from the State House, which charged the state's executive office of Energy and Environmental Affairs (EEA) to work out return-to-play regulations, use of electronic whistles has not been mandated. Forget it. Even the traditional whistle, the essential tool tooted since the late 19th century by coaches and game officials worldwide, is being forced out of the game in our new abnormal of COVID-19.Mass Hockey, the governing body that helps to put some 50,000 Bay State kids on the ice, in recent weeks purchased upward of 2,000 electronic whistles to help its on-ice officials abide by the state's return-to-play regulations. However, officials and coaches must wear face coverings. Electronic whistles. ['executive office']\n",
      "About one in 20 inspections of truckers on the road uncovers a violation that sidelines the driver, statistics show. Federal regulations call for the FMCSA, which conducts annual reviews of states' performance, to withhold certain federal highway funding from states found to be in “substantial non-compliance.” The importance of pulling troubled drivers from the roads was made clear in June 2019, when Volodymyr Zhukovskyy, a 24-year-old truck driver with an atrocious record, allegedly crossed the center line of a New Hampshire highway and crashed into a group of motorcyclists, killing seven. Meanwhile, federal regulators earlier this year temporarily paused penalties for states breaking the rules regarding sending the notices on time, citing President Trump's national emergency declaration due to the coronavirus pandemic. The federal agency also can strip states' ability to issue commercial driver's licenses. About a fourth of these warnings were issued past the 10-day deadline, records show. ['federal regulation', 'annual review', 'non compliance', 'center line', 'national emergency', 'federal agency', \"commercial driver 's license\"]\n",
      "Health care regulators and providers have struggled with this question for decades, most notably in breast cancer care, where computer-aided detection software was deployed widely in the early 2000s but failed to improve outcomes, despite adding $400 million a year in costs, according to several studies. Another even more fundamental question is figuring out what level of validation should be required to prove that an AI system can help patients if deployed broadly. Dhir said his research team opted to perform a blinded study of its AI model in prostate cancer, to evaluate whether it could perform in a clinical setting distinct from the one that supplied data used to train it. ['health care', 'prostate cancer']\n",
      "In April last year, US Senator Edward Markey and Representative Lori Trahan introduced a bill in Rondon's name that officials said would strengthen pipeline safety precautions. The Leonel Rondon Pipeline Safety Act, which Markey's camp has said would close regulatory loopholes and increase safety standards, was included in the Senate-passed PIPES Act in August. For Moriarty, the fire chief, the two years since the explosions have passed quickly, but he took a moment to reflect on Sunday. ['pipeline safety', 'pipeline safety', 'safety standard']\n",
      "The federal agency also can strip states' ability to issue commercial driver's licenses. About one in 20 inspections of truckers on the road uncovers a violation that sidelines the driver, statistics show. The importance of pulling troubled drivers from the roads was made clear in June 2019, when Volodymyr Zhukovskyy, a 24-year-old truck driver with an atrocious record, allegedly crossed the center line of a New Hampshire highway and crashed into a group of motorcyclists, killing seven. Meanwhile, federal regulators earlier this year temporarily paused penalties for states breaking the rules regarding sending the notices on time, citing President Trump's national emergency declaration due to the coronavirus pandemic. Federal regulations call for the FMCSA, which conducts annual reviews of states' performance, to withhold certain federal highway funding from states found to be in “substantial non-compliance.\" About a fourth of these warnings were issued past the 10-day deadline, records show. ['federal agency', \"commercial driver 's license\", 'center line', 'national emergency', 'federal regulation', 'annual review', 'non compliance']\n",
      "Social distancing, the wearing of masks, limiting group sizes, and other precautions are designed to protect not only these students but also their classmates, professors, and the general public. College is a time for maturation . . . starting nowTwo commentators in the Sept. 10 edition — Andrew Ginsburg, in a letter to the editor (“College is a social experience — surely, Northeastern knows that”), and Billy Baker, in his humor piece (“This college pledge will totally solve everything,” Metro) — argue against Northeastern University's suspension of 11 students for violating clearly communicated COVID-19-related regulations, claiming, in Ginsburg's case, that “college is and remains a social institution,” and, in Baker's, seeming to excuse their behavior as typical adolescent immaturity. ['general public', 'related regulation']\n",
      "Regulators have alleged it preyed on low-income students. Healey's office says ITT Tech offered students temporary credit to cover the gap between federal student aid and the full cost of an ITT education. ITT Tech closed in 2016, leaving students with debt but without degrees. ['full cost']\n",
      "“The incident is under investigation and the department will continue working with first responders and other authorities to determine the cause of this accident\" the statement said. \" The department extends its deepest sympathies to the loved ones of the victim during this difficult time. The elevator was recently inspected and was certified in accordance with state regulations. ['other authority', 'state regulation']\n",
      "Restaurants can use electric heaters without a permit, as long as no cords cross the sidewalk, Walsh said. So please keep it up so we can help our restaurants. ”Walsh also said safety regulations for the heaters will remain “100 percent in place.” ['safety regulation']\n"
     ]
    }
   ],
   "source": [
    "for i in range(0,100):\n",
    "    if df_regSentsExpand['NounChunkMatchFiltered'][i]>0:\n",
    "        print(df_regSentsExpand['RegSentsExpand'][i],df_regSentsExpand['NounChunkMatchWordsFiltered'][i])"
   ]
  },
  {
   "cell_type": "code",
   "execution_count": 22,
   "metadata": {},
   "outputs": [],
   "source": [
    "df_regSentsExpand.to_pickle('/home/ec2-user/SageMaker/New Uncertainty/Update Data/RegSentsExpand_NounChunks_Update.pkl')"
   ]
  },
  {
   "cell_type": "code",
   "execution_count": null,
   "metadata": {},
   "outputs": [],
   "source": []
  }
 ],
 "metadata": {
  "kernelspec": {
   "display_name": "my_py",
   "language": "python",
   "name": "my_py"
  },
  "language_info": {
   "codemirror_mode": {
    "name": "ipython",
    "version": 3
   },
   "file_extension": ".py",
   "mimetype": "text/x-python",
   "name": "python",
   "nbconvert_exporter": "python",
   "pygments_lexer": "ipython3",
   "version": "3.6.10"
  }
 },
 "nbformat": 4,
 "nbformat_minor": 4
}
