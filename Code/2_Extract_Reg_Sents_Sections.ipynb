{
 "cells": [
  {
   "cell_type": "code",
   "execution_count": 1,
   "metadata": {},
   "outputs": [],
   "source": [
    "import pandas as pd\n",
    "import os\n",
    "import re\n",
    "import xml.etree.cElementTree as et\n",
    "from lxml import etree\n",
    "\n",
    "import spacy\n",
    "from spacy.lang.en import English"
   ]
  },
  {
   "cell_type": "code",
   "execution_count": 2,
   "metadata": {},
   "outputs": [
    {
     "name": "stdout",
     "output_type": "stream",
     "text": [
      "<class 'pandas.core.frame.DataFrame'>\n",
      "RangeIndex: 9278 entries, 0 to 9277\n",
      "Data columns (total 12 columns):\n",
      " #   Column         Non-Null Count  Dtype         \n",
      "---  ------         --------------  -----         \n",
      " 0   ID             9278 non-null   object        \n",
      " 1   Title          9278 non-null   object        \n",
      " 2   Type           9278 non-null   object        \n",
      " 3   StartDate      9278 non-null   datetime64[ns]\n",
      " 4   EndDate        9278 non-null   object        \n",
      " 5   Text           9278 non-null   object        \n",
      " 6   TextWordCount  9278 non-null   object        \n",
      " 7   PubTitle       9278 non-null   object        \n",
      " 8   SourceType     9278 non-null   object        \n",
      " 9   Year           9278 non-null   int64         \n",
      " 10  Month          9278 non-null   int64         \n",
      " 11  Newspaper      9278 non-null   object        \n",
      "dtypes: datetime64[ns](1), int64(2), object(9)\n",
      "memory usage: 869.9+ KB\n",
      "None\n"
     ]
    }
   ],
   "source": [
    "df=pd.read_pickle('/home/ec2-user/SageMaker/New Uncertainty/Update Data/parsed_xml_update.pkl')\n",
    "print(df.info())"
   ]
  },
  {
   "cell_type": "code",
   "execution_count": 3,
   "metadata": {},
   "outputs": [
    {
     "name": "stdout",
     "output_type": "stream",
     "text": [
      "      StartDate\n",
      "0    2020-09-01\n",
      "1    2020-09-01\n",
      "2    2020-09-01\n",
      "3    2020-09-01\n",
      "4    2020-09-01\n",
      "...         ...\n",
      "9273 2021-01-30\n",
      "9274 2021-01-30\n",
      "9275 2021-01-30\n",
      "9276 2021-01-30\n",
      "9277 2021-01-30\n",
      "\n",
      "[9278 rows x 1 columns]\n"
     ]
    }
   ],
   "source": [
    "# Check date range\n",
    "print(df[['StartDate']])"
   ]
  },
  {
   "cell_type": "code",
   "execution_count": 4,
   "metadata": {},
   "outputs": [],
   "source": [
    "# Function to remove multiple spaces\n",
    "def remove_spaces(text):\n",
    "    text=re.sub(' +',' ',text).strip()\n",
    "    text=text.replace('\\n',' ').replace('\\r',' ')\n",
    "    return text"
   ]
  },
  {
   "cell_type": "code",
   "execution_count": 5,
   "metadata": {},
   "outputs": [],
   "source": [
    "nlp = English()  # just the language with no model\n",
    "sentencizer = nlp.create_pipe(\"sentencizer\")\n",
    "nlp.add_pipe(sentencizer)"
   ]
  },
  {
   "cell_type": "code",
   "execution_count": 6,
   "metadata": {},
   "outputs": [],
   "source": [
    "# Function to print one XML example\n",
    "def print_xml(ID):\n",
    "    tree = etree.parse(filePath+ID+'.xml')\n",
    "    xml = etree.tostring(tree, encoding=\"unicode\", pretty_print=True)\n",
    "    print(xml)"
   ]
  },
  {
   "cell_type": "code",
   "execution_count": 7,
   "metadata": {},
   "outputs": [],
   "source": [
    "# Function to remove html tags from a string\n",
    "def remove_html_tags(text):\n",
    "    clean = re.compile('<.*?>')\n",
    "    return re.sub(clean, '', text)"
   ]
  },
  {
   "cell_type": "code",
   "execution_count": 8,
   "metadata": {},
   "outputs": [],
   "source": [
    "# Function to identify the sentence with \"*regulat*\" and a sentence before and after (expanded regulatory sentences)\n",
    "def extractSentenceBeforeAfter(text):\n",
    "    sentSet=set()\n",
    "    text=remove_spaces(text)\n",
    "    doc=nlp(text)\n",
    "    sentList=list(doc.sents)\n",
    "    for i in range(0, len(sentList)):\n",
    "        sent=sentList[i].text.strip()\n",
    "        if len(re.findall('regulat',sent.lower()))>0:\n",
    "            sentSet.add(sent)\n",
    "            if i>0:\n",
    "                sentSet.add(sentList[i-1].text.strip())\n",
    "            if i<len(sentList)-1:\n",
    "                sentSet.add(sentList[i+1].text.strip())\n",
    "    sentText=' '.join(sentSet)\n",
    "    return sentText"
   ]
  },
  {
   "cell_type": "code",
   "execution_count": 9,
   "metadata": {},
   "outputs": [
    {
     "name": "stdout",
     "output_type": "stream",
     "text": [
      "9278\n"
     ]
    }
   ],
   "source": [
    "# Extract expanded regulatory sentences\n",
    "regsents_expand=[]\n",
    "for text in df['Text']:\n",
    "    new=extractSentenceBeforeAfter(text)\n",
    "    regsents_expand.append(new)\n",
    "print(len(regsents_expand))"
   ]
  },
  {
   "cell_type": "code",
   "execution_count": 10,
   "metadata": {},
   "outputs": [
    {
     "name": "stdout",
     "output_type": "stream",
     "text": [
      "Johnson &amp; Johnson said its experimental Covid-19 vaccine was 66% effective at protecting people from moderate to severe disease in a large clinical trial, positive results that could pave the way for its deployment across the U.S. within weeks. The EU's drug regulator recommended use of a Covid-19 vaccine from AstraZeneca, but the approval is unlikely to quell growing political furor over its effectiveness, production problems and availability. --- Investigators probing a massive hack of the U.S. government and businesses say they have found evidence the suspected Russian operation went far beyond the compromise of SolarWinds. ---\n"
     ]
    }
   ],
   "source": [
    "print(regsents_expand[-1])"
   ]
  },
  {
   "cell_type": "code",
   "execution_count": 11,
   "metadata": {},
   "outputs": [],
   "source": [
    "df['RegSentsExpand']=regsents_expand"
   ]
  },
  {
   "cell_type": "code",
   "execution_count": 12,
   "metadata": {},
   "outputs": [
    {
     "name": "stdout",
     "output_type": "stream",
     "text": [
      "              ID  RegSentExpandLen\n",
      "4509  2474592354             10084\n",
      "7448  2459648280              7808\n",
      "7474  2459941500              7356\n",
      "5250  2456031732              6423\n",
      "5234  2455174676              6403\n",
      "3234  2475022057              6382\n",
      "8401  2472206721              6283\n",
      "7210  2457104905              6185\n",
      "7252  2457192121              5990\n",
      "2796  2464755854              5977\n"
     ]
    }
   ],
   "source": [
    "df['RegSentExpandLen']=df['RegSentsExpand'].str.len()\n",
    "print(df.sort_values('RegSentExpandLen',ascending=False)[['ID','RegSentExpandLen']].head(10))"
   ]
  },
  {
   "cell_type": "code",
   "execution_count": 13,
   "metadata": {},
   "outputs": [
    {
     "name": "stdout",
     "output_type": "stream",
     "text": [
      "           ID                                              Title  Type  \\\n",
      "0  2438846341                1-vs.-2 duel ended much too quickly  News   \n",
      "1  2438796738  Bruins eliminated in a double-overtime thrille...  News   \n",
      "2  2439088192  Crowded field vies for the Fourth District pri...  News   \n",
      "3  2438846397      Furious final hours for an unparalled primary  News   \n",
      "4  2439087001  In battle for the future, Markey and Kennedy r...  News   \n",
      "\n",
      "   StartDate     EndDate                                               Text  \\\n",
      "0 2020-09-01  2020-09-01  I was rooting for Jon Rahm and Dustin Johnson ...   \n",
      "1 2020-09-01  2020-09-01  This was the longest and likely, the strangest...   \n",
      "2 2020-09-01  2020-09-01  Voters from Brookline to Fall River cast ballo...   \n",
      "3 2020-09-01  2020-09-01  On the eve of an unprecedented primary,empty b...   \n",
      "4 2020-09-01  2020-09-01  For the first time in Massachusetts political ...   \n",
      "\n",
      "  TextWordCount               PubTitle  SourceType  Year  Month     Newspaper  \\\n",
      "0           580           Boston Globe  Newspapers  2020      9  Boston Globe   \n",
      "1          1132  Boston Globe (Online)  Newspapers  2020      9  Boston Globe   \n",
      "2          1346  Boston Globe (Online)  Newspapers  2020      9  Boston Globe   \n",
      "3          1158           Boston Globe  Newspapers  2020      9  Boston Globe   \n",
      "4           690  Boston Globe (Online)  Newspapers  2020      9  Boston Globe   \n",
      "\n",
      "                                      RegSentsExpand  RegSentExpandLen  \n",
      "0  Matsuyama hit just 22 of 56 fairways and just ...               284  \n",
      "1  Shortly before, he had broken Point's stick wi...              1180  \n",
      "2  Jake Auchincloss, a Newton city councilor and ...               781  \n",
      "3  Early and mail-in voting adds uncertainty to a...               620  \n",
      "4  For a politician long identified with wonky is...               425  \n"
     ]
    }
   ],
   "source": [
    "print(df.head())"
   ]
  },
  {
   "cell_type": "code",
   "execution_count": 14,
   "metadata": {},
   "outputs": [],
   "source": [
    "df.to_pickle('/home/ec2-user/SageMaker/New Uncertainty/Update Data/allRegSentsExpand_Update.pkl')"
   ]
  },
  {
   "cell_type": "code",
   "execution_count": null,
   "metadata": {},
   "outputs": [],
   "source": []
  }
 ],
 "metadata": {
  "kernelspec": {
   "display_name": "my_py",
   "language": "python",
   "name": "my_py"
  },
  "language_info": {
   "codemirror_mode": {
    "name": "ipython",
    "version": 3
   },
   "file_extension": ".py",
   "mimetype": "text/x-python",
   "name": "python",
   "nbconvert_exporter": "python",
   "pygments_lexer": "ipython3",
   "version": "3.6.10"
  }
 },
 "nbformat": 4,
 "nbformat_minor": 4
}
