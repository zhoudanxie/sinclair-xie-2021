{
 "cells": [
  {
   "cell_type": "code",
   "execution_count": 1,
   "metadata": {},
   "outputs": [],
   "source": [
    "import pandas as pd\n",
    "import os\n",
    "import datetime\n",
    "import re"
   ]
  },
  {
   "cell_type": "markdown",
   "metadata": {},
   "source": [
    "## 1. Keep Only News from Newspapers"
   ]
  },
  {
   "cell_type": "code",
   "execution_count": null,
   "metadata": {},
   "outputs": [],
   "source": [
    "# All parsed XML files\n",
    "df=pd.read_pickle('/home/ec2-user/SageMaker/New Uncertainty/parsed_xml.pkl')\n",
    "print(df.info())"
   ]
  },
  {
   "cell_type": "code",
   "execution_count": 4,
   "metadata": {},
   "outputs": [
    {
     "name": "stdout",
     "output_type": "stream",
     "text": [
      "News                      848427\n",
      "Feature                     4060\n",
      "Undefined                    668\n",
      "General Information           32\n",
      "Commentary                    31\n",
      "Article                       30\n",
      "Statistics/Data Report        10\n",
      "Obituary                       8\n",
      "Review                         7\n",
      "Correction/Retraction          5\n",
      "Recipe                         3\n",
      "Interview                      2\n",
      "Editorial                      1\n",
      "Name: Type, dtype: int64\n"
     ]
    }
   ],
   "source": [
    "print(df['Type'].value_counts())"
   ]
  },
  {
   "cell_type": "code",
   "execution_count": 5,
   "metadata": {},
   "outputs": [
    {
     "name": "stdout",
     "output_type": "stream",
     "text": [
      "<class 'pandas.core.frame.DataFrame'>\n",
      "RangeIndex: 848427 entries, 0 to 848426\n",
      "Data columns (total 9 columns):\n",
      " #   Column         Non-Null Count   Dtype \n",
      "---  ------         --------------   ----- \n",
      " 0   ID             848427 non-null  object\n",
      " 1   Title          848427 non-null  object\n",
      " 2   Type           848427 non-null  object\n",
      " 3   StartDate      848427 non-null  object\n",
      " 4   EndDate        848427 non-null  object\n",
      " 5   Text           848427 non-null  object\n",
      " 6   TextWordCount  848427 non-null  object\n",
      " 7   PubTitle       848427 non-null  object\n",
      " 8   SourceType     848427 non-null  object\n",
      "dtypes: object(9)\n",
      "memory usage: 58.3+ MB\n",
      "None\n"
     ]
    }
   ],
   "source": [
    "df=df[df['Type']=='News'].reset_index(drop=True)\n",
    "print(df.info())"
   ]
  },
  {
   "cell_type": "code",
   "execution_count": 6,
   "metadata": {},
   "outputs": [
    {
     "name": "stdout",
     "output_type": "stream",
     "text": [
      "Newspapers    848427\n",
      "Name: SourceType, dtype: int64\n"
     ]
    }
   ],
   "source": [
    "print(df['SourceType'].value_counts())"
   ]
  },
  {
   "cell_type": "markdown",
   "metadata": {},
   "source": [
    "## 2. Remove Overlaps between Sources"
   ]
  },
  {
   "cell_type": "code",
   "execution_count": 7,
   "metadata": {},
   "outputs": [
    {
     "name": "stdout",
     "output_type": "stream",
     "text": [
      "Wall Street Journal                        152069\n",
      "New York Times                             125270\n",
      "Wall Street Journal (Online)                99914\n",
      "The Washington Post                         93086\n",
      "Los Angeles Times                           68818\n",
      "Los Angeles Times (pre-1997 Fulltext)       59421\n",
      "Chicago Tribune                             55013\n",
      "Boston Globe                                54071\n",
      "Chicago Tribune (pre-1997 Fulltext)         38858\n",
      "The Washington Post (pre-1997 Fulltext)     31037\n",
      "Boston Globe (pre-1997 Fulltext)            23916\n",
      "USA TODAY                                   21021\n",
      "USA TODAY (pre-1997 Fulltext)               11773\n",
      "USA Today (Online)                           7458\n",
      "Boston Globe (Online)                        6702\n",
      "Name: PubTitle, dtype: int64\n"
     ]
    }
   ],
   "source": [
    "print(df['PubTitle'].value_counts())"
   ]
  },
  {
   "cell_type": "code",
   "execution_count": 8,
   "metadata": {},
   "outputs": [],
   "source": [
    "# Convert dates\n",
    "df['StartDate']=df['StartDate'].astype('datetime64[ns]')\n",
    "df['Year']=df['StartDate'].astype('datetime64[ns]').dt.year\n",
    "df['Month']=df['StartDate'].astype('datetime64[ns]').dt.month"
   ]
  },
  {
   "cell_type": "code",
   "execution_count": 9,
   "metadata": {},
   "outputs": [
    {
     "name": "stdout",
     "output_type": "stream",
     "text": [
      "        StartDate\n",
      "833650 1987-04-01\n",
      "288936 1987-04-01\n",
      "825813 1987-04-01\n",
      "645156 1987-04-01\n",
      "135256 1987-04-02\n",
      "...           ...\n",
      "188669 1997-02-12\n",
      "703759 1997-02-12\n",
      "824499 1997-02-12\n",
      "819079 1997-02-14\n",
      "241031 1997-02-14\n",
      "\n",
      "[11773 rows x 1 columns]\n",
      "        StartDate\n",
      "533213 1989-01-11\n",
      "470377 1989-01-13\n",
      "1414   1989-01-13\n",
      "521988 1989-01-19\n",
      "506743 1989-01-23\n",
      "...           ...\n",
      "574687 2020-08-31\n",
      "404341 2020-08-31\n",
      "499195 2020-08-31\n",
      "719228 2020-08-31\n",
      "662371 2020-08-31\n",
      "\n",
      "[21021 rows x 1 columns]\n",
      "        StartDate\n",
      "269473 2016-05-10\n",
      "54772  2016-05-12\n",
      "654157 2016-05-13\n",
      "426357 2016-05-13\n",
      "762926 2016-05-14\n",
      "...           ...\n",
      "574408 2020-08-31\n",
      "675044 2020-08-31\n",
      "165394 2020-08-31\n",
      "731028 2020-08-31\n",
      "707856 2020-08-31\n",
      "\n",
      "[7458 rows x 1 columns]\n",
      "['USA TODAY (pre-1997 Fulltext)', 'USA TODAY', 'USA Today (Online)']\n"
     ]
    }
   ],
   "source": [
    "pubtitles=['USA TODAY (pre-1997 Fulltext)','USA TODAY','USA Today (Online)']\n",
    "for title in pubtitles:\n",
    "    print(df[df['PubTitle']==title].sort_values('StartDate')[['StartDate']])\n",
    "print(pubtitles)"
   ]
  },
  {
   "cell_type": "code",
   "execution_count": 10,
   "metadata": {},
   "outputs": [],
   "source": [
    "# Clean duplicated news articles due to overlapped databases\n",
    "df=df[((df['PubTitle']=='Boston Globe') & (df['StartDate']>datetime.datetime(1996,12,31)))\n",
    "                  | (df['PubTitle']!='Boston Globe')]\n",
    "df=df[((df['PubTitle']=='Chicago Tribune') & (df['StartDate']>datetime.datetime(1996,12,3)))\n",
    "                  | (df['PubTitle']!='Chicago Tribune')]\n",
    "df=df[((df['PubTitle']=='Los Angeles Times') & (df['StartDate']>datetime.datetime(1996,12,3)))\n",
    "                  | (df['PubTitle']!='Los Angeles Times')]\n",
    "df=df[((df['PubTitle']=='USA TODAY') & (df['StartDate']>datetime.datetime(1997,2,14)))\n",
    "                  | (df['PubTitle']!='USA TODAY')]\n",
    "df=df[((df['PubTitle']=='The Washington Post') & (df['StartDate']>datetime.datetime(1996,12,3)))\n",
    "                  | (df['PubTitle']!='The Washington Post')]"
   ]
  },
  {
   "cell_type": "code",
   "execution_count": 11,
   "metadata": {},
   "outputs": [],
   "source": [
    "# Consolidate newspaper names\n",
    "df.loc[(df['PubTitle']=='Boston Globe (pre-1997 Fulltext)') | (df['PubTitle']=='Boston Globe') | \n",
    "       (df['PubTitle']=='Boston Globe (Online)'),'Newspaper']='Boston Globe'\n",
    "df.loc[(df['PubTitle']=='Wall Street Journal') | (df['PubTitle']=='Wall Street Journal (Online)'),\n",
    "    'Newspaper']='Wall Street Journal'\n",
    "df.loc[(df['PubTitle']=='USA TODAY (pre-1997 Fulltext)') | (df['PubTitle']=='USA TODAY') | \n",
    "       (df['PubTitle']=='USA Today (Online)'),'Newspaper']='USA Today'\n",
    "df.loc[(df['PubTitle']=='Chicago Tribune (pre-1997 Fulltext)') | (df['PubTitle']=='Chicago Tribune') | \n",
    "       (df['PubTitle']=='Chicago Tribune (Online)'),'Newspaper']='Chicago Tribune'\n",
    "df.loc[(df['PubTitle']=='Los Angeles Times') | (df['PubTitle']=='Los Angeles Times (pre-1997 Fulltext)') | \n",
    "        (df['PubTitle']=='Los Angeles Times (Online)'),'Newspaper']='Los Angeles Times'\n",
    "df.loc[(df['PubTitle']=='New York Times') | (df['PubTitle']=='New York Times (Online)'),'Newspaper']='New York Times'\n",
    "df.loc[(df['PubTitle']=='The Washington Post') | (df['PubTitle']=='The Washington Post (pre-1997 Fulltext)') | \n",
    "       (df['PubTitle']=='The Washington Post (Online)'),'Newspaper']='The Washington Post'"
   ]
  },
  {
   "cell_type": "code",
   "execution_count": 12,
   "metadata": {},
   "outputs": [],
   "source": [
    "df=df.sort_values(['Newspaper','StartDate','Title']).reset_index(drop=True)"
   ]
  },
  {
   "cell_type": "code",
   "execution_count": 13,
   "metadata": {},
   "outputs": [
    {
     "name": "stdout",
     "output_type": "stream",
     "text": [
      "<class 'pandas.core.frame.DataFrame'>\n",
      "RangeIndex: 822737 entries, 0 to 822736\n",
      "Data columns (total 12 columns):\n",
      " #   Column         Non-Null Count   Dtype         \n",
      "---  ------         --------------   -----         \n",
      " 0   ID             822737 non-null  object        \n",
      " 1   Title          822737 non-null  object        \n",
      " 2   Type           822737 non-null  object        \n",
      " 3   StartDate      822737 non-null  datetime64[ns]\n",
      " 4   EndDate        822737 non-null  object        \n",
      " 5   Text           822737 non-null  object        \n",
      " 6   TextWordCount  822737 non-null  object        \n",
      " 7   PubTitle       822737 non-null  object        \n",
      " 8   SourceType     822737 non-null  object        \n",
      " 9   Year           822737 non-null  int64         \n",
      " 10  Month          822737 non-null  int64         \n",
      " 11  Newspaper      822737 non-null  object        \n",
      "dtypes: datetime64[ns](1), int64(2), object(9)\n",
      "memory usage: 75.3+ MB\n",
      "None\n",
      "Wall Street Journal    251983\n",
      "New York Times         125270\n",
      "Los Angeles Times      121406\n",
      "The Washington Post    116772\n",
      "Chicago Tribune         90023\n",
      "Boston Globe            78922\n",
      "USA Today               38361\n",
      "Name: Newspaper, dtype: int64\n"
     ]
    }
   ],
   "source": [
    "print(df.info())\n",
    "print(df['Newspaper'].value_counts(dropna=False))"
   ]
  },
  {
   "cell_type": "code",
   "execution_count": 14,
   "metadata": {},
   "outputs": [
    {
     "name": "stdout",
     "output_type": "stream",
     "text": [
      "Wall Street Journal                        152069\n",
      "New York Times                             125270\n",
      "Wall Street Journal (Online)                99914\n",
      "The Washington Post                         85735\n",
      "Los Angeles Times                           61985\n",
      "Los Angeles Times (pre-1997 Fulltext)       59421\n",
      "Chicago Tribune                             51165\n",
      "Boston Globe                                48304\n",
      "Chicago Tribune (pre-1997 Fulltext)         38858\n",
      "The Washington Post (pre-1997 Fulltext)     31037\n",
      "Boston Globe (pre-1997 Fulltext)            23916\n",
      "USA TODAY                                   19130\n",
      "USA TODAY (pre-1997 Fulltext)               11773\n",
      "USA Today (Online)                           7458\n",
      "Boston Globe (Online)                        6702\n",
      "Name: PubTitle, dtype: int64\n",
      "15\n"
     ]
    }
   ],
   "source": [
    "print(df['PubTitle'].value_counts())\n",
    "print(df['PubTitle'].nunique())"
   ]
  },
  {
   "cell_type": "code",
   "execution_count": 15,
   "metadata": {},
   "outputs": [
    {
     "name": "stdout",
     "output_type": "stream",
     "text": [
      "          ID                                            Title  Type  \\\n",
      "0  294326637             1984: IT WAS THE YEAR OF THE BIG LIE  News   \n",
      "1  294308147  CONTROLS LIFTED ON ABOUT HALF OF US NATURAL GAS  News   \n",
      "2  294323196              COURT UPHOLDS DIABLO CANYON LICENSE  News   \n",
      "3  294311708                      HUNT'S IMMACULATE RECEPTION  News   \n",
      "4  294262284                          LEGISLATIVE REPORT CARD  News   \n",
      "\n",
      "   StartDate     EndDate                                               Text  \\\n",
      "0 1985-01-01  1985-01-01  ART BUCHWALD Art Buchwald is a syndicated colu...   \n",
      "1 1985-01-01  1985-01-01  After 30 years of strict federal control, pric...   \n",
      "2 1985-01-01  1985-01-01  A federal appeals court yesterday upheld the N...   \n",
      "3 1985-01-01  1985-01-01  COTTON BOWL '85 / JOHN ROBINSON John Robinson ...   \n",
      "4 1985-01-01  1985-01-01  Much of Beacon Hill's 1984 legislative activit...   \n",
      "\n",
      "  TextWordCount                          PubTitle  SourceType  Year  Month  \\\n",
      "0           422  Boston Globe (pre-1997 Fulltext)  Newspapers  1985      1   \n",
      "1           751  Boston Globe (pre-1997 Fulltext)  Newspapers  1985      1   \n",
      "2           238  Boston Globe (pre-1997 Fulltext)  Newspapers  1985      1   \n",
      "3          1142  Boston Globe (pre-1997 Fulltext)  Newspapers  1985      1   \n",
      "4          1570  Boston Globe (pre-1997 Fulltext)  Newspapers  1985      1   \n",
      "\n",
      "      Newspaper  \n",
      "0  Boston Globe  \n",
      "1  Boston Globe  \n",
      "2  Boston Globe  \n",
      "3  Boston Globe  \n",
      "4  Boston Globe  \n"
     ]
    }
   ],
   "source": [
    "print(df.head())"
   ]
  },
  {
   "cell_type": "code",
   "execution_count": 16,
   "metadata": {},
   "outputs": [],
   "source": [
    "df.to_pickle('/home/ec2-user/SageMaker/New Uncertainty/parsed_xml.pkl')"
   ]
  },
  {
   "cell_type": "markdown",
   "metadata": {},
   "source": [
    "## 3. Identify Duplicated Articles"
   ]
  },
  {
   "cell_type": "code",
   "execution_count": 48,
   "metadata": {},
   "outputs": [
    {
     "name": "stdout",
     "output_type": "stream",
     "text": [
      "Number of articles: 822737\n"
     ]
    }
   ],
   "source": [
    "df=pd.read_pickle('/home/ec2-user/SageMaker/New Uncertainty/parsed_xml.pkl')\n",
    "print(\"Number of articles:\",len(df))"
   ]
  },
  {
   "cell_type": "code",
   "execution_count": 55,
   "metadata": {},
   "outputs": [
    {
     "name": "stdout",
     "output_type": "stream",
     "text": [
      "Number of empty full texts: 18544\n",
      "New York Times         7073\n",
      "Wall Street Journal    5382\n",
      "Boston Globe           5072\n",
      "USA Today               910\n",
      "Los Angeles Times        42\n",
      "Chicago Tribune          34\n",
      "The Washington Post      31\n",
      "Name: Newspaper, dtype: int64\n"
     ]
    }
   ],
   "source": [
    "# Full text for certain articles is not available due to copyright restrictions\n",
    "print(\"Number of empty full texts:\",df[df['Text']==\"\"]['ID'].nunique())\n",
    "print(df[df['Text']==\"\"]['Newspaper'].value_counts())\n",
    "# # Examples\n",
    "# print(df[df['Text']==\"\"]['ID'][-10:])\n",
    "# print(df[df['Text']==\"\"]['Title'][-10:])"
   ]
  },
  {
   "cell_type": "code",
   "execution_count": null,
   "metadata": {},
   "outputs": [],
   "source": [
    "# Remove spaces and lower text\n",
    "text_lower=[]\n",
    "for text in df['Text']:\n",
    "    new=re.sub(' +',' ',text.replace('\\n',' ').lower()).strip()\n",
    "    text_lower.append(new)\n",
    "print(len(text_lower))"
   ]
  },
  {
   "cell_type": "code",
   "execution_count": null,
   "metadata": {},
   "outputs": [],
   "source": [
    "df['TextLower']=text_lower"
   ]
  },
  {
   "cell_type": "code",
   "execution_count": null,
   "metadata": {},
   "outputs": [],
   "source": [
    "# Remove unavailable full text and sort\n",
    "df=df[df['TextLower']!=\"\"].sort_values(['TextLower','StartDate']).reset_index(drop=True)\n",
    "print(len(df))"
   ]
  },
  {
   "cell_type": "code",
   "execution_count": 41,
   "metadata": {},
   "outputs": [
    {
     "name": "stdout",
     "output_type": "stream",
     "text": [
      "15677\n"
     ]
    }
   ],
   "source": [
    "# Check duplicates\n",
    "df['GroupNo']=df.groupby('TextLower').cumcount()+1\n",
    "print(\"Number of duplicated articles:\",df[df['GroupNo']>1]['ID'].nunique())"
   ]
  },
  {
   "cell_type": "code",
   "execution_count": null,
   "metadata": {},
   "outputs": [],
   "source": [
    "print(df[['ID','Title','TextLower','GroupNo']][181:196])"
   ]
  },
  {
   "cell_type": "code",
   "execution_count": 38,
   "metadata": {},
   "outputs": [
    {
     "name": "stdout",
     "output_type": "stream",
     "text": [
      "<class 'pandas.core.frame.DataFrame'>\n",
      "RangeIndex: 788516 entries, 0 to 788515\n",
      "Data columns (total 13 columns):\n",
      " #   Column         Non-Null Count   Dtype         \n",
      "---  ------         --------------   -----         \n",
      " 0   TextLower      788516 non-null  object        \n",
      " 1   ID             788516 non-null  object        \n",
      " 2   Title          788516 non-null  object        \n",
      " 3   Type           788516 non-null  object        \n",
      " 4   StartDate      788516 non-null  datetime64[ns]\n",
      " 5   EndDate        788516 non-null  object        \n",
      " 6   Text           788516 non-null  object        \n",
      " 7   TextWordCount  788516 non-null  object        \n",
      " 8   PubTitle       788516 non-null  object        \n",
      " 9   SourceType     788516 non-null  object        \n",
      " 10  Year           788516 non-null  int64         \n",
      " 11  Month          788516 non-null  int64         \n",
      " 12  Newspaper      788516 non-null  object        \n",
      "dtypes: datetime64[ns](1), int64(2), object(10)\n",
      "memory usage: 78.2+ MB\n",
      "None\n"
     ]
    }
   ],
   "source": [
    "# Keep the earliest article\n",
    "df_nodup=df.groupby('TextLower').nth(0).reset_index()\n",
    "print(df_nodup.info())"
   ]
  },
  {
   "cell_type": "code",
   "execution_count": 43,
   "metadata": {},
   "outputs": [
    {
     "name": "stdout",
     "output_type": "stream",
     "text": [
      "Number of duplicated articles: 0\n",
      "Number of unavailable articles: 0\n"
     ]
    }
   ],
   "source": [
    "df_nodup['GroupNo']=df_nodup.groupby('TextLower').cumcount()+1\n",
    "print(\"Number of duplicated articles:\", df_nodup[df_nodup['GroupNo']>1]['ID'].nunique())\n",
    "print(\"Number of unavailable articles:\",df_nodup[df_nodup['TextLower']==\"\"]['ID'].nunique())"
   ]
  },
  {
   "cell_type": "code",
   "execution_count": 45,
   "metadata": {},
   "outputs": [],
   "source": [
    "df_nodup[['ID']].to_csv('/home/ec2-user/SageMaker/New Uncertainty/IDs_no_duplicates.csv',index=False)"
   ]
  },
  {
   "cell_type": "markdown",
   "metadata": {},
   "source": [
    "## A1. Newspaper Articles"
   ]
  },
  {
   "cell_type": "code",
   "execution_count": 3,
   "metadata": {},
   "outputs": [
    {
     "name": "stdout",
     "output_type": "stream",
     "text": [
      "<class 'pandas.core.frame.DataFrame'>\n",
      "RangeIndex: 822737 entries, 0 to 822736\n",
      "Data columns (total 12 columns):\n",
      " #   Column         Non-Null Count   Dtype         \n",
      "---  ------         --------------   -----         \n",
      " 0   ID             822737 non-null  object        \n",
      " 1   Title          822737 non-null  object        \n",
      " 2   Type           822737 non-null  object        \n",
      " 3   StartDate      822737 non-null  datetime64[ns]\n",
      " 4   EndDate        822737 non-null  object        \n",
      " 5   Text           822737 non-null  object        \n",
      " 6   TextWordCount  822737 non-null  object        \n",
      " 7   PubTitle       822737 non-null  object        \n",
      " 8   SourceType     822737 non-null  object        \n",
      " 9   Year           822737 non-null  int64         \n",
      " 10  Month          822737 non-null  int64         \n",
      " 11  Newspaper      822737 non-null  object        \n",
      "dtypes: datetime64[ns](1), int64(2), object(9)\n",
      "memory usage: 75.3+ MB\n",
      "None\n"
     ]
    }
   ],
   "source": [
    "print(df.info())"
   ]
  },
  {
   "cell_type": "code",
   "execution_count": 11,
   "metadata": {},
   "outputs": [
    {
     "name": "stdout",
     "output_type": "stream",
     "text": [
      "Wall Street Journal    251983\n",
      "New York Times         125270\n",
      "Los Angeles Times      121406\n",
      "The Washington Post    116772\n",
      "Chicago Tribune         90023\n",
      "Boston Globe            78922\n",
      "USA Today               38361\n",
      "Name: Newspaper, dtype: int64\n"
     ]
    }
   ],
   "source": [
    "print(df['Newspaper'].value_counts())"
   ]
  },
  {
   "cell_type": "markdown",
   "metadata": {},
   "source": [
    "## A2. An Example:"
   ]
  },
  {
   "cell_type": "code",
   "execution_count": 10,
   "metadata": {},
   "outputs": [
    {
     "name": "stdout",
     "output_type": "stream",
     "text": [
      "TITLE: 1984: IT WAS THE YEAR OF THE BIG LIE\n",
      "NEWSPAPER: Boston Globe\n",
      "PUBLICATION DATE: 1985-01-01 00:00:00\n",
      "FULL TEXT:\n",
      "ART BUCHWALD Art Buchwald is a syndicated columnist. A lot of people lied to all of us in 1984. Here are just a few of the whoppers I remember. \"I'm from the telephone company, and I'm here to save you money.\" \"The rise in the price of a postage stamp from 20 to 22 cents will speed up the delivery of a first-class letter.\" \"Every dollar in the Defense Department budget will be accounted for.\" \"With the new human services cuts I have recommended, no one truly in need will suffer.\" \"By merging these two great companies we will cut costs, increase productivity and provide better services without laying off one single person.\" \"If I am elected, I will not be beholden to any special interest group.\" \"We're willing to negotiate with the Americans seriously on arms control.\" \"We're willing to negotiate seriously with the Soviets on arms control.\" \"The CIA has no intention of overthrowing the Sandinista government in Nicaragua.\" \"Geraldine Ferraro's sex had nothing to do with my voting against her.\" \"The US budget deficit does not affect the nation's economy.\" \"Our tobacco company found no supporting evidence that smoking is harmful to your health.\" \"The Treasury's new tax reform will benefit every man, woman and child in this country.\" \"It's impossible. Our computer never makes a mistake.\" \"You will make a fortune if you invest in the New Orleans World's Fair.\" \"Acid rain is not a problem.\" \"Just leave your name with the answering service and we'll get back to you right away.\" \"This university has never offered a high school star football player anything more than room and board to recruit him.\" \"If you ban bullets that penetrate policemen's armored vests, every hunter and sportsman in America will be penalized.\" \"This is the last diet you will ever have to go on.\" \"I only posed for one roll of film for Penthouse magazine.\" \"If you buy our product and you're not satisfied, you may return it within 30 days and we will cheerfully refund your money.\" \"As a lawyer, all I'm asking is justice for my client.\" \"Quiet diplomacy works better than public demonstrations to release political prisoners.\" \"The Soviet Union would never interfere in the domestic affairs of Poland.\" \"Our latest model will give you 40 miles to the gallon.\" \"Deregulation of natural gas will lower your heating bills.\" \"You can move in tomorrow and you won't have to do one thing to fix it up.\" \"Our delivery man will be at your house before noon.\"\n"
     ]
    }
   ],
   "source": [
    "print(\"TITLE:\", df['Title'][0])\n",
    "print(\"NEWSPAPER:\",df['Newspaper'][0])\n",
    "print(\"PUBLICATION DATE:\",df['StartDate'][0])\n",
    "print(\"FULL TEXT:\")\n",
    "print(re.sub(' +',' ',df['Text'][0].replace('\\n',' ')).strip())"
   ]
  },
  {
   "cell_type": "code",
   "execution_count": null,
   "metadata": {},
   "outputs": [],
   "source": []
  }
 ],
 "metadata": {
  "kernelspec": {
   "display_name": "my_py",
   "language": "python",
   "name": "my_py"
  },
  "language_info": {
   "codemirror_mode": {
    "name": "ipython",
    "version": 3
   },
   "file_extension": ".py",
   "mimetype": "text/x-python",
   "name": "python",
   "nbconvert_exporter": "python",
   "pygments_lexer": "ipython3",
   "version": "3.6.10"
  }
 },
 "nbformat": 4,
 "nbformat_minor": 4
}
