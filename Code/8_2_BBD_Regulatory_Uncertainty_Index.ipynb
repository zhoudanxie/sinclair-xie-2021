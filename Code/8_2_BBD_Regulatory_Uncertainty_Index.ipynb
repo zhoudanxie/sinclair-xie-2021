{
 "cells": [
  {
   "cell_type": "code",
   "execution_count": 1,
   "metadata": {},
   "outputs": [],
   "source": [
    "import pandas as pd\n",
    "import re\n",
    "from nltk.corpus import stopwords\n",
    "import pickle\n",
    "import numpy as np\n",
    "from string import punctuation\n",
    "import time\n",
    "import spacy\n",
    "nlp = spacy.load('en_core_web_sm', disable=['parser', 'ner'])"
   ]
  },
  {
   "cell_type": "markdown",
   "metadata": {},
   "source": [
    "## 1. Import all articles containing \"regulat*\""
   ]
  },
  {
   "cell_type": "code",
   "execution_count": 2,
   "metadata": {},
   "outputs": [
    {
     "name": "stdout",
     "output_type": "stream",
     "text": [
      "<class 'pandas.core.frame.DataFrame'>\n",
      "RangeIndex: 822737 entries, 0 to 822736\n",
      "Data columns (total 12 columns):\n",
      " #   Column         Non-Null Count   Dtype         \n",
      "---  ------         --------------   -----         \n",
      " 0   ID             822737 non-null  object        \n",
      " 1   Title          822737 non-null  object        \n",
      " 2   Type           822737 non-null  object        \n",
      " 3   StartDate      822737 non-null  datetime64[ns]\n",
      " 4   EndDate        822737 non-null  object        \n",
      " 5   Text           822737 non-null  object        \n",
      " 6   TextWordCount  822737 non-null  object        \n",
      " 7   PubTitle       822737 non-null  object        \n",
      " 8   SourceType     822737 non-null  object        \n",
      " 9   Year           822737 non-null  int64         \n",
      " 10  Month          822737 non-null  int64         \n",
      " 11  Newspaper      822737 non-null  object        \n",
      "dtypes: datetime64[ns](1), int64(2), object(9)\n",
      "memory usage: 75.3+ MB\n",
      "None\n",
      "        StartDate\n",
      "0      1985-01-01\n",
      "78924  1985-01-01\n",
      "78925  1985-01-01\n",
      "78926  1985-01-01\n",
      "78927  1985-01-01\n",
      "...           ...\n",
      "822735 2020-08-31\n",
      "415617 2020-08-31\n",
      "415618 2020-08-31\n",
      "168942 2020-08-31\n",
      "822736 2020-08-31\n",
      "\n",
      "[822737 rows x 1 columns]\n"
     ]
    }
   ],
   "source": [
    "# Import all news articles that contain terms \"regulat*\"\n",
    "df1=pd.read_pickle('/home/ec2-user/SageMaker/New Uncertainty/parsed_xml.pkl')\n",
    "print(df1.info())\n",
    "print(df1.sort_values('StartDate')[['StartDate']])"
   ]
  },
  {
   "cell_type": "code",
   "execution_count": 3,
   "metadata": {},
   "outputs": [],
   "source": [
    "# df2=pd.read_pickle('/home/ec2-user/SageMaker/New Uncertainty/Update Data/parsed_xml_update.pkl')\n",
    "# print(df2.info())\n",
    "# print(df2.sort_values('StartDate')[['StartDate']])"
   ]
  },
  {
   "cell_type": "code",
   "execution_count": 4,
   "metadata": {},
   "outputs": [],
   "source": [
    "# df_all=df1.append(df2).sort_values(['StartDate','Newspaper']).reset_index(drop=True)\n",
    "# print(df_all.info())"
   ]
  },
  {
   "cell_type": "code",
   "execution_count": 5,
   "metadata": {},
   "outputs": [
    {
     "name": "stdout",
     "output_type": "stream",
     "text": [
      "<class 'pandas.core.frame.DataFrame'>\n",
      "Int64Index: 788516 entries, 0 to 788515\n",
      "Data columns (total 12 columns):\n",
      " #   Column         Non-Null Count   Dtype         \n",
      "---  ------         --------------   -----         \n",
      " 0   ID             788516 non-null  object        \n",
      " 1   Title          788516 non-null  object        \n",
      " 2   Type           788516 non-null  object        \n",
      " 3   StartDate      788516 non-null  datetime64[ns]\n",
      " 4   EndDate        788516 non-null  object        \n",
      " 5   Text           788516 non-null  object        \n",
      " 6   TextWordCount  788516 non-null  object        \n",
      " 7   PubTitle       788516 non-null  object        \n",
      " 8   SourceType     788516 non-null  object        \n",
      " 9   Year           788516 non-null  int64         \n",
      " 10  Month          788516 non-null  int64         \n",
      " 11  Newspaper      788516 non-null  object        \n",
      "dtypes: datetime64[ns](1), int64(2), object(9)\n",
      "memory usage: 78.2+ MB\n",
      "None\n"
     ]
    }
   ],
   "source": [
    "# Remove duplicated articles\n",
    "IDs_nodup=pd.read_csv('/home/ec2-user/SageMaker/New Uncertainty/IDs_no_duplicates.csv')\n",
    "IDs_nodup['ID']=IDs_nodup['ID'].astype('str')\n",
    "df=IDs_nodup.merge(df1,on='ID',how='left')\n",
    "print(df.info())"
   ]
  },
  {
   "cell_type": "markdown",
   "metadata": {},
   "source": [
    "## 2. Match BBD words"
   ]
  },
  {
   "cell_type": "code",
   "execution_count": 6,
   "metadata": {},
   "outputs": [],
   "source": [
    "# BBD's three sets of keywords\n",
    "uncertain=['uncertainty','uncertain']\n",
    "econ=['economic','economy']\n",
    "policy=['regulation', 'deficit','legislation', 'congress', 'white house', 'Federal Reserve', 'the Fed', 'regulations',\n",
    "        'regulatory', 'deficits','congressional', 'legislative', 'legislature']\n",
    "regulation=[\"banking supervision\", \"bank supervision\", \"glass-steagall\", \"tarp\", \"thrift supervision\", \"dodd-frank\",\n",
    "            \"financial reform\", \"commodity futures trading commission\", \"cftc\", \"house financial services committee\",\n",
    "            \"basel\", \"capital requirement\", \"Volcker rule\", \"bank stress test\", \"securities and exchange commission\",\n",
    "            \"sec\", \"deposit insurance\", \"fdic\", \"fslic\", \"ots\", \"occ\", \"firrea\", \"truth in lending\", \"union rights\",\n",
    "            \"card check\", \"collective bargaining law\", \"national labor relations board\", \"nlrb\", \"minimum wage\",\n",
    "            \"living wage\", \"right to work\", \"closed shop\", \"wages and hours\", \"workers compensation\",\n",
    "            \"advance notice requirement\", \"affirmative action\", \"at-will employment\", \"overtime requirements\",\n",
    "            \"trade adjustment assistance\", \"davis-bacon\", \"equal employment opportunity\", \"eeo\", \"osha\", \"antitrust\",\n",
    "            \"competition policy\", \"merger policy\", \"monopoly\", \"patent\", \"copyright\", \"federal trade commission\",\n",
    "            \"ftc\", \"unfair business practice\", \"cartel\", \"competition law\", \"price fixing\", \"class action\",\n",
    "            \"healthcare lawsuit\", \"tort reform\", \"tort policy\", \"punitive damages\", \"medical malpractice\",\n",
    "            \"energy policy\", \"energy tax\", \"carbon tax\", \"cap and trade\", \"cap and tax\", \"drilling restrictions\",\n",
    "            \"offshore drilling\", \"pollution controls\", \"environmental restrictions\", \"clean air act\", \"clean water act\",\n",
    "            \"environmental protection agency\", \"epa\", \"immigration policy\"]"
   ]
  },
  {
   "cell_type": "code",
   "execution_count": 7,
   "metadata": {},
   "outputs": [
    {
     "name": "stdout",
     "output_type": "stream",
     "text": [
      "13 75\n"
     ]
    }
   ],
   "source": [
    "print(len(policy), len(regulation))"
   ]
  },
  {
   "cell_type": "code",
   "execution_count": 8,
   "metadata": {},
   "outputs": [],
   "source": [
    "# Function to match whole words\n",
    "def findWholeWord(w):\n",
    "    return re.compile(r'\\b({0})\\b'.format(w), flags=re.IGNORECASE).search"
   ]
  },
  {
   "cell_type": "code",
   "execution_count": 9,
   "metadata": {},
   "outputs": [],
   "source": [
    "# Function to remove multiple spaces\n",
    "def remove_spaces(text):\n",
    "    text=text.replace('\\n', ' ').replace('\\r', '')\n",
    "    text=re.sub(' +',' ',text).strip()\n",
    "    return text"
   ]
  },
  {
   "cell_type": "code",
   "execution_count": 10,
   "metadata": {},
   "outputs": [],
   "source": [
    "# Function to lemmatize text\n",
    "def lemmatize(text):\n",
    "    doc=nlp(text)\n",
    "    lemmas=[token.lemma_ for token in doc if not token.is_space]\n",
    "    text_lemmatized=' '.join(lemmas)\n",
    "    return text_lemmatized"
   ]
  },
  {
   "cell_type": "code",
   "execution_count": 11,
   "metadata": {},
   "outputs": [],
   "source": [
    "# Function to find keywords in text\n",
    "def find_keyword(text,keywords1=uncertain,keywords2=econ,keywords3=policy,keywords4=regulation):\n",
    "    text_lemma=lemmatize(text)\n",
    "    uncertain_count=0\n",
    "    uncertain_words=[]\n",
    "    for term in keywords1:\n",
    "        term_lemma=lemmatize(term)\n",
    "        if findWholeWord(term_lemma)(text_lemma)!=None:\n",
    "            uncertain_count += 1\n",
    "            uncertain_words.append(term)\n",
    "    \n",
    "    econ_count=0\n",
    "    econ_words=[]\n",
    "    for term in keywords2:\n",
    "        term_lemma=lemmatize(term)\n",
    "        if findWholeWord(term_lemma)(text_lemma)!=None:\n",
    "            econ_count += 1\n",
    "            econ_words.append(term)\n",
    "            \n",
    "    policy_count=0\n",
    "    policy_words=[]\n",
    "    for term in keywords3:\n",
    "        term_lemma=lemmatize(term)\n",
    "        if findWholeWord(term_lemma)(text_lemma)!=None:\n",
    "            policy_count += 1\n",
    "            policy_words.append(term)\n",
    "            \n",
    "    reg_count=0\n",
    "    reg_words=[]\n",
    "    for term in keywords4:\n",
    "        term_lemma=lemmatize(term)\n",
    "        if findWholeWord(term_lemma)(text_lemma)!=None:\n",
    "            reg_count += 1\n",
    "            reg_words.append(term)            \n",
    "    \n",
    "    results=[uncertain_count, uncertain_words,econ_count,econ_words,policy_count,policy_words,reg_count,reg_words]\n",
    "    return results"
   ]
  },
  {
   "cell_type": "code",
   "execution_count": null,
   "metadata": {},
   "outputs": [],
   "source": [
    "# Match keywords\n",
    "uncertain_count=[]\n",
    "uncertain_words=[]\n",
    "econ_count=[]\n",
    "econ_words=[]\n",
    "policy_count=[]\n",
    "policy_words=[]\n",
    "reg_count=[]\n",
    "reg_words=[]\n",
    "for text in df['Text']:\n",
    "    results=find_keyword(text)\n",
    "    uncertain_count.append(results[0])\n",
    "    uncertain_words.append(results[1])\n",
    "    econ_count.append(results[2])\n",
    "    econ_words.append(results[3])    \n",
    "    policy_count.append(results[4])\n",
    "    policy_words.append(results[5])    \n",
    "    reg_count.append(results[6])\n",
    "    reg_words.append(results[7])    "
   ]
  },
  {
   "cell_type": "code",
   "execution_count": null,
   "metadata": {},
   "outputs": [],
   "source": [
    "df['BBDUncertainCount']=uncertain_count\n",
    "df['BBDUncertainWords']=uncertain_words"
   ]
  },
  {
   "cell_type": "code",
   "execution_count": null,
   "metadata": {},
   "outputs": [],
   "source": [
    "df['BBDEconCount']=econ_count\n",
    "df['BBDEconWords']=econ_words"
   ]
  },
  {
   "cell_type": "code",
   "execution_count": null,
   "metadata": {},
   "outputs": [],
   "source": [
    "df['BBDPolicyCount']=policy_count\n",
    "df['BBDPolicyWords']=policy_words"
   ]
  },
  {
   "cell_type": "code",
   "execution_count": null,
   "metadata": {},
   "outputs": [],
   "source": [
    "df['BBDRegCount']=reg_count\n",
    "df['BBDRegWords']=reg_words"
   ]
  },
  {
   "cell_type": "code",
   "execution_count": 29,
   "metadata": {},
   "outputs": [
    {
     "name": "stdout",
     "output_type": "stream",
     "text": [
      "1.0    4829\n",
      "Name: BBD_REPU, dtype: int64\n"
     ]
    }
   ],
   "source": [
    "df.loc[(df['BBDUncertainCount']>0) & (df['BBDEconCount']>0) & (df['BBDPolicyCount']>0) & (df['BBDRegCount']>0),\n",
    "      'BBD_REPU']=1\n",
    "print(df['BBD_REPU'].value_counts())"
   ]
  },
  {
   "cell_type": "code",
   "execution_count": 19,
   "metadata": {
    "scrolled": true
   },
   "outputs": [
    {
     "name": "stdout",
     "output_type": "stream",
     "text": [
      "857780280 [] [] ['regulation', 'legislation', 'congress', 'Federal Reserve', 'regulations', 'regulatory', 'legislative'] ['house financial services committee']\n",
      "925807674 [] ['economic', 'economy'] ['regulation', 'regulations'] []\n",
      "430212985 ['uncertain'] ['economic', 'economy'] [] []\n",
      "292620682 [] [] ['regulation', 'regulations', 'regulatory'] []\n",
      "307490698 [] ['economic', 'economy'] ['regulation', 'deficit', 'congress', 'white house', 'regulations', 'deficits'] []\n",
      "282723611 [] [] ['regulation', 'legislation', 'congress', 'regulations'] ['antitrust']\n",
      "307420103 [] ['economic'] ['congress', 'regulatory', 'congressional'] ['deposit insurance', 'occ']\n",
      "307576786 [] [] [] []\n",
      "1944990599 [] ['economic', 'economy'] ['regulation', 'regulations'] []\n",
      "756152643 [] [] ['regulation', 'legislation', 'regulations'] ['tarp']\n",
      "837437739 [] [] ['regulation', 'regulations'] []\n",
      "307276567 [] [] ['deficit', 'deficits'] []\n",
      "306730233 [] ['economic'] ['regulation', 'deficit', 'congress', 'regulations', 'deficits'] []\n",
      "421476517 [] [] ['regulation', 'regulations'] []\n",
      "282147215 ['uncertainty', 'uncertain'] [] ['regulation', 'legislation', 'congress', 'regulations', 'regulatory'] ['environmental protection agency']\n",
      "398537386 [] ['economic'] ['regulatory'] []\n",
      "291021955 [] [] [] ['federal trade commission']\n",
      "291038432 [] [] ['regulation', 'legislation', 'regulations', 'regulatory', 'legislature'] []\n",
      "281312635 [] [] ['regulation', 'regulations'] []\n",
      "397959054 [] ['economic'] ['regulation', 'regulations'] []\n",
      "281199188 ['uncertainty'] [] ['regulation', 'regulations', 'legislative', 'legislature'] []\n",
      "419723268 [] [] ['regulation', 'regulations'] []\n",
      "281617566 [] [] ['regulation', 'regulations'] []\n",
      "283136753 [] ['economic'] ['regulation', 'regulations'] []\n",
      "398665786 [] [] [] []\n",
      "2388392993 ['uncertain'] [] ['regulation', 'regulations'] []\n",
      "405208561 [] [] ['regulation', 'regulations'] []\n",
      "1560675052 [] [] ['white house'] []\n",
      "356697784 [] [] ['legislative'] []\n",
      "901373261 [] ['economic'] ['regulatory'] []\n",
      "292028440 [] [] ['regulation', 'regulations'] []\n",
      "398755070 [] [] ['regulation', 'regulations', 'regulatory'] ['securities and exchange commission', 'sec']\n",
      "283469675 [] [] [] []\n",
      "1221255232 ['uncertainty'] ['economic'] ['regulation', 'Federal Reserve', 'regulations', 'regulatory'] ['glass-steagall', 'dodd-frank', 'capital requirement', 'Volcker rule']\n",
      "290835620 [] [] ['regulation', 'regulations'] []\n",
      "282703042 [] [] [] []\n",
      "1672155527 [] [] [] []\n",
      "307718607 [] [] ['congress', 'legislature'] []\n",
      "292608523 ['uncertain'] ['economic', 'economy'] ['Federal Reserve', 'regulatory'] []\n",
      "282246242 [] [] ['regulation', 'legislation', 'regulations'] []\n",
      "1024204258 [] [] [] ['commodity futures trading commission', 'cftc', 'cartel']\n",
      "1024148797 [] [] [] ['commodity futures trading commission', 'cftc', 'cartel']\n",
      "410091515 [] [] ['regulation', 'regulations'] []\n",
      "292114011 [] [] ['regulation', 'legislation', 'regulations', 'regulatory', 'legislature'] []\n",
      "280959574 [] [] [] []\n",
      "283437139 [] [] ['congress'] []\n",
      "397914536 [] [] ['congress', 'white house', 'regulatory'] ['affirmative action']\n",
      "877833167 [] ['economic', 'economy'] ['regulation', 'regulations'] ['securities and exchange commission']\n",
      "876969076 [] ['economic', 'economy'] ['regulation', 'regulations'] ['securities and exchange commission']\n",
      "434065557 [] ['economic', 'economy'] ['regulation', 'regulations'] []\n",
      "1552917662 [] ['economic'] ['regulation', 'congress', 'regulations', 'regulatory'] []\n",
      "913428601 [] [] ['white house'] []\n",
      "306919651 [] ['economic', 'economy'] ['congress', 'regulatory'] []\n",
      "307130354 [] ['economic'] ['regulation', 'legislation', 'regulations', 'legislature'] ['federal trade commission']\n",
      "1663288076 [] [] [] ['copyright']\n",
      "281847607 [] ['economic'] ['congress', 'white house'] []\n",
      "282258957 [] ['economy'] ['congress', 'regulatory', 'legislature'] []\n",
      "1635314063 [] ['economic', 'economy'] ['regulation', 'deficit', 'legislation', 'congress', 'white house', 'regulations', 'deficits', 'congressional'] ['dodd-frank']\n",
      "307140894 [] [] ['regulation', 'regulations'] []\n",
      "283856211 [] ['economy'] [] []\n",
      "292678108 [] [] ['regulation', 'regulations'] []\n",
      "398067185 [] [] ['congress', 'congressional'] []\n",
      "283842815 [] ['economic'] ['regulation', 'legislation', 'regulations'] []\n",
      "398527449 [] [] ['regulatory'] []\n",
      "409161760 [] [] ['regulation', 'regulations'] []\n",
      "410067554 [] [] ['congress', 'white house', 'regulatory'] []\n",
      "2030591781 [] ['economic'] ['regulation', 'regulations'] []\n",
      "1518128407 [] [] ['regulation', 'regulations'] []\n",
      "838946268 [] [] ['regulation', 'regulations'] []\n",
      "1901617600 [] [] ['deficit', 'deficits'] []\n",
      "1364566502 [] ['economic'] ['regulation', 'congress', 'white house', 'regulations'] []\n",
      "282509221 [] [] ['regulation', 'regulations'] []\n",
      "282518114 [] [] ['regulation', 'legislation', 'regulations', 'legislative'] ['glass-steagall']\n",
      "281388093 [] [] ['regulation', 'legislation', 'regulations'] []\n",
      "281224586 [] [] [] []\n",
      "281513494 [] [] ['regulation', 'white house', 'regulations', 'legislature'] ['energy policy']\n",
      "1923916512 [] ['economic'] ['regulation', 'white house', 'regulations', 'congressional'] []\n",
      "307441690 [] [] [] []\n",
      "1432196760 [] ['economic', 'economy'] ['regulation', 'legislation', 'congress', 'white house', 'regulations', 'legislative'] []\n",
      "422116394 [] [] ['regulatory'] []\n",
      "409111974 [] [] ['regulation', 'legislation', 'regulations', 'legislative'] []\n",
      "280813005 [] [] ['regulation', 'regulations'] []\n",
      "306960543 [] [] ['regulation', 'deficit', 'regulations', 'deficits'] []\n",
      "1737063411 ['uncertainty', 'uncertain'] [] ['legislation'] []\n",
      "1736887187 ['uncertainty', 'uncertain'] [] ['legislation'] []\n",
      "1736872786 ['uncertainty', 'uncertain'] [] ['legislation'] []\n",
      "398216887 [] [] ['white house'] []\n",
      "292326768 [] [] ['regulation', 'regulations'] []\n",
      "1838298653 [] [] ['regulation', 'regulations'] []\n",
      "1838397028 [] [] ['regulation', 'regulations'] []\n",
      "1828155593 [] ['economy'] ['white house'] []\n",
      "307398168 [] [] ['regulation', 'regulations'] []\n",
      "409063180 [] [] [] []\n",
      "283914589 [] [] ['legislation', 'congress'] []\n",
      "280968175 [] ['economic'] [] []\n",
      "1270789485 [] ['economic'] ['legislative'] ['affirmative action', 'epa']\n",
      "1819238922 [] [] [] []\n",
      "1819277868 [] [] [] []\n",
      "307101075 [] [] ['regulation', 'regulations'] []\n",
      "347837168 [] [] ['regulation', 'legislation', 'regulations', 'regulatory', 'legislative'] []\n"
     ]
    }
   ],
   "source": [
    "for i in range(0,100):\n",
    "    print(df['ID'][i],uncertain_words[i],econ_words[i],policy_words[i],reg_words[i])"
   ]
  },
  {
   "cell_type": "code",
   "execution_count": 21,
   "metadata": {},
   "outputs": [
    {
     "name": "stdout",
     "output_type": "stream",
     "text": [
      "<class 'pandas.core.frame.DataFrame'>\n",
      "Int64Index: 788516 entries, 0 to 788515\n",
      "Data columns (total 21 columns):\n",
      " #   Column             Non-Null Count   Dtype         \n",
      "---  ------             --------------   -----         \n",
      " 0   ID                 788516 non-null  object        \n",
      " 1   Title              788516 non-null  object        \n",
      " 2   Type               788516 non-null  object        \n",
      " 3   StartDate          788516 non-null  datetime64[ns]\n",
      " 4   EndDate            788516 non-null  object        \n",
      " 5   Text               788516 non-null  object        \n",
      " 6   TextWordCount      788516 non-null  object        \n",
      " 7   PubTitle           788516 non-null  object        \n",
      " 8   SourceType         788516 non-null  object        \n",
      " 9   Year               788516 non-null  int64         \n",
      " 10  Month              788516 non-null  int64         \n",
      " 11  Newspaper          788516 non-null  object        \n",
      " 12  BBDUncertainCount  788516 non-null  int64         \n",
      " 13  BBDUncertainWords  788516 non-null  object        \n",
      " 14  BBDEconCount       788516 non-null  int64         \n",
      " 15  BBDEconWords       788516 non-null  object        \n",
      " 16  BBDPolicyCount     788516 non-null  int64         \n",
      " 17  BBDPolicyWords     788516 non-null  object        \n",
      " 18  BBDRegCount        788516 non-null  int64         \n",
      " 19  BBDRegWords        788516 non-null  object        \n",
      " 20  BBD_REPU           4829 non-null    float64       \n",
      "dtypes: datetime64[ns](1), float64(1), int64(6), object(13)\n",
      "memory usage: 152.3+ MB\n",
      "None\n"
     ]
    }
   ],
   "source": [
    "print(df.info())"
   ]
  },
  {
   "cell_type": "code",
   "execution_count": 20,
   "metadata": {},
   "outputs": [],
   "source": [
    "df[['ID','BBDUncertainCount','BBDUncertainWords','BBDEconCount','BBDEconWords','BBDPolicyCount','BBDPolicyWords',\n",
    "   'BBDRegCount','BBDRegWords']].to_csv('/home/ec2-user/SageMaker/New Uncertainty/Sentiment Analysis/BBDRegUncertaintyWords.csv',index=False)"
   ]
  },
  {
   "cell_type": "markdown",
   "metadata": {},
   "source": [
    "## 3. Calculate BBD uncertainty index"
   ]
  },
  {
   "cell_type": "code",
   "execution_count": 30,
   "metadata": {},
   "outputs": [
    {
     "name": "stdout",
     "output_type": "stream",
     "text": [
      "                Newspaper  Year  Month  BBD_REPU\n",
      "0            Boston Globe  1985      1       0.0\n",
      "1            Boston Globe  1985      2       0.0\n",
      "2            Boston Globe  1985      3       1.0\n",
      "3            Boston Globe  1985      4       0.0\n",
      "4            Boston Globe  1985      5       0.0\n",
      "...                   ...   ...    ...       ...\n",
      "2940  Wall Street Journal  2020      4       4.0\n",
      "2941  Wall Street Journal  2020      5       4.0\n",
      "2942  Wall Street Journal  2020      6       6.0\n",
      "2943  Wall Street Journal  2020      7       7.0\n",
      "2944  Wall Street Journal  2020      8       7.0\n",
      "\n",
      "[2945 rows x 4 columns]\n"
     ]
    }
   ],
   "source": [
    "# Calculate BBD monthly article counts by newspaper\n",
    "monthlyCount=df[['Newspaper','Year','Month','BBD_REPU']].groupby(['Newspaper','Year','Month']).agg('sum').reset_index()\n",
    "print(monthlyCount)"
   ]
  },
  {
   "cell_type": "code",
   "execution_count": 31,
   "metadata": {},
   "outputs": [
    {
     "name": "stdout",
     "output_type": "stream",
     "text": [
      "<class 'pandas.core.frame.DataFrame'>\n",
      "RangeIndex: 4339 entries, 0 to 4338\n",
      "Data columns (total 4 columns):\n",
      " #   Column               Non-Null Count  Dtype \n",
      "---  ------               --------------  ----- \n",
      " 0   Newspaper            4339 non-null   object\n",
      " 1   Year                 4339 non-null   int64 \n",
      " 2   Month                4339 non-null   int64 \n",
      " 3   Total article count  4339 non-null   int64 \n",
      "dtypes: int64(3), object(1)\n",
      "memory usage: 135.7+ KB\n",
      "None\n"
     ]
    }
   ],
   "source": [
    "# Import total monthly article counts\n",
    "totalMonthlyCount=pd.read_csv('/home/ec2-user/SageMaker/New Uncertainty/Sentiment Analysis/totalMonthlyArticleCount.csv')\n",
    "print(totalMonthlyCount.info())"
   ]
  },
  {
   "cell_type": "code",
   "execution_count": 32,
   "metadata": {},
   "outputs": [],
   "source": [
    "# Merge total article count and BBD article count\n",
    "totalMonthlyCount.loc[totalMonthlyCount['Newspaper']=='LA Times','Newspaper']='Los Angeles Times'\n",
    "totalMonthlyCount.loc[totalMonthlyCount['Newspaper']=='Washington Post','Newspaper']='The Washington Post'\n",
    "mergedMonthlyCount=monthlyCount.merge(totalMonthlyCount,on=['Newspaper','Year','Month'],how='left')\n",
    "mergedMonthlyCount['year-month']=mergedMonthlyCount['Year'].map(str)+'-'+mergedMonthlyCount['Month'].map(str)"
   ]
  },
  {
   "cell_type": "code",
   "execution_count": 33,
   "metadata": {},
   "outputs": [],
   "source": [
    "# Function to calculate BBD index\n",
    "newspapers=mergedMonthlyCount['Newspaper'].unique()\n",
    "BBDindex=mergedMonthlyCount[['Year','Month','year-month']].drop_duplicates().reset_index(drop=True)"
   ]
  },
  {
   "cell_type": "code",
   "execution_count": 34,
   "metadata": {},
   "outputs": [],
   "source": [
    "T1_start=\"1985-1\"\n",
    "T1_end=\"2009-12\"\n",
    "T2_start=\"1985-1\"\n",
    "T2_end=\"2009-12\"\n",
    "def BBD_index(var):\n",
    "    mergedMonthlyCount['X']=mergedMonthlyCount[var]/mergedMonthlyCount['Total article count']\n",
    "    # Standardization over T1\n",
    "    for newspaper in newspapers:\n",
    "        mergedMonthlyCount.loc[mergedMonthlyCount['Newspaper']==newspaper,'variance']=\\\n",
    "            np.var(mergedMonthlyCount[(mergedMonthlyCount['Newspaper']==newspaper) &\n",
    "            (T1_start <= mergedMonthlyCount['year-month']) & (mergedMonthlyCount['year-month'] <= T1_end)]['X'])\n",
    "    mergedMonthlyCount['Y']=mergedMonthlyCount['X']/np.sqrt(mergedMonthlyCount['variance'])\n",
    "    # Multi-paper index\n",
    "    for month in BBDindex['year-month']:\n",
    "        BBDindex.loc[BBDindex['year-month'] == month, 'Z'] = \\\n",
    "            np.mean(mergedMonthlyCount[mergedMonthlyCount['year-month'] == month]['Y'])\n",
    "    # Normalization over T2\n",
    "    M=np.mean(BBDindex.loc[(T2_start<=BBDindex['year-month']) & (BBDindex['year-month']<=T2_end),'Z'])\n",
    "    new_var=BBDindex['Z']*(100/M)\n",
    "    return new_var"
   ]
  },
  {
   "cell_type": "code",
   "execution_count": 35,
   "metadata": {},
   "outputs": [],
   "source": [
    "BBDindex['BBD_REPU']=BBD_index('BBD_REPU')"
   ]
  },
  {
   "cell_type": "code",
   "execution_count": 38,
   "metadata": {},
   "outputs": [
    {
     "name": "stdout",
     "output_type": "stream",
     "text": [
      "     Year  Month year-month         Z    BBD_REPU\n",
      "0    1985      1     1985-1  0.487257   60.988212\n",
      "1    1985      2     1985-2  0.122793   15.369613\n",
      "2    1985      3     1985-3  1.053601  131.875514\n",
      "3    1985      4     1985-4  0.646527   80.923492\n",
      "4    1985      5     1985-5  0.868745  108.737733\n",
      "..    ...    ...        ...       ...         ...\n",
      "423  2020      4     2020-4  4.730088  592.048140\n",
      "424  2020      5     2020-5  3.946027  493.910134\n",
      "425  2020      6     2020-6  2.807571  351.413643\n",
      "426  2020      7     2020-7  3.674267  459.894819\n",
      "427  2020      8     2020-8  4.257283  532.868874\n",
      "\n",
      "[428 rows x 5 columns]\n"
     ]
    }
   ],
   "source": [
    "print(BBDindex)"
   ]
  },
  {
   "cell_type": "code",
   "execution_count": 37,
   "metadata": {},
   "outputs": [],
   "source": [
    "BBDindex.drop('Z',axis=1).to_csv('/home/ec2-user/SageMaker/New Uncertainty/Sentiment Analysis/BBDRegUncertaintyIndex.csv',index=False)"
   ]
  },
  {
   "cell_type": "code",
   "execution_count": null,
   "metadata": {},
   "outputs": [],
   "source": []
  }
 ],
 "metadata": {
  "kernelspec": {
   "display_name": "my_py",
   "language": "python",
   "name": "my_py"
  },
  "language_info": {
   "codemirror_mode": {
    "name": "ipython",
    "version": 3
   },
   "file_extension": ".py",
   "mimetype": "text/x-python",
   "name": "python",
   "nbconvert_exporter": "python",
   "pygments_lexer": "ipython3",
   "version": "3.6.10"
  }
 },
 "nbformat": 4,
 "nbformat_minor": 4
}
