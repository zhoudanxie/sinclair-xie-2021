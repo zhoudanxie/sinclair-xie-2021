{
 "cells": [
  {
   "cell_type": "code",
   "execution_count": 1,
   "metadata": {},
   "outputs": [],
   "source": [
    "import xml.etree.cElementTree as et\n",
    "from lxml import etree\n",
    "import pandas as pd\n",
    "import os\n",
    "import re"
   ]
  },
  {
   "cell_type": "code",
   "execution_count": 2,
   "metadata": {},
   "outputs": [
    {
     "name": "stdout",
     "output_type": "stream",
     "text": [
      "9278\n"
     ]
    }
   ],
   "source": [
    "# Import updated data\n",
    "filePath='/home/ec2-user/SageMaker/data/corpus/regnews_jan2021/'\n",
    "files=[]\n",
    "for file in os.listdir(filePath):\n",
    "    files.append(file)\n",
    "print(len(files))\n",
    "#print(files[0:5])\n",
    "\n",
    "for file in files:\n",
    "    if file.endswith('.xml'):\n",
    "        pass\n",
    "    else:\n",
    "        print(file)"
   ]
  },
  {
   "cell_type": "code",
   "execution_count": 3,
   "metadata": {},
   "outputs": [],
   "source": [
    "# Function to print one XML example\n",
    "def print_xml(file):\n",
    "    tree = etree.parse(file)\n",
    "    xml = etree.tostring(tree, encoding=\"unicode\", pretty_print=True)\n",
    "    print(xml)"
   ]
  },
  {
   "cell_type": "code",
   "execution_count": 4,
   "metadata": {},
   "outputs": [
    {
     "name": "stdout",
     "output_type": "stream",
     "text": [
      "<RECORD>\n",
      "   <GOID>2467787339</GOID>\n",
      "   \n",
      "   <Obj>\n",
      "      <SourceRollupType>Newspapers</SourceRollupType>\n",
      "      <ObjectTypes>\n",
      "         <other ObjectTypeOrigin=\"EXT\">News</other>\n",
      "         <mstar>News</mstar>\n",
      "      </ObjectTypes>\n",
      "      <ObjectRollupType>Articles - All Types</ObjectRollupType>\n",
      "      <TitleAtt HTMLContent=\"true\">\n",
      "         <Title>JD Health Makes Strong Debut in Hong Kong; The city's stock market closes out its best year for listing activity in a decade, thanks in big part to Chinese technology companies</Title>\n",
      "      </TitleAtt>\n",
      "      <NumericDate>2020-12-08</NumericDate>\n",
      "      <StartDate>2020-12-08</StartDate>\n",
      "      <EndDate>2020-12-08</EndDate>\n",
      "      <AlphaDate>Dec 8, 2020</AlphaDate>\n",
      "      <Language>       \n",
      "         <RawLang>English</RawLang>\n",
      "     </Language>\n",
      "      <Language IsPrimary=\"true\">       \n",
      "         <ISO>         \n",
      "            <ISOCode>ENG</ISOCode>\n",
      "            <ISOExpansion ISOCode=\"ENG\">English</ISOExpansion>\n",
      "         </ISO>\n",
      "     </Language>\n",
      "      <Copyright>\n",
      "         <CopyrightData HTMLContent=\"true\">Copyright 2020 Dow Jones &amp; Company, Inc. All Rights Reserved.</CopyrightData>\n",
      "      </Copyright>\n",
      "      <PrintLocation>       \n",
      "         <DocSection>Markets</DocSection>\n",
      "         <ColumnHeader>IPOs</ColumnHeader>\n",
      "     </PrintLocation>\n",
      "      <ObjectIDs>       \n",
      "         <ObjectID>\n",
      "            <PMID>117310</PMID>\n",
      "         </ObjectID>\n",
      "         <ObjectID>\n",
      "            <PCID>PQ_117310_Dec82020______</PCID>\n",
      "         </ObjectID>\n",
      "         <ObjectID>\n",
      "            <MSTARLegacyID>WSJOWSJO202012089FE643AB338203EEF23295E5D782B5F2</MSTARLegacyID>\n",
      "         </ObjectID>\n",
      "     </ObjectIDs>\n",
      "      <LexileScore>1560</LexileScore>\n",
      "      <Contributors>       \n",
      "         <Contributor ContribOrder=\"1\">\n",
      "            <Author>\n",
      "               <NormalizedDisplayForm>Chiu, Joanne</NormalizedDisplayForm>\n",
      "               <FirstNameAtt IsNormalized=\"true\" ContribOrigin=\"AuthorNormalization\">\n",
      "                  <FirstName>Joanne</FirstName>\n",
      "               </FirstNameAtt>\n",
      "               <ContribPersonNameAtt IsNormalized=\"true\" ContribOrigin=\"AuthorNormalization\">\n",
      "                  <ContribPersonName>Joanne Chiu</ContribPersonName>\n",
      "               </ContribPersonNameAtt>\n",
      "               <LastNameAtt IsNormalized=\"true\" ContribOrigin=\"AuthorNormalization\">\n",
      "                  <LastName>Chiu</LastName>\n",
      "               </LastNameAtt>\n",
      "               <OriginalFormAtt>\n",
      "                  <OriginalForm>Joanne Chiu</OriginalForm>\n",
      "               </OriginalFormAtt>\n",
      "            </Author>\n",
      "         </Contributor>\n",
      "     </Contributors>\n",
      "      <Terms>       \n",
      "         <CompanyTerm TermSource=\"AutoCatNstein\">         \n",
      "            <CompanyNameAtt TermVocab=\"CORP\">\n",
      "               <CompanyName>JD.com</CompanyName>\n",
      "            </CompanyNameAtt>\n",
      "            <CompanyNAICAtt>\n",
      "               <CompanyNAIC>454110</CompanyNAIC>\n",
      "            </CompanyNAICAtt>\n",
      "         </CompanyTerm>\n",
      "         <PQBCompanyTerm TermSource=\"AutoCatNstein\">         \n",
      "            <CompanyNameAtt TermVocab=\"BUSCORP\">\n",
      "               <CompanyName>JD.com</CompanyName>\n",
      "            </CompanyNameAtt>\n",
      "            <CompanyTickerAtt>\n",
      "               <CompanyTicker>JD</CompanyTicker>\n",
      "            </CompanyTickerAtt>\n",
      "            <CompanyIDAtt TermVocab=\"BUSCORP\">\n",
      "               <CompanyID>5048813</CompanyID>\n",
      "            </CompanyIDAtt>\n",
      "            <CompanyType>Public</CompanyType>\n",
      "            <CompanyHQLocation>Cayman Islands</CompanyHQLocation>\n",
      "            <CompanyWebsite>https://www.jd.com</CompanyWebsite>\n",
      "            <CompanyStockExchange>NASDAQ</CompanyStockExchange>\n",
      "         </PQBCompanyTerm>\n",
      "         <GenSubjTerm TermSource=\"AutoCatNstein\" TermVocab=\"PQBUS\">\n",
      "            <GenSubjValue>Stock exchanges</GenSubjValue>\n",
      "         </GenSubjTerm>\n",
      "         <GenSubjTerm TermSource=\"AutoCatNstein\" TermVocab=\"PQBUS\">\n",
      "            <GenSubjValue>Drug stores</GenSubjValue>\n",
      "         </GenSubjTerm>\n",
      "         <GenSubjTerm TermSource=\"AutoCatNstein\" TermVocab=\"PQBUS\">\n",
      "            <GenSubjValue>Initial public offerings</GenSubjValue>\n",
      "         </GenSubjTerm>\n",
      "         <GenSubjTerm TermSource=\"AutoCatNstein\" TermVocab=\"PQBUS\">\n",
      "            <GenSubjValue>Securities markets</GenSubjValue>\n",
      "         </GenSubjTerm>\n",
      "         <GenSubjTerm TermSource=\"AutoCatNstein\" TermVocab=\"PQBUS\">\n",
      "            <GenSubjValue>New stock market listings</GenSubjValue>\n",
      "         </GenSubjTerm>\n",
      "         <Term TermSource=\"AutoCatNstein\" TermVocab=\"GEOG\">\n",
      "            <Geographic>China</Geographic>\n",
      "         </Term>\n",
      "         <Term TermSource=\"AutoCatNstein\" TermVocab=\"GEOG\">\n",
      "            <Geographic>Hong Kong</Geographic>\n",
      "         </Term>\n",
      "         <Term TermSource=\"AutoCatNstein\" TermVocab=\"GEOG\">\n",
      "            <Geographic>United States--US</Geographic>\n",
      "         </Term>\n",
      "         <Term TermSource=\"AutoCatNstein\" TermVocab=\"GEOG\">\n",
      "            <Geographic>New York</Geographic>\n",
      "         </Term>\n",
      "     </Terms>\n",
      "   </Obj>\n",
      "   <TextInfo>       \n",
      "      <Text WordCount=\"569\" HTMLContent=\"true\">&lt;html&gt;&lt;head&gt;&lt;meta name='ValidationSchema' content='http://www.w3.org/2002/08/xhtml/xhtml1-strict.xsd'/&gt;&lt;title&gt;&lt;/title&gt;&lt;/head&gt;&lt;body&gt;\n",
      "&lt;p&gt;Shares in one of China's top telemedicine providers surged on their Hong Kong debut Tuesday, reflecting how Chinese technology companies have reinvigorated the city's stock market.&lt;/p&gt;\n",
      "&lt;p&gt;The $3.5 billion initial public offering by JD Health International Inc. is Hong Kong's largest this year. It has come as the city closes out its best year for listing activity in a decade—thanks both to IPOs and to secondary listings of companies whose stock already trades on other exchanges, such as JD Health's parent, the e-commerce group JD.com Inc.&lt;/p&gt;\n",
      "\n",
      "&lt;p&gt;JD Health stock closed 56% higher at 110 Hong Kong dollars a share, the equivalent of $14.19, giving the company a market value of about $44 billion, after earlier rising as much as 76%. Rival Alibaba Health Information Technology Ltd., which is controlled by internet giant Alibaba Group Holding Ltd., has a market value of about $41 billion.&lt;/p&gt;\n",
      "&lt;p&gt;Individual investors placed orders for more than 420 times the stock offered to them, while institutional buyers sought more than 31 times the shares they were offered, JD Health said. The company operates China's largest online retail pharmacy, as well as providing other health-care services.&lt;/p&gt;\n",
      "&lt;p&gt;Including JD Health, more than 130 companies have raised nearly $47 billion through IPOs and secondary listings in Hong Kong this year, according to Refinitiv. That is the highest total since 2010, even though Ant Group Co.'s blockbuster IPO was derailed in November. Parent company JD.com's own secondary listing in June raised nearly $4.5 billion, making it the city's biggest listing this year.&lt;/p&gt;\n",
      "&lt;p&gt; The city's exchange has been the top destination for both unlisted Chinese companies and those already traded on New York's exchanges, as U.S. policy makers threaten a trading ban in shares of Chinese companies whose audit papers aren't inspected by U.S. regulators.&lt;/p&gt;\n",
      "&lt;p&gt;Since 2018, listings by Chinese technology and e-commerce companies including Alibaba, Meituan and Xiaomi Corp. have strengthened the city's high-tech credentials. And this year, these companies have surged in value, alongside U.S. technology giants.&lt;/p&gt;\n",
      "&lt;p&gt;Meituan's stock has nearly tripled this year while Xiaomi's shares have gained nearly 150%. In July, the city's main index provider introduced the Hang Seng Tech Index, which tracks 30 locally listed technology companies, including Alibaba and Tencent Holdings Ltd. Had the index been in existence for all of 2020, it would be up about 69% so far this year.&lt;/p&gt;\n",
      "&lt;p&gt;JD Health Chief Executive Lijun Xin said the company picked Hong Kong over New York to be closer to investors who are more familiar with China's health-care industry. \"Hong Kong also has a robust capital market with strong liquidity, making it suitable for us to list here,\" he said.&lt;/p&gt;\n",
      "&lt;p&gt;Mr. Xin said the global pandemic has accelerated JD Health's listing plan, as coronavirus-induced demand has sped up the development of the whole sector. He said the money raised would be used to expand and to serve clients better.&lt;/p&gt;\n",
      "&lt;p&gt;JD Health's ultimate fundraising size could total $4 billion if underwriting banks exercise a so-called green-shoe option to buy additional stock.&lt;/p&gt;\n",
      "&lt;p&gt;Hong Kong has also hosted a series of more traditional IPOs this year. Shares in property-management company China Resources Mixc Lifestyle Services Ltd. will start trading Wednesday, after it raised nearly $1.6 billion through an IPO. And Chinese detergent maker Blue Moon Group Holdings Ltd. is selling up to $1.3 billion of stock before its shares start trading on Dec. 16.&lt;/p&gt;\n",
      "&lt;p&gt;Write to Joanne Chiu at joanne.chiu@wsj.com &lt;/p&gt;\n",
      "&lt;p&gt;Credit: By Joanne Chiu &lt;/p&gt;&lt;/body&gt;&lt;/html&gt;</Text>\n",
      "     </TextInfo>\n",
      "   <DFS>\n",
      "      <PubFrosting>\n",
      "         <Title>Wall Street Journal (Online)</Title>\n",
      "         <MpubId>105983</MpubId>\n",
      "         <SortTitle>Wall Street Journal (Online)</SortTitle>\n",
      "         <Qualifier>New York, N.Y.</Qualifier>\n",
      "         <JournalCode>WSJO</JournalCode>\n",
      "         <SourceType>Newspapers</SourceType>\n",
      "         <StartDate>18890101</StartDate>\n",
      "         <EndDate>99991231</EndDate>\n",
      "         <publisher>\n",
      "            <PublisherName>Dow Jones &amp; Company Inc</PublisherName>\n",
      "            <PublisherAddress>\n",
      "               <Address1>U.S. Highway 1 at Ridge Road</Address1>\n",
      "               <City>South Brunswick</City>\n",
      "               <Province>NJ</Province>\n",
      "               <ZipCode>08852</ZipCode>\n",
      "               <Country>United States</Country>\n",
      "            </PublisherAddress>\n",
      "            <URL>http://www.dowjones.com/</URL>\n",
      "            <PublisherNote>The following are trademarks or service marks\n",
      "of Dow Jones &amp; Company, Inc.:\n",
      "  The Wall Street Journal (R)\n",
      "  Barron's (R)\n",
      "  The Wall Street Journal (R) Europe\n",
      "  The Asian Wall Street Journal (R)\n",
      "  The Wall Street Journal (R) Classroom Edition</PublisherNote>\n",
      "         </publisher>\n",
      "         <Locators>\n",
      "            <Locator Type=\"PQPMID\">\n",
      "               <Name>117310</Name>\n",
      "            </Locator>\n",
      "            <Locator Type=\"ELECISSN\">\n",
      "               <Name>25749579</Name>\n",
      "            </Locator>\n",
      "         </Locators>\n",
      "         <CatalogNum>46848.00</CatalogNum>\n",
      "         <Languages>\n",
      "            <Language>eng</Language>\n",
      "         </Languages>\n",
      "         <Flags>\n",
      "            <Flag Type=\"BLOCK_BY_PUB\">N</Flag>\n",
      "            <Flag Type=\"ARTICLE_TRANSLATION\">Y</Flag>\n",
      "            <Flag Type=\"ALERTING_FLAG\">Y</Flag>\n",
      "            <Flag Type=\"DOC_USAGE_ROYALTIES\">N</Flag>\n",
      "            <Flag Type=\"UNSTRUCTURED_DATA\">N</Flag>\n",
      "            <Flag Type=\"PRIMARY_SOURCE_FLAG\">N</Flag>\n",
      "            <Flag Type=\"OPEN_LAYER_RIGHTS\">OL_IN_NONE</Flag>\n",
      "            <Flag Type=\"OL_CRAWL_BLOCKED\">Y</Flag>\n",
      "            <Flag Type=\"EXCLUDE_FROM_TDM\">N</Flag>\n",
      "            <Flag Type=\"EXCLUDE_FROM_GOOGLE_SCHOLAR\">N</Flag>\n",
      "         </Flags>\n",
      "         <Subjects>\n",
      "            <Subject>Business And Economics</Subject>\n",
      "         </Subjects>\n",
      "         <CurrentTitle>\n",
      "            <Title>Wall Street Journal (Online)</Title>\n",
      "            <SortTitle>Wall Street Journal (Online)</SortTitle>\n",
      "            <Qualifier>New York, N.Y.</Qualifier>\n",
      "            <EndIssueDate>99991231</EndIssueDate>\n",
      "            <Locators>\n",
      "               <Locator Type=\"PQPMID\">\n",
      "                  <Name>117310</Name>\n",
      "               </Locator>\n",
      "               <Locator Type=\"ELECISSN\">\n",
      "                  <Name>25749579</Name>\n",
      "               </Locator>\n",
      "            </Locators>\n",
      "            <CatalogNum>46848.00</CatalogNum>\n",
      "         </CurrentTitle>\n",
      "         \n",
      "         <CoverImageType>None</CoverImageType>\n",
      "         <BrowseType>IssueDateBrowse</BrowseType>\n",
      "         <EmbargoDays>0</EmbargoDays>\n",
      "         <HasGaps>0</HasGaps>\n",
      "         <CoverageRange>\n",
      "            <AlphaStartDate>Jan 8, 2010</AlphaStartDate>\n",
      "            <AlphaEndDate>Current</AlphaEndDate>\n",
      "            <NumericStartDate>20100108</NumericStartDate>\n",
      "            <NumericEndDate>99990101</NumericEndDate>\n",
      "         </CoverageRange>\n",
      "         <PubFrequencies/>\n",
      "         <ContentModel>CM_DEFAULT</ContentModel>\n",
      "      </PubFrosting>\n",
      "      <GroupFrosting>\n",
      "         <AlphaDate>Dec 8, 2020</AlphaDate>\n",
      "         <StartDate>2020-12-08</StartDate>\n",
      "         <EndDate>2020-12-08</EndDate>\n",
      "         <Locators>\n",
      "            <Locator Type=\"PQPCID\">\n",
      "               <Name>PQ_117310_Dec82020______</Name>\n",
      "            </Locator>\n",
      "         </Locators>\n",
      "      </GroupFrosting>\n",
      "\n",
      "      \n",
      "   </DFS>\n",
      "   \n",
      "</RECORD>\n",
      "\n"
     ]
    }
   ],
   "source": [
    "print_xml(filePath+files[0])"
   ]
  },
  {
   "cell_type": "code",
   "execution_count": 5,
   "metadata": {},
   "outputs": [],
   "source": [
    "# Function to remove html tags from a string\n",
    "def remove_html_tags(text):\n",
    "    clean = re.compile('<.*?>')\n",
    "    return re.sub(clean, '', text)\n",
    "\n",
    "# Function to remove multiple spaces\n",
    "def remove_spaces(text):\n",
    "    text=re.sub(' +',' ',text).strip()\n",
    "    return text"
   ]
  },
  {
   "cell_type": "code",
   "execution_count": 6,
   "metadata": {},
   "outputs": [],
   "source": [
    "# Function to parse XML\n",
    "def import_xml(ID, file):\n",
    "    xmlp = et.XMLParser(encoding=\"UTF-8\")\n",
    "    parsed_xml = et.parse(file,parser=xmlp)\n",
    "    root = parsed_xml.getroot()\n",
    "    for child in root.findall('Obj'):\n",
    "        lang=child.find('Language').find('RawLang').text\n",
    "    if lang=='English':\n",
    "        for child in root.findall('Obj'):\n",
    "            type=child.find('ObjectTypes').find('mstar').text\n",
    "            title=child.find('TitleAtt').find('Title').text\n",
    "            try:\n",
    "                startdate=child.find('StartDate').text\n",
    "                enddate=child.find('EndDate').text\n",
    "            except:\n",
    "                startdate=child.find('NumericDate').text\n",
    "                enddate=child.find('NumericDate').text\n",
    "\n",
    "        if root.find('TextInfo')!=None:\n",
    "            for node in root.iter('Text'):\n",
    "                text=node.text\n",
    "                text=remove_spaces(remove_html_tags(text))\n",
    "                wordcount=node.get('WordCount')\n",
    "        else:\n",
    "            text=''\n",
    "            wordcount=0\n",
    "\n",
    "        for child in root.findall('DFS'):\n",
    "            pubtitle=child.find('PubFrosting').find('Title').text\n",
    "            sourcetype=child.find('PubFrosting').find('SourceType').text\n",
    "    \n",
    "        new_dic={'ID':ID,'Title':title,'Type':type,'StartDate':startdate,'EndDate':enddate,'Text':text,\n",
    "            'TextWordCount':wordcount,'PubTitle':pubtitle, 'SourceType':sourcetype}\n",
    "        df_xml=pd.DataFrame([new_dic])\n",
    "    return df_xml"
   ]
  },
  {
   "cell_type": "code",
   "execution_count": 7,
   "metadata": {},
   "outputs": [],
   "source": [
    "# Parse XML files\n",
    "df=pd.DataFrame()\n",
    "not_parsed=[]\n",
    "for filename in files:\n",
    "    if filename.endswith('.xml'):\n",
    "        ID=filename.split('.xml')[0]\n",
    "        file=filePath+filename\n",
    "        try:\n",
    "            new=import_xml(ID, file)\n",
    "            df=df.append(new).reset_index(drop=True)\n",
    "        except:\n",
    "            not_parsed.append(filename)\n",
    "            print('Could not parse:',filename)"
   ]
  },
  {
   "cell_type": "code",
   "execution_count": 8,
   "metadata": {},
   "outputs": [
    {
     "name": "stdout",
     "output_type": "stream",
     "text": [
      "<class 'pandas.core.frame.DataFrame'>\n",
      "RangeIndex: 9278 entries, 0 to 9277\n",
      "Data columns (total 9 columns):\n",
      " #   Column         Non-Null Count  Dtype \n",
      "---  ------         --------------  ----- \n",
      " 0   ID             9278 non-null   object\n",
      " 1   Title          9278 non-null   object\n",
      " 2   Type           9278 non-null   object\n",
      " 3   StartDate      9278 non-null   object\n",
      " 4   EndDate        9278 non-null   object\n",
      " 5   Text           9278 non-null   object\n",
      " 6   TextWordCount  9278 non-null   object\n",
      " 7   PubTitle       9278 non-null   object\n",
      " 8   SourceType     9278 non-null   object\n",
      "dtypes: object(9)\n",
      "memory usage: 652.5+ KB\n",
      "None\n"
     ]
    }
   ],
   "source": [
    "print(df.info())"
   ]
  },
  {
   "cell_type": "code",
   "execution_count": 9,
   "metadata": {},
   "outputs": [
    {
     "name": "stdout",
     "output_type": "stream",
     "text": [
      "           ID                                              Title  Type  \\\n",
      "0  2467787339  JD Health Makes Strong Debut in Hong Kong; The...  News   \n",
      "1  2440267377  Banks' Retreat From Commodities Is Set to Dera...  News   \n",
      "2  2473599411                    The Climate Desk Girds for 2021  News   \n",
      "3  2465172996  New York Will Reopen Elementary Schools and Ph...  News   \n",
      "4  2454308316  U.S. News: Justices Reject Pandemic-Tied Votin...  News   \n",
      "\n",
      "    StartDate     EndDate                                               Text  \\\n",
      "0  2020-12-08  2020-12-08  Shares in one of China's top telemedicine prov...   \n",
      "1  2020-09-05  2020-09-05  European banks have grown wary of financing co...   \n",
      "2  2020-12-30  2020-12-30  After a year when climate-related disasters se...   \n",
      "3  2020-11-29  2020-11-29  FILE -- Students outside of a Brooklyn public ...   \n",
      "4  2020-10-27  2020-10-27  WASHINGTON -- The Supreme Court on Monday decl...   \n",
      "\n",
      "  TextWordCount                      PubTitle  SourceType  \n",
      "0           569  Wall Street Journal (Online)  Newspapers  \n",
      "1           967  Wall Street Journal (Online)  Newspapers  \n",
      "2          1169                New York Times  Newspapers  \n",
      "3          1371                New York Times  Newspapers  \n",
      "4           594           Wall Street Journal  Newspapers  \n"
     ]
    }
   ],
   "source": [
    "print(df.head())"
   ]
  },
  {
   "cell_type": "code",
   "execution_count": 10,
   "metadata": {},
   "outputs": [],
   "source": [
    "if len(not_parsed)>0:\n",
    "    print(len(not_parsed))\n",
    "    print(not_parsed)"
   ]
  },
  {
   "cell_type": "code",
   "execution_count": 11,
   "metadata": {},
   "outputs": [],
   "source": [
    "df.to_pickle('/home/ec2-user/SageMaker/New Uncertainty/Update Data/parsed_xml_update.pkl')"
   ]
  },
  {
   "cell_type": "code",
   "execution_count": null,
   "metadata": {},
   "outputs": [],
   "source": []
  },
  {
   "cell_type": "code",
   "execution_count": 12,
   "metadata": {},
   "outputs": [
    {
     "name": "stdout",
     "output_type": "stream",
     "text": [
      "<class 'pandas.core.frame.DataFrame'>\n",
      "RangeIndex: 9278 entries, 0 to 9277\n",
      "Data columns (total 9 columns):\n",
      " #   Column         Non-Null Count  Dtype \n",
      "---  ------         --------------  ----- \n",
      " 0   ID             9278 non-null   object\n",
      " 1   Title          9278 non-null   object\n",
      " 2   Type           9278 non-null   object\n",
      " 3   StartDate      9278 non-null   object\n",
      " 4   EndDate        9278 non-null   object\n",
      " 5   Text           9278 non-null   object\n",
      " 6   TextWordCount  9278 non-null   object\n",
      " 7   PubTitle       9278 non-null   object\n",
      " 8   SourceType     9278 non-null   object\n",
      "dtypes: object(9)\n",
      "memory usage: 652.5+ KB\n",
      "None\n"
     ]
    }
   ],
   "source": [
    "df=pd.read_pickle('/home/ec2-user/SageMaker/New Uncertainty/Update Data/parsed_xml_update.pkl')\n",
    "print(df.info())"
   ]
  },
  {
   "cell_type": "code",
   "execution_count": 13,
   "metadata": {},
   "outputs": [
    {
     "name": "stdout",
     "output_type": "stream",
     "text": [
      "Newspapers    9278\n",
      "Name: SourceType, dtype: int64\n",
      "News    9278\n",
      "Name: Type, dtype: int64\n"
     ]
    }
   ],
   "source": [
    "print(df['SourceType'].value_counts())\n",
    "print(df['Type'].value_counts())"
   ]
  },
  {
   "cell_type": "code",
   "execution_count": 14,
   "metadata": {},
   "outputs": [],
   "source": [
    "# Convert dates\n",
    "df['StartDate']=df['StartDate'].astype('datetime64[ns]')\n",
    "df['Year']=df['StartDate'].astype('datetime64[ns]').dt.year\n",
    "df['Month']=df['StartDate'].astype('datetime64[ns]').dt.month"
   ]
  },
  {
   "cell_type": "code",
   "execution_count": 15,
   "metadata": {},
   "outputs": [],
   "source": [
    "# Consolidate newspaper names\n",
    "df.loc[(df['PubTitle']=='Boston Globe (pre-1997 Fulltext)') | (df['PubTitle']=='Boston Globe') | \n",
    "       (df['PubTitle']=='Boston Globe (Online)'),'Newspaper']='Boston Globe'\n",
    "df.loc[(df['PubTitle']=='Wall Street Journal') | (df['PubTitle']=='Wall Street Journal (Online)'),\n",
    "    'Newspaper']='Wall Street Journal'\n",
    "df.loc[(df['PubTitle']=='USA TODAY (pre-1997 Fulltext)') | (df['PubTitle']=='USA TODAY') | \n",
    "       (df['PubTitle']=='USA Today (Online)'),'Newspaper']='USA Today'\n",
    "df.loc[(df['PubTitle']=='Chicago Tribune (pre-1997 Fulltext)') | (df['PubTitle']=='Chicago Tribune') | \n",
    "       (df['PubTitle']=='Chicago Tribune (Online)'),'Newspaper']='Chicago Tribune'\n",
    "df.loc[(df['PubTitle']=='Los Angeles Times') | (df['PubTitle']=='Los Angeles Times (pre-1997 Fulltext)') | \n",
    "        (df['PubTitle']=='Los Angeles Times (Online)'),'Newspaper']='Los Angeles Times'\n",
    "df.loc[(df['PubTitle']=='New York Times') | (df['PubTitle']=='New York Times (Online)'),'Newspaper']='New York Times'\n",
    "df.loc[(df['PubTitle']=='The Washington Post') | (df['PubTitle']=='The Washington Post (pre-1997 Fulltext)') | \n",
    "       (df['PubTitle']=='The Washington Post (Online)'),'Newspaper']='The Washington Post'"
   ]
  },
  {
   "cell_type": "code",
   "execution_count": 16,
   "metadata": {},
   "outputs": [
    {
     "name": "stdout",
     "output_type": "stream",
     "text": [
      "Wall Street Journal    3394\n",
      "New York Times         1675\n",
      "The Washington Post    1220\n",
      "USA Today              1131\n",
      "Boston Globe            984\n",
      "Chicago Tribune         459\n",
      "Los Angeles Times       415\n",
      "Name: Newspaper, dtype: int64\n"
     ]
    }
   ],
   "source": [
    "print(df['Newspaper'].value_counts())"
   ]
  },
  {
   "cell_type": "code",
   "execution_count": 17,
   "metadata": {},
   "outputs": [],
   "source": [
    "df=df.sort_values(['Newspaper','StartDate','Title']).reset_index(drop=True)"
   ]
  },
  {
   "cell_type": "code",
   "execution_count": 18,
   "metadata": {},
   "outputs": [],
   "source": [
    "df.to_pickle('/home/ec2-user/SageMaker/New Uncertainty/Update Data/parsed_xml_update.pkl')"
   ]
  },
  {
   "cell_type": "code",
   "execution_count": null,
   "metadata": {},
   "outputs": [],
   "source": []
  }
 ],
 "metadata": {
  "kernelspec": {
   "display_name": "my_py",
   "language": "python",
   "name": "my_py"
  },
  "language_info": {
   "codemirror_mode": {
    "name": "ipython",
    "version": 3
   },
   "file_extension": ".py",
   "mimetype": "text/x-python",
   "name": "python",
   "nbconvert_exporter": "python",
   "pygments_lexer": "ipython3",
   "version": "3.6.10"
  }
 },
 "nbformat": 4,
 "nbformat_minor": 4
}
