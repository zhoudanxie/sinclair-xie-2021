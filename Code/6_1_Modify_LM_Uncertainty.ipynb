{
 "cells": [
  {
   "cell_type": "code",
   "execution_count": 38,
   "metadata": {},
   "outputs": [],
   "source": [
    "import pandas as pd\n",
    "import re\n",
    "from nltk.corpus import stopwords\n",
    "import pickle\n",
    "import numpy as np\n",
    "from string import punctuation\n",
    "import time\n",
    "from ast import literal_eval\n",
    "from collections import Counter\n",
    "import spacy\n",
    "nlp = spacy.load('en_core_web_sm', disable=['parser', 'ner'])\n",
    "import statsmodels.formula.api as sm"
   ]
  },
  {
   "cell_type": "code",
   "execution_count": 2,
   "metadata": {},
   "outputs": [
    {
     "name": "stdout",
     "output_type": "stream",
     "text": [
      "<class 'pandas.core.frame.DataFrame'>\n",
      "RangeIndex: 502909 entries, 0 to 502908\n",
      "Data columns (total 3 columns):\n",
      " #   Column            Non-Null Count   Dtype \n",
      "---  ------            --------------   ----- \n",
      " 0   ID                502909 non-null  int64 \n",
      " 1   UncertaintyCount  502909 non-null  int64 \n",
      " 2   UncertaintyWords  502909 non-null  object\n",
      "dtypes: int64(2), object(1)\n",
      "memory usage: 11.5+ MB\n",
      "None\n"
     ]
    }
   ],
   "source": [
    "df=pd.read_csv('/home/ec2-user/SageMaker/New Uncertainty/Sentiment Analysis/LMuncertainty.csv')\n",
    "print(df.info())"
   ]
  },
  {
   "cell_type": "code",
   "execution_count": 3,
   "metadata": {},
   "outputs": [
    {
     "name": "stdout",
     "output_type": "stream",
     "text": [
      "          ID  UncertaintyCount       UncertaintyWords\n",
      "0  294326637                 0                     []\n",
      "1  294308147                 0                     []\n",
      "2  294323196                 1              ['could']\n",
      "3  294262284                 2  ['possible', 'could']\n",
      "4  294234319                 0                     []\n"
     ]
    }
   ],
   "source": [
    "print(df.head())"
   ]
  },
  {
   "cell_type": "markdown",
   "metadata": {},
   "source": [
    "## 1. LM uncertainty term occurences"
   ]
  },
  {
   "cell_type": "code",
   "execution_count": null,
   "metadata": {},
   "outputs": [],
   "source": [
    "# All unique LM uncertainty terms and occurences\n",
    "allMatchWords=[]\n",
    "for list in df['UncertaintyWords']:\n",
    "    allMatchWords=allMatchWords+literal_eval(list)\n",
    "print(len(allMatchWords))"
   ]
  },
  {
   "cell_type": "code",
   "execution_count": null,
   "metadata": {},
   "outputs": [],
   "source": [
    "allMatchWordsCount=Counter(allMatchWords)"
   ]
  },
  {
   "cell_type": "code",
   "execution_count": 66,
   "metadata": {},
   "outputs": [
    {
     "name": "stdout",
     "output_type": "stream",
     "text": [
      "195\n",
      "Counter({'could': 132997, 'may': 90508, 'risk': 51580, 'believe': 27361, 'nearly': 20595, 'possible': 19773, 'appear': 18473, 'suggest': 16791, 'seem': 13285, 'almost': 12244, 'probably': 9613, 'pende': 8274, 'sometimes': 6797, 'risky': 6675, 'perhaps': 6122, 'uncertainty': 6055, 'predict': 5977, 'depend': 5770, 'roughly': 5764, 'revise': 5395, 'possibility': 5393, 'exposure': 5350, 'assume': 4907, 'doubt': 4852, 'unusual': 4787, 'unclear': 4363, 'preliminary': 3760, 'possibly': 3696, 'tend': 3631, 'anticipate': 3588, 'apparently': 3441, 'hide': 3143, 'vary': 2816, 'speculation': 2326, 'apparent': 2188, 'confusion': 2148, 'volatility': 2105, 'uncertain': 2040, 'somewhat': 1906, 'differ': 1897, 'maybe': 1849, 'volatile': 1812, 'reconsider': 1684, 'cautious': 1666, 'assumption': 1637, 'speculative': 1603, 'sudden': 1577, 'suddenly': 1445, 'vague': 1434, 'dependent': 1349, 'approximately': 1349, 'likelihood': 1345, 'unexpected': 1344, 'unusually': 1275, 'variable': 1237, 'speculate': 1212, 'confusing': 1195, 'unknown': 1188, 'rumor': 1176, 'arbitrary': 1104, 'tentative': 904, 'contingent': 894, 'anticipation': 828, 'indefinitely': 795, 'sometime': 770, 'precaution': 753, 'confuse': 746, 'random': 741, 'occasionally': 706, 'unspecified': 704, 'prediction': 702, 'presumably': 701, 'dependence': 666, 'clarification': 626, 'conditional': 624, 'somewhere': 613, 'tentatively': 599, 'hinge': 585, 'contingency': 575, 'variation': 563, 'fluctuation': 516, 'ambiguous': 510, 'unexpectedly': 500, 'cautiously': 497, 'unpredictable': 484, 'instability': 456, 'variance': 454, 'presume': 451, 'probable': 450, 'destabilize': 444, 'unidentified': 409, 'probability': 409, 'seldom': 386, 'ambiguity': 368, 'riskiness': 360, 'reassess': 351, 'untested': 346, 'fluctuate': 345, 'undocumented': 344, 'turbulence': 339, 'varied': 322, 'alteration': 293, 'arbitrarily': 276, 'ordinarily': 268, 'unproven': 265, 'unfamiliar': 263, 'doubtful': 260, 'indefinite': 250, 'presumption': 246, 'reexamine': 225, 'anomaly': 223, 'intangible': 219, 'varying': 217, 'precautionary': 205, 'reassessment': 201, 'randomly': 195, 'predictability': 179, 'deviate': 173, 'vaguely': 161, 'conceivably': 149, 'dependency': 148, 'deviation': 143, 'variant': 140, 'undecided': 136, 'crossroad': 134, 'undetermined': 131, 'conceivable': 116, 'unplanned': 115, 'vagary': 111, 'approximate': 104, 'unsettled': 101, 'unwritten': 95, 'recalculate': 92, 'sporadic': 90, 'undefined': 86, 'conditionally': 86, 'imprecise': 86, 'vagueness': 85, 'reinterpret': 82, 'improbable': 82, 'predictor': 61, 'susceptibility': 59, 'unpredictability': 59, 'randomized': 55, 'assumed': 54, 'predictive': 51, 'sporadically': 49, 'reexamination': 47, 'unconfirmed': 47, 'varie': 46, 'variability': 44, 'abeyance': 43, 'anomalous': 38, 'preliminarily': 37, 'approximation': 31, 'reinterpretation': 28, 'undetectable': 28, 'unfamiliarity': 24, 'recalculation': 22, 'inexact': 20, 'unproved': 20, 'indeterminate': 17, 'unpredictably': 16, 'probabilistic': 16, 'cautiousness': 14, 'unseasonably': 13, 'imprecision': 13, 'uncertainly': 13, 'randomize': 13, 'vaguer': 13, 'unspecific': 11, 'arbitrariness': 10, 'unquantifiable': 9, 'confusingly': 9, 'unguaranteed': 9, 'unforseen': 7, 'undeterminable': 7, 'unhedged': 7, 'speculatively': 6, 'improbability': 6, 'undesignated': 5, 'risked': 5, 'unreconciled': 3, 'approximated': 3, 'randomness': 3, 'presuming': 2, 'unseasonable': 2, 'incompleteness': 2, 'unquantified': 2, 'assumes': 1, 'recalculated': 1, 'unpredicted': 1, 'riskiest': 1, 'reinterpreting': 1, 'deviating': 1})\n"
     ]
    }
   ],
   "source": [
    "print(len(allMatchWordsCount))\n",
    "print(allMatchWordsCount)"
   ]
  },
  {
   "cell_type": "code",
   "execution_count": 65,
   "metadata": {},
   "outputs": [
    {
     "name": "stdout",
     "output_type": "stream",
     "text": [
      "could VERB MD\n",
      "possible ADJ JJ\n",
      "exposure NOUN NN\n",
      "revise NOUN NN\n",
      "pende PROPN NNP\n",
      "appear VERB VB\n",
      "seem VERB VB\n",
      "confusion NOUN NN\n",
      "confusing ADJ JJ\n",
      "may VERB MD\n",
      "perhaps ADV RB\n",
      "possibly ADV RB\n",
      "believe VERB VB\n",
      "doubt NOUN NN\n",
      "almost ADV RB\n",
      "risk NOUN NN\n",
      "suggest VERB VBP\n",
      "speculation NOUN NN\n",
      "unusually ADV RB\n",
      "confuse PROPN NNP\n",
      "variation NOUN NN\n",
      "vary VERB VBP\n",
      "nearly ADV RB\n",
      "unsettled ADJ JJ\n",
      "predict VERB VB\n",
      "apparent ADJ JJ\n",
      "reassess PROPN NNP\n",
      "sometimes ADV RB\n",
      "dependent ADJ JJ\n",
      "unidentified ADJ JJ\n",
      "unusual ADJ JJ\n",
      "apparently ADV RB\n",
      "approximately ADV RB\n",
      "possibility NOUN NN\n",
      "tentative ADJ JJ\n",
      "speculate PROPN NNP\n",
      "maybe ADV RB\n",
      "fluctuation NOUN NN\n",
      "roughly ADV RB\n",
      "probably ADV RB\n",
      "reconsider NOUN NN\n",
      "unfamiliarity NOUN NN\n",
      "probable ADJ JJ\n",
      "conceivable ADJ JJ\n",
      "anticipate PROPN NNP\n",
      "unclear ADJ JJ\n",
      "clarification NOUN NN\n",
      "assume PROPN NNP\n",
      "somewhat ADV RB\n",
      "unfamiliar ADJ JJ\n",
      "varied ADJ JJ\n",
      "unexpected ADJ JJ\n",
      "tend VERB VB\n",
      "depend VERB VB\n",
      "conditional ADJ JJ\n",
      "uncertainty NOUN NN\n",
      "tentatively ADV RB\n",
      "sometime ADV RB\n",
      "sudden ADJ JJ\n",
      "reinterpretation NOUN NN\n",
      "risky ADJ JJ\n",
      "assumption NOUN NN\n",
      "rumor NOUN NN\n",
      "precaution NOUN NN\n",
      "unknown ADJ JJ\n",
      "dependence PROPN NNP\n",
      "hinge VERB VB\n",
      "doubtful ADJ JJ\n",
      "contingency NOUN NN\n",
      "speculative ADJ JJ\n",
      "hide VERB VB\n",
      "variant ADJ JJ\n",
      "instability NOUN NN\n",
      "cautious ADJ JJ\n",
      "arbitrary ADJ JJ\n",
      "presumably ADV RB\n",
      "preliminary ADJ JJ\n",
      "susceptibility NOUN NN\n",
      "occasionally ADV RB\n",
      "presumption NOUN NN\n",
      "vague PROPN NNP\n",
      "likelihood PROPN NNP\n",
      "vagueness NOUN NN\n",
      "uncertain PROPN NNP\n",
      "ambiguity PROPN NNP\n",
      "suddenly ADV RB\n",
      "random PROPN NNP\n",
      "alteration NOUN NN\n",
      "anticipation NOUN NN\n",
      "varying NOUN NN\n",
      "randomly ADV RB\n",
      "conceivably ADV RB\n",
      "differ VERB VB\n",
      "approximate ADJ JJ\n",
      "presume VERB VB\n",
      "variable ADJ JJ\n",
      "somewhere ADV RB\n",
      "undefined ADJ JJ\n",
      "recalculate VERB VB\n",
      "seldom ADV RB\n",
      "riskiness PROPN NNP\n",
      "ordinarily ADV RB\n",
      "undocumented ADJ JJ\n",
      "undecided ADJ JJ\n",
      "conditionally ADV RB\n",
      "untested PROPN NNP\n",
      "vagary PROPN NNP\n",
      "reexamination NOUN NN\n",
      "reexamine PROPN NNP\n",
      "unconfirmed ADJ JJ\n",
      "probability NOUN NN\n",
      "sporadic ADJ JJ\n",
      "volatile ADJ JJ\n",
      "volatility NOUN NN\n",
      "indefinite PROPN NNP\n",
      "ambiguous ADJ JJ\n",
      "vaguely ADV RB\n",
      "turbulence PROPN NNP\n",
      "indefinitely ADV RB\n",
      "variance NOUN NN\n",
      "reassessment VERB VB\n",
      "prediction NOUN NN\n",
      "unexpectedly ADV RB\n",
      "unpredictable ADJ JJ\n",
      "unspecified ADJ JJ\n",
      "contingent PROPN NNP\n",
      "unproven ADJ JJ\n",
      "reinterpret PROPN NNP\n",
      "unwritten VERB VB\n",
      "cautiously ADV RB\n",
      "deviation NOUN NN\n",
      "fluctuate PROPN NNP\n",
      "arbitrarily ADV RB\n",
      "deviate NOUN NN\n",
      "intangible ADJ JJ\n",
      "dependency PROPN NNP\n",
      "preliminarily ADV RB\n",
      "unplanned ADJ JJ\n",
      "predictor NOUN NN\n",
      "approximation NOUN NN\n",
      "improbable ADJ JJ\n",
      "inexact PROPN NNP\n",
      "anomaly PROPN NNP\n",
      "undetermined ADJ JJ\n",
      "abeyance NOUN NN\n",
      "destabilize PROPN NNP\n",
      "precautionary PROPN NNP\n",
      "sporadically ADV RB\n",
      "varie PROPN NNP\n",
      "crossroad NOUN NN\n",
      "unquantifiable ADJ JJ\n",
      "indeterminate ADJ JJ\n",
      "predictability NOUN NN\n",
      "predictive ADJ JJ\n",
      "unforseen ADJ JJ\n",
      "unseasonably ADV RB\n",
      "variability NOUN NN\n",
      "imprecision NOUN NN\n",
      "imprecise PROPN NNP\n",
      "assumes PROPN NNP\n",
      "recalculation NOUN NN\n",
      "uncertainly ADV RB\n",
      "undetectable ADJ JJ\n",
      "cautiousness PROPN NNP\n",
      "randomized ADJ JJ\n",
      "randomize VERB VB\n",
      "undesignated PROPN NNP\n",
      "speculatively ADV RB\n",
      "assumed PROPN NNP\n",
      "anomalous ADJ JJ\n",
      "unspecific PROPN NNP\n",
      "unreconciled ADJ JJ\n",
      "unpredictability NOUN NN\n",
      "unproved ADJ JJ\n",
      "arbitrariness PROPN NNP\n",
      "approximated ADJ JJ\n",
      "vaguer PROPN NNP\n",
      "risked PROPN NNP\n",
      "unpredictably ADV RB\n",
      "probabilistic ADJ JJ\n",
      "undeterminable ADJ JJ\n",
      "improbability NOUN NN\n",
      "confusingly ADV RB\n",
      "presuming NOUN NN\n",
      "recalculated PROPN NNP\n",
      "unseasonable ADJ JJ\n",
      "unpredicted ADJ JJ\n",
      "incompleteness PROPN NNP\n",
      "randomness PROPN NNP\n",
      "riskiest PROPN NNP\n",
      "unguaranteed PROPN NNP\n",
      "unquantified ADJ JJ\n",
      "reinterpreting ADJ JJ\n",
      "unhedged ADJ JJ\n",
      "deviating NOUN NN\n"
     ]
    }
   ],
   "source": [
    "for term in allMatchWordsCount.keys():\n",
    "    doc=nlp(term)\n",
    "    for token in doc:\n",
    "        print(token, token.pos_, token.tag_)"
   ]
  },
  {
   "cell_type": "markdown",
   "metadata": {},
   "source": [
    "## 2. Remove certain terms"
   ]
  },
  {
   "cell_type": "code",
   "execution_count": null,
   "metadata": {},
   "outputs": [],
   "source": [
    "term_removed=['could','may','maybe','might']"
   ]
  },
  {
   "cell_type": "code",
   "execution_count": null,
   "metadata": {},
   "outputs": [],
   "source": [
    "df=df.reset_index(drop=True)"
   ]
  },
  {
   "cell_type": "code",
   "execution_count": null,
   "metadata": {},
   "outputs": [],
   "source": [
    "# Remove certain terms from all matched noun chunks\n",
    "df['UncertaintyWordsFiltered']=None\n",
    "df['UncertaintyCountFiltered']=0\n",
    "for i in range(0,len(df)):\n",
    "    list=literal_eval(df['UncertaintyWords'][i])\n",
    "    list_new=[w for w in list if w not in term_removed]\n",
    "    df['UncertaintyWordsFiltered'][i]=list_new\n",
    "    df['UncertaintyCountFiltered'][i]=len(df['UncertaintyWordsFiltered'][i])\n",
    "print(df.info())"
   ]
  },
  {
   "cell_type": "code",
   "execution_count": 18,
   "metadata": {},
   "outputs": [
    {
     "name": "stdout",
     "output_type": "stream",
     "text": [
      "          ID  UncertaintyCount       UncertaintyWords  \\\n",
      "0  294326637                 0                     []   \n",
      "1  294308147                 0                     []   \n",
      "2  294323196                 1              ['could']   \n",
      "3  294262284                 2  ['possible', 'could']   \n",
      "4  294234319                 0                     []   \n",
      "5  294323101                 1           ['exposure']   \n",
      "6  294205735                 1             ['revise']   \n",
      "7  294261564                 0                     []   \n",
      "8  294337453                 1              ['pende']   \n",
      "9  294281403                 2     ['appear', 'seem']   \n",
      "\n",
      "  UncertaintyWordsFiltered  UncertaintyCountFiltered  \n",
      "0                       []                         0  \n",
      "1                       []                         0  \n",
      "2                       []                         0  \n",
      "3               [possible]                         1  \n",
      "4                       []                         0  \n",
      "5               [exposure]                         1  \n",
      "6                 [revise]                         1  \n",
      "7                       []                         0  \n",
      "8                  [pende]                         1  \n",
      "9           [appear, seem]                         2  \n"
     ]
    }
   ],
   "source": [
    "print(df.head(10))"
   ]
  },
  {
   "cell_type": "markdown",
   "metadata": {},
   "source": [
    "## 3. Calculate uncertainty scores"
   ]
  },
  {
   "cell_type": "code",
   "execution_count": 19,
   "metadata": {},
   "outputs": [
    {
     "name": "stdout",
     "output_type": "stream",
     "text": [
      "<class 'pandas.core.frame.DataFrame'>\n",
      "RangeIndex: 822737 entries, 0 to 822736\n",
      "Data columns (total 12 columns):\n",
      " #   Column         Non-Null Count   Dtype         \n",
      "---  ------         --------------   -----         \n",
      " 0   ID             822737 non-null  object        \n",
      " 1   Title          822737 non-null  object        \n",
      " 2   Type           822737 non-null  object        \n",
      " 3   StartDate      822737 non-null  datetime64[ns]\n",
      " 4   EndDate        822737 non-null  object        \n",
      " 5   Text           822737 non-null  object        \n",
      " 6   TextWordCount  822737 non-null  object        \n",
      " 7   PubTitle       822737 non-null  object        \n",
      " 8   SourceType     822737 non-null  object        \n",
      " 9   Year           822737 non-null  int64         \n",
      " 10  Month          822737 non-null  int64         \n",
      " 11  Newspaper      822737 non-null  object        \n",
      "dtypes: datetime64[ns](1), int64(2), object(9)\n",
      "memory usage: 75.3+ MB\n",
      "None\n"
     ]
    }
   ],
   "source": [
    "# All news metadata\n",
    "allNews=pd.read_pickle('/home/ec2-user/SageMaker/New Uncertainty/parsed_xml.pkl')\n",
    "print(allNews.info())"
   ]
  },
  {
   "cell_type": "code",
   "execution_count": 20,
   "metadata": {},
   "outputs": [
    {
     "name": "stdout",
     "output_type": "stream",
     "text": [
      "<class 'pandas.core.frame.DataFrame'>\n",
      "RangeIndex: 822737 entries, 0 to 822736\n",
      "Data columns (total 6 columns):\n",
      " #   Column                       Non-Null Count   Dtype \n",
      "---  ------                       --------------   ----- \n",
      " 0   ID                           822737 non-null  object\n",
      " 1   RegSentsExpand               822737 non-null  object\n",
      " 2   NounChunksMatch              822737 non-null  int64 \n",
      " 3   NounChunkMatchWords          822737 non-null  object\n",
      " 4   NounChunkMatchWordsFiltered  822737 non-null  object\n",
      " 5   NounChunkMatchFiltered       822737 non-null  int64 \n",
      "dtypes: int64(2), object(4)\n",
      "memory usage: 37.7+ MB\n",
      "None\n"
     ]
    }
   ],
   "source": [
    "# Reg relevant articles\n",
    "df_regSentsExpand=pd.read_pickle('/home/ec2-user/SageMaker/New Uncertainty/Reg Relevance/RegSentsExpand_NounChunks3.pkl')\n",
    "print(df_regSentsExpand.info())"
   ]
  },
  {
   "cell_type": "code",
   "execution_count": 21,
   "metadata": {},
   "outputs": [
    {
     "name": "stdout",
     "output_type": "stream",
     "text": [
      "<class 'pandas.core.frame.DataFrame'>\n",
      "Int64Index: 822737 entries, 0 to 822736\n",
      "Data columns (total 14 columns):\n",
      " #   Column                       Non-Null Count   Dtype         \n",
      "---  ------                       --------------   -----         \n",
      " 0   ID                           822737 non-null  object        \n",
      " 1   RegSentsExpand               822737 non-null  object        \n",
      " 2   NounChunksMatch              822737 non-null  int64         \n",
      " 3   NounChunkMatchWords          822737 non-null  object        \n",
      " 4   NounChunkMatchWordsFiltered  822737 non-null  object        \n",
      " 5   NounChunkMatchFiltered       822737 non-null  int64         \n",
      " 6   Title                        822737 non-null  object        \n",
      " 7   StartDate                    822737 non-null  datetime64[ns]\n",
      " 8   Text                         822737 non-null  object        \n",
      " 9   Newspaper                    822737 non-null  object        \n",
      " 10  Year                         822737 non-null  int64         \n",
      " 11  Month                        822737 non-null  int64         \n",
      " 12  Type                         822737 non-null  object        \n",
      " 13  SourceType                   822737 non-null  object        \n",
      "dtypes: datetime64[ns](1), int64(4), object(9)\n",
      "memory usage: 94.2+ MB\n",
      "None\n"
     ]
    }
   ],
   "source": [
    "# Merge with metadata\n",
    "df_regSentsExpand=df_regSentsExpand.merge(allNews[['ID','Title','StartDate','Text','Newspaper','Year','Month','Type','SourceType']],\n",
    "                           on='ID',how='left')\n",
    "print(df_regSentsExpand.info())"
   ]
  },
  {
   "cell_type": "code",
   "execution_count": 22,
   "metadata": {},
   "outputs": [
    {
     "name": "stdout",
     "output_type": "stream",
     "text": [
      "<class 'pandas.core.frame.DataFrame'>\n",
      "RangeIndex: 788516 entries, 0 to 788515\n",
      "Data columns (total 1 columns):\n",
      " #   Column  Non-Null Count   Dtype\n",
      "---  ------  --------------   -----\n",
      " 0   ID      788516 non-null  int64\n",
      "dtypes: int64(1)\n",
      "memory usage: 6.0 MB\n",
      "None\n"
     ]
    }
   ],
   "source": [
    "# Remove duplicated articles\n",
    "IDs_nodup=pd.read_csv('/home/ec2-user/SageMaker/New Uncertainty/IDs_no_duplicates.csv')\n",
    "print(IDs_nodup.info())"
   ]
  },
  {
   "cell_type": "code",
   "execution_count": 23,
   "metadata": {},
   "outputs": [
    {
     "name": "stdout",
     "output_type": "stream",
     "text": [
      "<class 'pandas.core.frame.DataFrame'>\n",
      "RangeIndex: 788516 entries, 0 to 788515\n",
      "Data columns (total 14 columns):\n",
      " #   Column                       Non-Null Count   Dtype         \n",
      "---  ------                       --------------   -----         \n",
      " 0   ID                           788516 non-null  object        \n",
      " 1   RegSentsExpand               788516 non-null  object        \n",
      " 2   NounChunksMatch              788516 non-null  int64         \n",
      " 3   NounChunkMatchWords          788516 non-null  object        \n",
      " 4   NounChunkMatchWordsFiltered  788516 non-null  object        \n",
      " 5   NounChunkMatchFiltered       788516 non-null  int64         \n",
      " 6   Title                        788516 non-null  object        \n",
      " 7   StartDate                    788516 non-null  datetime64[ns]\n",
      " 8   Text                         788516 non-null  object        \n",
      " 9   Newspaper                    788516 non-null  object        \n",
      " 10  Year                         788516 non-null  int64         \n",
      " 11  Month                        788516 non-null  int64         \n",
      " 12  Type                         788516 non-null  object        \n",
      " 13  SourceType                   788516 non-null  object        \n",
      "dtypes: datetime64[ns](1), int64(4), object(9)\n",
      "memory usage: 84.2+ MB\n",
      "None\n"
     ]
    }
   ],
   "source": [
    "IDs_nodup['ID']=IDs_nodup['ID'].astype('str')\n",
    "df_reg=IDs_nodup.merge(df_regSentsExpand,on='ID',how='left').reset_index(drop=True)\n",
    "print(df_reg.info())"
   ]
  },
  {
   "cell_type": "code",
   "execution_count": 30,
   "metadata": {},
   "outputs": [
    {
     "name": "stdout",
     "output_type": "stream",
     "text": [
      "# of reg relevant articles: 493418\n"
     ]
    }
   ],
   "source": [
    "# Use filtered noun chunk matches to define reg relevance\n",
    "df_reg.loc[df_reg['NounChunkMatchFiltered']!=0,'RegRelevance']=1\n",
    "print(\"# of reg relevant articles:\",df_reg[df_reg['RegRelevance']==1]['ID'].nunique())"
   ]
  },
  {
   "cell_type": "code",
   "execution_count": 28,
   "metadata": {},
   "outputs": [
    {
     "name": "stdout",
     "output_type": "stream",
     "text": [
      "<class 'pandas.core.frame.DataFrame'>\n",
      "RangeIndex: 502909 entries, 0 to 502908\n",
      "Data columns (total 6 columns):\n",
      " #   Column          Non-Null Count   Dtype \n",
      "---  ------          --------------   ----- \n",
      " 0   ID              502909 non-null  object\n",
      " 1   TotalWordCount  502909 non-null  int64 \n",
      " 2   GIposCount      502909 non-null  int64 \n",
      " 3   GInegCount      502909 non-null  int64 \n",
      " 4   GIposWords      502909 non-null  object\n",
      " 5   GInegWords      502909 non-null  object\n",
      "dtypes: int64(3), object(3)\n",
      "memory usage: 23.0+ MB\n",
      "None\n"
     ]
    }
   ],
   "source": [
    "# Total word count\n",
    "GIsentiments=pd.read_csv('/home/ec2-user/SageMaker/New Uncertainty/Sentiment Analysis/GIsentiments.csv')\n",
    "GIsentiments['ID']=GIsentiments['ID'].astype('str')\n",
    "print(GIsentiments.info())"
   ]
  },
  {
   "cell_type": "code",
   "execution_count": 29,
   "metadata": {},
   "outputs": [
    {
     "name": "stdout",
     "output_type": "stream",
     "text": [
      "<class 'pandas.core.frame.DataFrame'>\n",
      "Int64Index: 788516 entries, 0 to 788515\n",
      "Data columns (total 20 columns):\n",
      " #   Column                       Non-Null Count   Dtype         \n",
      "---  ------                       --------------   -----         \n",
      " 0   ID                           788516 non-null  object        \n",
      " 1   RegSentsExpand               788516 non-null  object        \n",
      " 2   NounChunksMatch              788516 non-null  int64         \n",
      " 3   NounChunkMatchWords          788516 non-null  object        \n",
      " 4   NounChunkMatchWordsFiltered  788516 non-null  object        \n",
      " 5   NounChunkMatchFiltered       788516 non-null  int64         \n",
      " 6   Title                        788516 non-null  object        \n",
      " 7   StartDate                    788516 non-null  datetime64[ns]\n",
      " 8   Text                         788516 non-null  object        \n",
      " 9   Newspaper                    788516 non-null  object        \n",
      " 10  Year                         788516 non-null  int64         \n",
      " 11  Month                        788516 non-null  int64         \n",
      " 12  Type                         788516 non-null  object        \n",
      " 13  SourceType                   788516 non-null  object        \n",
      " 14  RegRelevance                 493418 non-null  float64       \n",
      " 15  UncertaintyCount             493586 non-null  float64       \n",
      " 16  UncertaintyWords             493586 non-null  object        \n",
      " 17  UncertaintyWordsFiltered     493586 non-null  object        \n",
      " 18  UncertaintyCountFiltered     493586 non-null  float64       \n",
      " 19  TotalWordCount               493586 non-null  float64       \n",
      "dtypes: datetime64[ns](1), float64(4), int64(4), object(11)\n",
      "memory usage: 126.3+ MB\n",
      "None\n"
     ]
    }
   ],
   "source": [
    "# Merge\n",
    "df['ID']=df['ID'].astype('str')\n",
    "df=df.merge(GIsentiments[['ID','TotalWordCount']],on='ID',how='left')\n",
    "print(df.info())"
   ]
  },
  {
   "cell_type": "code",
   "execution_count": 26,
   "metadata": {},
   "outputs": [
    {
     "name": "stdout",
     "output_type": "stream",
     "text": [
      "<class 'pandas.core.frame.DataFrame'>\n",
      "Int64Index: 788516 entries, 0 to 788515\n",
      "Data columns (total 19 columns):\n",
      " #   Column                       Non-Null Count   Dtype         \n",
      "---  ------                       --------------   -----         \n",
      " 0   ID                           788516 non-null  object        \n",
      " 1   RegSentsExpand               788516 non-null  object        \n",
      " 2   NounChunksMatch              788516 non-null  int64         \n",
      " 3   NounChunkMatchWords          788516 non-null  object        \n",
      " 4   NounChunkMatchWordsFiltered  788516 non-null  object        \n",
      " 5   NounChunkMatchFiltered       788516 non-null  int64         \n",
      " 6   Title                        788516 non-null  object        \n",
      " 7   StartDate                    788516 non-null  datetime64[ns]\n",
      " 8   Text                         788516 non-null  object        \n",
      " 9   Newspaper                    788516 non-null  object        \n",
      " 10  Year                         788516 non-null  int64         \n",
      " 11  Month                        788516 non-null  int64         \n",
      " 12  Type                         788516 non-null  object        \n",
      " 13  SourceType                   788516 non-null  object        \n",
      " 14  RegRelevance                 493418 non-null  float64       \n",
      " 15  UncertaintyCount             493586 non-null  float64       \n",
      " 16  UncertaintyWords             493586 non-null  object        \n",
      " 17  UncertaintyWordsFiltered     493586 non-null  object        \n",
      " 18  UncertaintyCountFiltered     493586 non-null  float64       \n",
      "dtypes: datetime64[ns](1), float64(3), int64(4), object(11)\n",
      "memory usage: 120.3+ MB\n",
      "None\n"
     ]
    }
   ],
   "source": [
    "df=df_reg.merge(df,on='ID',how='left')\n",
    "print(df.info())"
   ]
  },
  {
   "cell_type": "code",
   "execution_count": 31,
   "metadata": {},
   "outputs": [
    {
     "name": "stdout",
     "output_type": "stream",
     "text": [
      "<class 'pandas.core.frame.DataFrame'>\n",
      "RangeIndex: 493418 entries, 0 to 493417\n",
      "Data columns (total 20 columns):\n",
      " #   Column                       Non-Null Count   Dtype         \n",
      "---  ------                       --------------   -----         \n",
      " 0   ID                           493418 non-null  object        \n",
      " 1   RegSentsExpand               493418 non-null  object        \n",
      " 2   NounChunksMatch              493418 non-null  int64         \n",
      " 3   NounChunkMatchWords          493418 non-null  object        \n",
      " 4   NounChunkMatchWordsFiltered  493418 non-null  object        \n",
      " 5   NounChunkMatchFiltered       493418 non-null  int64         \n",
      " 6   Title                        493418 non-null  object        \n",
      " 7   StartDate                    493418 non-null  datetime64[ns]\n",
      " 8   Text                         493418 non-null  object        \n",
      " 9   Newspaper                    493418 non-null  object        \n",
      " 10  Year                         493418 non-null  int64         \n",
      " 11  Month                        493418 non-null  int64         \n",
      " 12  Type                         493418 non-null  object        \n",
      " 13  SourceType                   493418 non-null  object        \n",
      " 14  RegRelevance                 493418 non-null  float64       \n",
      " 15  UncertaintyCount             493418 non-null  float64       \n",
      " 16  UncertaintyWords             493418 non-null  object        \n",
      " 17  UncertaintyWordsFiltered     493418 non-null  object        \n",
      " 18  UncertaintyCountFiltered     493418 non-null  float64       \n",
      " 19  TotalWordCount               493418 non-null  float64       \n",
      "dtypes: datetime64[ns](1), float64(4), int64(4), object(11)\n",
      "memory usage: 75.3+ MB\n",
      "None\n"
     ]
    }
   ],
   "source": [
    "df=df[df['RegRelevance']==1].reset_index(drop=True)\n",
    "print(df.info())"
   ]
  },
  {
   "cell_type": "code",
   "execution_count": 32,
   "metadata": {},
   "outputs": [
    {
     "name": "stdout",
     "output_type": "stream",
     "text": [
      "<class 'pandas.core.frame.DataFrame'>\n",
      "RangeIndex: 493418 entries, 0 to 493417\n",
      "Data columns (total 21 columns):\n",
      " #   Column                       Non-Null Count   Dtype         \n",
      "---  ------                       --------------   -----         \n",
      " 0   ID                           493418 non-null  object        \n",
      " 1   RegSentsExpand               493418 non-null  object        \n",
      " 2   NounChunksMatch              493418 non-null  int64         \n",
      " 3   NounChunkMatchWords          493418 non-null  object        \n",
      " 4   NounChunkMatchWordsFiltered  493418 non-null  object        \n",
      " 5   NounChunkMatchFiltered       493418 non-null  int64         \n",
      " 6   Title                        493418 non-null  object        \n",
      " 7   StartDate                    493418 non-null  datetime64[ns]\n",
      " 8   Text                         493418 non-null  object        \n",
      " 9   Newspaper                    493418 non-null  object        \n",
      " 10  Year                         493418 non-null  int64         \n",
      " 11  Month                        493418 non-null  int64         \n",
      " 12  Type                         493418 non-null  object        \n",
      " 13  SourceType                   493418 non-null  object        \n",
      " 14  RegRelevance                 493418 non-null  float64       \n",
      " 15  UncertaintyCount             493418 non-null  float64       \n",
      " 16  UncertaintyWords             493418 non-null  object        \n",
      " 17  UncertaintyWordsFiltered     493418 non-null  object        \n",
      " 18  UncertaintyCountFiltered     493418 non-null  float64       \n",
      " 19  TotalWordCount               493418 non-null  float64       \n",
      " 20  UncertaintyScore             493418 non-null  float64       \n",
      "dtypes: datetime64[ns](1), float64(5), int64(4), object(11)\n",
      "memory usage: 79.1+ MB\n",
      "None\n"
     ]
    }
   ],
   "source": [
    "df['UncertaintyScore']=df['UncertaintyCountFiltered']/df['TotalWordCount']*100\n",
    "print(df.info())"
   ]
  },
  {
   "cell_type": "markdown",
   "metadata": {},
   "source": [
    "## 4. Construct uncertainty index"
   ]
  },
  {
   "cell_type": "code",
   "execution_count": 33,
   "metadata": {},
   "outputs": [
    {
     "name": "stdout",
     "output_type": "stream",
     "text": [
      "<class 'pandas.core.frame.DataFrame'>\n",
      "RangeIndex: 493418 entries, 0 to 493417\n",
      "Data columns (total 21 columns):\n",
      " #   Column                       Non-Null Count   Dtype         \n",
      "---  ------                       --------------   -----         \n",
      " 0   ID                           493418 non-null  object        \n",
      " 1   RegSentsExpand               493418 non-null  object        \n",
      " 2   NounChunksMatch              493418 non-null  int64         \n",
      " 3   NounChunkMatchWords          493418 non-null  object        \n",
      " 4   NounChunkMatchWordsFiltered  493418 non-null  object        \n",
      " 5   NounChunkMatchFiltered       493418 non-null  int64         \n",
      " 6   Title                        493418 non-null  object        \n",
      " 7   StartDate                    493418 non-null  datetime64[ns]\n",
      " 8   Text                         493418 non-null  object        \n",
      " 9   Newspaper                    493418 non-null  category      \n",
      " 10  Year                         493418 non-null  int64         \n",
      " 11  Month                        493418 non-null  int64         \n",
      " 12  Type                         493418 non-null  object        \n",
      " 13  SourceType                   493418 non-null  object        \n",
      " 14  RegRelevance                 493418 non-null  float64       \n",
      " 15  UncertaintyCount             493418 non-null  float64       \n",
      " 16  UncertaintyWords             493418 non-null  object        \n",
      " 17  UncertaintyWordsFiltered     493418 non-null  object        \n",
      " 18  UncertaintyCountFiltered     493418 non-null  float64       \n",
      " 19  TotalWordCount               493418 non-null  float64       \n",
      " 20  UncertaintyScore             493418 non-null  float64       \n",
      "dtypes: category(1), datetime64[ns](1), float64(5), int64(4), object(10)\n",
      "memory usage: 75.8+ MB\n",
      "None\n"
     ]
    }
   ],
   "source": [
    "# Change data format\n",
    "df['StartDate']=df['StartDate'].astype('datetime64[ns]')\n",
    "df['Year']=df['StartDate'].dt.year\n",
    "df['Month']=df['StartDate'].dt.month\n",
    "df['Newspaper']=df['Newspaper'].astype('category')\n",
    "print(df.info())"
   ]
  },
  {
   "cell_type": "code",
   "execution_count": 34,
   "metadata": {},
   "outputs": [
    {
     "name": "stdout",
     "output_type": "stream",
     "text": [
      "     Year  Month   YM\n",
      "0    1985      1    1\n",
      "1    1985      2    2\n",
      "2    1985      3    3\n",
      "3    1985      4    4\n",
      "4    1985      5    5\n",
      "..    ...    ...  ...\n",
      "423  2020      4  424\n",
      "424  2020      5  425\n",
      "425  2020      6  426\n",
      "426  2020      7  427\n",
      "427  2020      8  428\n",
      "\n",
      "[428 rows x 3 columns]\n"
     ]
    }
   ],
   "source": [
    "# Unique year-month dataframe\n",
    "df_ym=df[['Year','Month']].drop_duplicates().sort_values(['Year','Month']).reset_index(drop=True).reset_index()\n",
    "df_ym['YM']=df_ym['index']+1\n",
    "df_ym=df_ym.drop('index',axis=1)\n",
    "print(df_ym)"
   ]
  },
  {
   "cell_type": "code",
   "execution_count": 35,
   "metadata": {},
   "outputs": [
    {
     "name": "stdout",
     "output_type": "stream",
     "text": [
      "<class 'pandas.core.frame.DataFrame'>\n",
      "RangeIndex: 493418 entries, 0 to 493417\n",
      "Data columns (total 22 columns):\n",
      " #   Column                       Non-Null Count   Dtype         \n",
      "---  ------                       --------------   -----         \n",
      " 0   ID                           493418 non-null  object        \n",
      " 1   RegSentsExpand               493418 non-null  object        \n",
      " 2   NounChunksMatch              493418 non-null  int64         \n",
      " 3   NounChunkMatchWords          493418 non-null  object        \n",
      " 4   NounChunkMatchWordsFiltered  493418 non-null  object        \n",
      " 5   NounChunkMatchFiltered       493418 non-null  int64         \n",
      " 6   Title                        493418 non-null  object        \n",
      " 7   StartDate                    493418 non-null  datetime64[ns]\n",
      " 8   Text                         493418 non-null  object        \n",
      " 9   Newspaper                    493418 non-null  category      \n",
      " 10  Year                         493418 non-null  int64         \n",
      " 11  Month                        493418 non-null  int64         \n",
      " 12  Type                         493418 non-null  object        \n",
      " 13  SourceType                   493418 non-null  object        \n",
      " 14  RegRelevance                 493418 non-null  float64       \n",
      " 15  UncertaintyCount             493418 non-null  float64       \n",
      " 16  UncertaintyWords             493418 non-null  object        \n",
      " 17  UncertaintyWordsFiltered     493418 non-null  object        \n",
      " 18  UncertaintyCountFiltered     493418 non-null  float64       \n",
      " 19  TotalWordCount               493418 non-null  float64       \n",
      " 20  UncertaintyScore             493418 non-null  float64       \n",
      " 21  YM                           493418 non-null  int64         \n",
      "dtypes: category(1), datetime64[ns](1), float64(5), int64(5), object(10)\n",
      "memory usage: 79.5+ MB\n",
      "None\n"
     ]
    }
   ],
   "source": [
    "df=df.merge(df_ym[['Year','Month','YM']],on=['Year','Month'],how='left').sort_values(['Year','Month']).reset_index(drop=True)\n",
    "print(df.info())"
   ]
  },
  {
   "cell_type": "code",
   "execution_count": 36,
   "metadata": {},
   "outputs": [],
   "source": [
    "# Function to estimate index (suppressing constant)\n",
    "def estimate_index(var_name):\n",
    "    FE_OLS=sm.ols(formula=var_name + ' ~ 0+C(YM)+C(Newspaper)',\n",
    "        data=df).fit()\n",
    "    print(FE_OLS.summary())\n",
    "\n",
    "    FE_estimates=pd.DataFrame()\n",
    "    FE_estimates[var_name+'Index']=FE_OLS.params[0:len(df_ym)]\n",
    "    FE_estimates=FE_estimates.reset_index().rename(columns={'index':'FE'})\n",
    "    FE_estimates['YM']=FE_estimates['FE'].str.split(\"[\",expand=True)[1].str.split(\"]\",expand=True)[0].astype('int64')\n",
    "    \n",
    "    return FE_estimates"
   ]
  },
  {
   "cell_type": "code",
   "execution_count": 39,
   "metadata": {},
   "outputs": [
    {
     "name": "stdout",
     "output_type": "stream",
     "text": [
      "                            OLS Regression Results                            \n",
      "==============================================================================\n",
      "Dep. Variable:       UncertaintyScore   R-squared:                       0.005\n",
      "Model:                            OLS   Adj. R-squared:                  0.004\n",
      "Method:                 Least Squares   F-statistic:                     5.213\n",
      "Date:                Fri, 04 Jun 2021   Prob (F-statistic):          4.28e-243\n",
      "Time:                        16:35:35   Log-Likelihood:            -5.4022e+05\n",
      "No. Observations:              493418   AIC:                         1.081e+06\n",
      "Df Residuals:                  492984   BIC:                         1.086e+06\n",
      "Df Model:                         433                                         \n",
      "Covariance Type:            nonrobust                                         \n",
      "=======================================================================================================\n",
      "                                          coef    std err          t      P>|t|      [0.025      0.975]\n",
      "-------------------------------------------------------------------------------------------------------\n",
      "C(YM)[1]                                0.3884      0.025     15.484      0.000       0.339       0.438\n",
      "C(YM)[2]                                0.3690      0.026     14.061      0.000       0.318       0.420\n",
      "C(YM)[3]                                0.3893      0.024     16.560      0.000       0.343       0.435\n",
      "C(YM)[4]                                0.3986      0.023     17.050      0.000       0.353       0.444\n",
      "C(YM)[5]                                0.3999      0.023     17.146      0.000       0.354       0.446\n",
      "C(YM)[6]                                0.4155      0.024     17.582      0.000       0.369       0.462\n",
      "C(YM)[7]                                0.4052      0.025     16.418      0.000       0.357       0.454\n",
      "C(YM)[8]                                0.4143      0.024     17.490      0.000       0.368       0.461\n",
      "C(YM)[9]                                0.4753      0.025     19.332      0.000       0.427       0.524\n",
      "C(YM)[10]                               0.4524      0.024     18.930      0.000       0.406       0.499\n",
      "C(YM)[11]                               0.4261      0.025     16.740      0.000       0.376       0.476\n",
      "C(YM)[12]                               0.4137      0.024     17.188      0.000       0.367       0.461\n",
      "C(YM)[13]                               0.4379      0.023     18.954      0.000       0.393       0.483\n",
      "C(YM)[14]                               0.4222      0.026     16.280      0.000       0.371       0.473\n",
      "C(YM)[15]                               0.4341      0.025     17.590      0.000       0.386       0.482\n",
      "C(YM)[16]                               0.3889      0.024     16.277      0.000       0.342       0.436\n",
      "C(YM)[17]                               0.4366      0.024     18.406      0.000       0.390       0.483\n",
      "C(YM)[18]                               0.4607      0.024     19.456      0.000       0.414       0.507\n",
      "C(YM)[19]                               0.4091      0.025     16.636      0.000       0.361       0.457\n",
      "C(YM)[20]                               0.4231      0.025     17.149      0.000       0.375       0.471\n",
      "C(YM)[21]                               0.4836      0.025     19.515      0.000       0.435       0.532\n",
      "C(YM)[22]                               0.4354      0.024     18.153      0.000       0.388       0.482\n",
      "C(YM)[23]                               0.4306      0.024     17.893      0.000       0.383       0.478\n",
      "C(YM)[24]                               0.4226      0.023     18.191      0.000       0.377       0.468\n",
      "C(YM)[25]                               0.4257      0.023     18.572      0.000       0.381       0.471\n",
      "C(YM)[26]                               0.4542      0.023     20.060      0.000       0.410       0.499\n",
      "C(YM)[27]                               0.4318      0.021     20.580      0.000       0.391       0.473\n",
      "C(YM)[28]                               0.4532      0.021     21.554      0.000       0.412       0.494\n",
      "C(YM)[29]                               0.4343      0.022     19.610      0.000       0.391       0.478\n",
      "C(YM)[30]                               0.4485      0.021     21.707      0.000       0.408       0.489\n",
      "C(YM)[31]                               0.4476      0.020     21.879      0.000       0.407       0.488\n",
      "C(YM)[32]                               0.4137      0.022     19.207      0.000       0.371       0.456\n",
      "C(YM)[33]                               0.4701      0.022     21.321      0.000       0.427       0.513\n",
      "C(YM)[34]                               0.4502      0.021     21.678      0.000       0.409       0.491\n",
      "C(YM)[35]                               0.4772      0.022     22.019      0.000       0.435       0.520\n",
      "C(YM)[36]                               0.4446      0.023     19.629      0.000       0.400       0.489\n",
      "C(YM)[37]                               0.4676      0.021     22.089      0.000       0.426       0.509\n",
      "C(YM)[38]                               0.4432      0.021     20.911      0.000       0.402       0.485\n",
      "C(YM)[39]                               0.4117      0.021     19.465      0.000       0.370       0.453\n",
      "C(YM)[40]                               0.4379      0.021     20.402      0.000       0.396       0.480\n",
      "C(YM)[41]                               0.4766      0.021     22.750      0.000       0.436       0.518\n",
      "C(YM)[42]                               0.3873      0.020     19.240      0.000       0.348       0.427\n",
      "C(YM)[43]                               0.4012      0.022     18.347      0.000       0.358       0.444\n",
      "C(YM)[44]                               0.4072      0.021     19.298      0.000       0.366       0.449\n",
      "C(YM)[45]                               0.3984      0.021     18.994      0.000       0.357       0.440\n",
      "C(YM)[46]                               0.4358      0.020     21.505      0.000       0.396       0.476\n",
      "C(YM)[47]                               0.4310      0.021     20.686      0.000       0.390       0.472\n",
      "C(YM)[48]                               0.3983      0.020     20.270      0.000       0.360       0.437\n",
      "C(YM)[49]                               0.4586      0.020     22.803      0.000       0.419       0.498\n",
      "C(YM)[50]                               0.4395      0.021     21.370      0.000       0.399       0.480\n",
      "C(YM)[51]                               0.3957      0.019     21.018      0.000       0.359       0.433\n",
      "C(YM)[52]                               0.4202      0.020     21.502      0.000       0.382       0.459\n",
      "C(YM)[53]                               0.4050      0.020     20.377      0.000       0.366       0.444\n",
      "C(YM)[54]                               0.4321      0.020     21.514      0.000       0.393       0.472\n",
      "C(YM)[55]                               0.3958      0.020     19.525      0.000       0.356       0.436\n",
      "C(YM)[56]                               0.4206      0.020     20.993      0.000       0.381       0.460\n",
      "C(YM)[57]                               0.4167      0.021     20.321      0.000       0.376       0.457\n",
      "C(YM)[58]                               0.4199      0.020     21.092      0.000       0.381       0.459\n",
      "C(YM)[59]                               0.3783      0.020     19.171      0.000       0.340       0.417\n",
      "C(YM)[60]                               0.4108      0.021     19.579      0.000       0.370       0.452\n",
      "C(YM)[61]                               0.4310      0.020     21.091      0.000       0.391       0.471\n",
      "C(YM)[62]                               0.4277      0.021     20.845      0.000       0.387       0.468\n",
      "C(YM)[63]                               0.4025      0.019     21.152      0.000       0.365       0.440\n",
      "C(YM)[64]                               0.4213      0.019     21.770      0.000       0.383       0.459\n",
      "C(YM)[65]                               0.4452      0.020     22.196      0.000       0.406       0.484\n",
      "C(YM)[66]                               0.4331      0.020     21.375      0.000       0.393       0.473\n",
      "C(YM)[67]                               0.4317      0.019     22.241      0.000       0.394       0.470\n",
      "C(YM)[68]                               0.4261      0.021     20.102      0.000       0.385       0.468\n",
      "C(YM)[69]                               0.4550      0.020     22.290      0.000       0.415       0.495\n",
      "C(YM)[70]                               0.4284      0.020     21.313      0.000       0.389       0.468\n",
      "C(YM)[71]                               0.4385      0.021     21.148      0.000       0.398       0.479\n",
      "C(YM)[72]                               0.4371      0.020     22.229      0.000       0.399       0.476\n",
      "C(YM)[73]                               0.4537      0.020     22.187      0.000       0.414       0.494\n",
      "C(YM)[74]                               0.4037      0.021     18.862      0.000       0.362       0.446\n",
      "C(YM)[75]                               0.3847      0.021     18.131      0.000       0.343       0.426\n",
      "C(YM)[76]                               0.4281      0.020     21.321      0.000       0.389       0.467\n",
      "C(YM)[77]                               0.4223      0.019     22.560      0.000       0.386       0.459\n",
      "C(YM)[78]                               0.4136      0.019     21.728      0.000       0.376       0.451\n",
      "C(YM)[79]                               0.4209      0.020     21.517      0.000       0.383       0.459\n",
      "C(YM)[80]                               0.3954      0.020     19.930      0.000       0.356       0.434\n",
      "C(YM)[81]                               0.4485      0.020     22.318      0.000       0.409       0.488\n",
      "C(YM)[82]                               0.4446      0.020     22.174      0.000       0.405       0.484\n",
      "C(YM)[83]                               0.3807      0.020     19.310      0.000       0.342       0.419\n",
      "C(YM)[84]                               0.4200      0.022     19.287      0.000       0.377       0.463\n",
      "C(YM)[85]                               0.4272      0.021     20.517      0.000       0.386       0.468\n",
      "C(YM)[86]                               0.4057      0.021     19.050      0.000       0.364       0.447\n",
      "C(YM)[87]                               0.4076      0.020     20.339      0.000       0.368       0.447\n",
      "C(YM)[88]                               0.4286      0.021     20.506      0.000       0.388       0.470\n",
      "C(YM)[89]                               0.4210      0.022     19.370      0.000       0.378       0.464\n",
      "C(YM)[90]                               0.3896      0.021     18.762      0.000       0.349       0.430\n",
      "C(YM)[91]                               0.4280      0.021     20.018      0.000       0.386       0.470\n",
      "C(YM)[92]                               0.4397      0.022     19.833      0.000       0.396       0.483\n",
      "C(YM)[93]                               0.3850      0.022     17.514      0.000       0.342       0.428\n",
      "C(YM)[94]                               0.3874      0.020     19.744      0.000       0.349       0.426\n",
      "C(YM)[95]                               0.4030      0.022     18.591      0.000       0.361       0.446\n",
      "C(YM)[96]                               0.4091      0.022     18.636      0.000       0.366       0.452\n",
      "C(YM)[97]                               0.4193      0.022     18.835      0.000       0.376       0.463\n",
      "C(YM)[98]                               0.4241      0.023     18.669      0.000       0.380       0.469\n",
      "C(YM)[99]                               0.3831      0.022     17.762      0.000       0.341       0.425\n",
      "C(YM)[100]                              0.4162      0.023     18.386      0.000       0.372       0.461\n",
      "C(YM)[101]                              0.3539      0.022     16.296      0.000       0.311       0.396\n",
      "C(YM)[102]                              0.4229      0.022     19.473      0.000       0.380       0.466\n",
      "C(YM)[103]                              0.4331      0.023     19.165      0.000       0.389       0.477\n",
      "C(YM)[104]                              0.4030      0.024     17.094      0.000       0.357       0.449\n",
      "C(YM)[105]                              0.3917      0.021     18.294      0.000       0.350       0.434\n",
      "C(YM)[106]                              0.3941      0.021     18.476      0.000       0.352       0.436\n",
      "C(YM)[107]                              0.3898      0.021     18.227      0.000       0.348       0.432\n",
      "C(YM)[108]                              0.3901      0.021     18.343      0.000       0.348       0.432\n",
      "C(YM)[109]                              0.3441      0.021     16.055      0.000       0.302       0.386\n",
      "C(YM)[110]                              0.3986      0.022     18.250      0.000       0.356       0.441\n",
      "C(YM)[111]                              0.4361      0.021     20.878      0.000       0.395       0.477\n",
      "C(YM)[112]                              0.4470      0.022     20.581      0.000       0.404       0.490\n",
      "C(YM)[113]                              0.4614      0.021     21.932      0.000       0.420       0.503\n",
      "C(YM)[114]                              0.4148      0.022     19.159      0.000       0.372       0.457\n",
      "C(YM)[115]                              0.4087      0.022     18.606      0.000       0.366       0.452\n",
      "C(YM)[116]                              0.4072      0.022     18.481      0.000       0.364       0.450\n",
      "C(YM)[117]                              0.4002      0.022     18.367      0.000       0.357       0.443\n",
      "C(YM)[118]                              0.4347      0.022     19.950      0.000       0.392       0.477\n",
      "C(YM)[119]                              0.4083      0.022     18.937      0.000       0.366       0.451\n",
      "C(YM)[120]                              0.4281      0.022     19.522      0.000       0.385       0.471\n",
      "C(YM)[121]                              0.4221      0.025     16.677      0.000       0.373       0.472\n",
      "C(YM)[122]                              0.4372      0.024     17.986      0.000       0.390       0.485\n",
      "C(YM)[123]                              0.4583      0.024     19.324      0.000       0.412       0.505\n",
      "C(YM)[124]                              0.3924      0.025     15.603      0.000       0.343       0.442\n",
      "C(YM)[125]                              0.3767      0.025     15.095      0.000       0.328       0.426\n",
      "C(YM)[126]                              0.3723      0.024     15.459      0.000       0.325       0.419\n",
      "C(YM)[127]                              0.3997      0.024     16.331      0.000       0.352       0.448\n",
      "C(YM)[128]                              0.4113      0.023     17.761      0.000       0.366       0.457\n",
      "C(YM)[129]                              0.3838      0.025     15.144      0.000       0.334       0.433\n",
      "C(YM)[130]                              0.3917      0.024     16.029      0.000       0.344       0.440\n",
      "C(YM)[131]                              0.3767      0.025     15.293      0.000       0.328       0.425\n",
      "C(YM)[132]                              0.4323      0.026     16.881      0.000       0.382       0.482\n",
      "C(YM)[133]                              0.3767      0.026     14.491      0.000       0.326       0.428\n",
      "C(YM)[134]                              0.3878      0.027     14.550      0.000       0.336       0.440\n",
      "C(YM)[135]                              0.3916      0.025     15.696      0.000       0.343       0.440\n",
      "C(YM)[136]                              0.3704      0.024     15.249      0.000       0.323       0.418\n",
      "C(YM)[137]                              0.3678      0.025     14.900      0.000       0.319       0.416\n",
      "C(YM)[138]                              0.4402      0.024     18.088      0.000       0.392       0.488\n",
      "C(YM)[139]                              0.3883      0.025     15.437      0.000       0.339       0.438\n",
      "C(YM)[140]                              0.4185      0.024     17.440      0.000       0.371       0.466\n",
      "C(YM)[141]                              0.4077      0.026     15.725      0.000       0.357       0.458\n",
      "C(YM)[142]                              0.4047      0.025     16.448      0.000       0.356       0.453\n",
      "C(YM)[143]                              0.4187      0.025     16.809      0.000       0.370       0.468\n",
      "C(YM)[144]                              0.4316      0.025     17.109      0.000       0.382       0.481\n",
      "C(YM)[145]                              0.4116      0.025     16.152      0.000       0.362       0.462\n",
      "C(YM)[146]                              0.3783      0.025     15.307      0.000       0.330       0.427\n",
      "C(YM)[147]                              0.3578      0.024     14.658      0.000       0.310       0.406\n",
      "C(YM)[148]                              0.4057      0.024     16.696      0.000       0.358       0.453\n",
      "C(YM)[149]                              0.3890      0.024     16.255      0.000       0.342       0.436\n",
      "C(YM)[150]                              0.4038      0.022     18.477      0.000       0.361       0.447\n",
      "C(YM)[151]                              0.3962      0.024     16.346      0.000       0.349       0.444\n",
      "C(YM)[152]                              0.3977      0.025     15.818      0.000       0.348       0.447\n",
      "C(YM)[153]                              0.4094      0.025     16.575      0.000       0.361       0.458\n",
      "C(YM)[154]                              0.3741      0.024     15.609      0.000       0.327       0.421\n",
      "C(YM)[155]                              0.4392      0.024     18.121      0.000       0.392       0.487\n",
      "C(YM)[156]                              0.3808      0.024     15.857      0.000       0.334       0.428\n",
      "C(YM)[157]                              0.3972      0.024     16.347      0.000       0.350       0.445\n",
      "C(YM)[158]                              0.4084      0.025     16.257      0.000       0.359       0.458\n",
      "C(YM)[159]                              0.3273      0.022     14.581      0.000       0.283       0.371\n",
      "C(YM)[160]                              0.4340      0.022     19.297      0.000       0.390       0.478\n",
      "C(YM)[161]                              0.4312      0.023     18.884      0.000       0.386       0.476\n",
      "C(YM)[162]                              0.3853      0.023     17.099      0.000       0.341       0.429\n",
      "C(YM)[163]                              0.3973      0.023     17.603      0.000       0.353       0.442\n",
      "C(YM)[164]                              0.3619      0.026     14.183      0.000       0.312       0.412\n",
      "C(YM)[165]                              0.4220      0.024     17.609      0.000       0.375       0.469\n",
      "C(YM)[166]                              0.4272      0.023     18.295      0.000       0.381       0.473\n",
      "C(YM)[167]                              0.3898      0.024     16.316      0.000       0.343       0.437\n",
      "C(YM)[168]                              0.3746      0.024     15.505      0.000       0.327       0.422\n",
      "C(YM)[169]                              0.3962      0.025     15.732      0.000       0.347       0.446\n",
      "C(YM)[170]                              0.4381      0.024     17.994      0.000       0.390       0.486\n",
      "C(YM)[171]                              0.4454      0.023     19.435      0.000       0.400       0.490\n",
      "C(YM)[172]                              0.4079      0.024     16.998      0.000       0.361       0.455\n",
      "C(YM)[173]                              0.3557      0.023     15.574      0.000       0.311       0.400\n",
      "C(YM)[174]                              0.3748      0.023     16.360      0.000       0.330       0.420\n",
      "C(YM)[175]                              0.3748      0.022     16.838      0.000       0.331       0.418\n",
      "C(YM)[176]                              0.3916      0.023     17.165      0.000       0.347       0.436\n",
      "C(YM)[177]                              0.4010      0.023     17.670      0.000       0.357       0.445\n",
      "C(YM)[178]                              0.3735      0.022     16.810      0.000       0.330       0.417\n",
      "C(YM)[179]                              0.4102      0.024     17.091      0.000       0.363       0.457\n",
      "C(YM)[180]                              0.3824      0.025     15.573      0.000       0.334       0.430\n",
      "C(YM)[181]                              0.4056      0.024     16.655      0.000       0.358       0.453\n",
      "C(YM)[182]                              0.3750      0.024     15.401      0.000       0.327       0.423\n",
      "C(YM)[183]                              0.3771      0.022     17.142      0.000       0.334       0.420\n",
      "C(YM)[184]                              0.3875      0.025     15.606      0.000       0.339       0.436\n",
      "C(YM)[185]                              0.3315      0.023     14.349      0.000       0.286       0.377\n",
      "C(YM)[186]                              0.3993      0.022     18.052      0.000       0.356       0.443\n",
      "C(YM)[187]                              0.3511      0.024     14.511      0.000       0.304       0.399\n",
      "C(YM)[188]                              0.3863      0.023     16.492      0.000       0.340       0.432\n",
      "C(YM)[189]                              0.3771      0.022     17.121      0.000       0.334       0.420\n",
      "C(YM)[190]                              0.3449      0.022     15.480      0.000       0.301       0.389\n",
      "C(YM)[191]                              0.4204      0.023     18.185      0.000       0.375       0.466\n",
      "C(YM)[192]                              0.3756      0.022     16.721      0.000       0.332       0.420\n",
      "C(YM)[193]                              0.3936      0.021     18.723      0.000       0.352       0.435\n",
      "C(YM)[194]                              0.3484      0.024     14.670      0.000       0.302       0.395\n",
      "C(YM)[195]                              0.4296      0.021     20.094      0.000       0.388       0.472\n",
      "C(YM)[196]                              0.4125      0.022     18.679      0.000       0.369       0.456\n",
      "C(YM)[197]                              0.4242      0.021     20.091      0.000       0.383       0.466\n",
      "C(YM)[198]                              0.3796      0.022     17.202      0.000       0.336       0.423\n",
      "C(YM)[199]                              0.4152      0.022     18.611      0.000       0.371       0.459\n",
      "C(YM)[200]                              0.4507      0.023     19.811      0.000       0.406       0.495\n",
      "C(YM)[201]                              0.3968      0.025     15.786      0.000       0.348       0.446\n",
      "C(YM)[202]                              0.3993      0.026     15.615      0.000       0.349       0.449\n",
      "C(YM)[203]                              0.4148      0.025     16.383      0.000       0.365       0.464\n",
      "C(YM)[204]                              0.4275      0.025     17.336      0.000       0.379       0.476\n",
      "C(YM)[205]                              0.4057      0.023     17.832      0.000       0.361       0.450\n",
      "C(YM)[206]                              0.4146      0.022     19.242      0.000       0.372       0.457\n",
      "C(YM)[207]                              0.4010      0.022     18.004      0.000       0.357       0.445\n",
      "C(YM)[208]                              0.4257      0.023     18.128      0.000       0.380       0.472\n",
      "C(YM)[209]                              0.3988      0.021     18.697      0.000       0.357       0.441\n",
      "C(YM)[210]                              0.3574      0.022     16.229      0.000       0.314       0.401\n",
      "C(YM)[211]                              0.3888      0.021     18.910      0.000       0.348       0.429\n",
      "C(YM)[212]                              0.4535      0.022     20.284      0.000       0.410       0.497\n",
      "C(YM)[213]                              0.3602      0.023     15.716      0.000       0.315       0.405\n",
      "C(YM)[214]                              0.3850      0.021     17.932      0.000       0.343       0.427\n",
      "C(YM)[215]                              0.4212      0.022     19.122      0.000       0.378       0.464\n",
      "C(YM)[216]                              0.4160      0.022     18.718      0.000       0.372       0.460\n",
      "C(YM)[217]                              0.3931      0.022     17.971      0.000       0.350       0.436\n",
      "C(YM)[218]                              0.4308      0.023     18.645      0.000       0.385       0.476\n",
      "C(YM)[219]                              0.4030      0.023     17.503      0.000       0.358       0.448\n",
      "C(YM)[220]                              0.3700      0.023     16.153      0.000       0.325       0.415\n",
      "C(YM)[221]                              0.3954      0.023     17.496      0.000       0.351       0.440\n",
      "C(YM)[222]                              0.4115      0.022     18.693      0.000       0.368       0.455\n",
      "C(YM)[223]                              0.3452      0.022     15.379      0.000       0.301       0.389\n",
      "C(YM)[224]                              0.3725      0.022     17.282      0.000       0.330       0.415\n",
      "C(YM)[225]                              0.3856      0.021     18.303      0.000       0.344       0.427\n",
      "C(YM)[226]                              0.3836      0.020     18.757      0.000       0.343       0.424\n",
      "C(YM)[227]                              0.4015      0.021     19.369      0.000       0.361       0.442\n",
      "C(YM)[228]                              0.4105      0.021     19.325      0.000       0.369       0.452\n",
      "C(YM)[229]                              0.4299      0.023     18.895      0.000       0.385       0.474\n",
      "C(YM)[230]                              0.3966      0.022     17.789      0.000       0.353       0.440\n",
      "C(YM)[231]                              0.3930      0.022     17.788      0.000       0.350       0.436\n",
      "C(YM)[232]                              0.3856      0.022     17.809      0.000       0.343       0.428\n",
      "C(YM)[233]                              0.3611      0.022     16.103      0.000       0.317       0.405\n",
      "C(YM)[234]                              0.3728      0.023     16.436      0.000       0.328       0.417\n",
      "C(YM)[235]                              0.3479      0.023     14.905      0.000       0.302       0.394\n",
      "C(YM)[236]                              0.4242      0.024     17.747      0.000       0.377       0.471\n",
      "C(YM)[237]                              0.4021      0.023     17.782      0.000       0.358       0.446\n",
      "C(YM)[238]                              0.4410      0.022     20.503      0.000       0.399       0.483\n",
      "C(YM)[239]                              0.4351      0.023     18.522      0.000       0.389       0.481\n",
      "C(YM)[240]                              0.4200      0.022     19.200      0.000       0.377       0.463\n",
      "C(YM)[241]                              0.3930      0.024     16.685      0.000       0.347       0.439\n",
      "C(YM)[242]                              0.4160      0.023     17.860      0.000       0.370       0.462\n",
      "C(YM)[243]                              0.3824      0.022     17.773      0.000       0.340       0.425\n",
      "C(YM)[244]                              0.4730      0.022     21.252      0.000       0.429       0.517\n",
      "C(YM)[245]                              0.4625      0.024     19.652      0.000       0.416       0.509\n",
      "C(YM)[246]                              0.4496      0.022     20.548      0.000       0.407       0.493\n",
      "C(YM)[247]                              0.3880      0.024     16.266      0.000       0.341       0.435\n",
      "C(YM)[248]                              0.4311      0.025     17.345      0.000       0.382       0.480\n",
      "C(YM)[249]                              0.4138      0.025     16.881      0.000       0.366       0.462\n",
      "C(YM)[250]                              0.4342      0.024     17.809      0.000       0.386       0.482\n",
      "C(YM)[251]                              0.4070      0.025     16.513      0.000       0.359       0.455\n",
      "C(YM)[252]                              0.3471      0.024     14.535      0.000       0.300       0.394\n",
      "C(YM)[253]                              0.3861      0.024     15.808      0.000       0.338       0.434\n",
      "C(YM)[254]                              0.3843      0.025     15.559      0.000       0.336       0.433\n",
      "C(YM)[255]                              0.4301      0.024     18.168      0.000       0.384       0.477\n",
      "C(YM)[256]                              0.3997      0.025     15.932      0.000       0.350       0.449\n",
      "C(YM)[257]                              0.3805      0.025     15.129      0.000       0.331       0.430\n",
      "C(YM)[258]                              0.4093      0.023     17.493      0.000       0.363       0.455\n",
      "C(YM)[259]                              0.3586      0.025     14.090      0.000       0.309       0.408\n",
      "C(YM)[260]                              0.3808      0.024     15.628      0.000       0.333       0.429\n",
      "C(YM)[261]                              0.4053      0.025     16.406      0.000       0.357       0.454\n",
      "C(YM)[262]                              0.3807      0.025     15.286      0.000       0.332       0.430\n",
      "C(YM)[263]                              0.4248      0.024     17.395      0.000       0.377       0.473\n",
      "C(YM)[264]                              0.3557      0.024     14.988      0.000       0.309       0.402\n",
      "C(YM)[265]                              0.3495      0.025     14.241      0.000       0.301       0.398\n",
      "C(YM)[266]                              0.4487      0.026     17.402      0.000       0.398       0.499\n",
      "C(YM)[267]                              0.3861      0.023     17.010      0.000       0.342       0.431\n",
      "C(YM)[268]                              0.4286      0.024     18.037      0.000       0.382       0.475\n",
      "C(YM)[269]                              0.4218      0.024     17.456      0.000       0.374       0.469\n",
      "C(YM)[270]                              0.4108      0.024     17.090      0.000       0.364       0.458\n",
      "C(YM)[271]                              0.3955      0.025     16.060      0.000       0.347       0.444\n",
      "C(YM)[272]                              0.4062      0.024     16.919      0.000       0.359       0.453\n",
      "C(YM)[273]                              0.4238      0.024     17.777      0.000       0.377       0.471\n",
      "C(YM)[274]                              0.4152      0.024     16.977      0.000       0.367       0.463\n",
      "C(YM)[275]                              0.3988      0.024     16.326      0.000       0.351       0.447\n",
      "C(YM)[276]                              0.3924      0.025     15.718      0.000       0.343       0.441\n",
      "C(YM)[277]                              0.4230      0.025     16.642      0.000       0.373       0.473\n",
      "C(YM)[278]                              0.4074      0.024     16.662      0.000       0.359       0.455\n",
      "C(YM)[279]                              0.4585      0.023     20.296      0.000       0.414       0.503\n",
      "C(YM)[280]                              0.4552      0.022     20.395      0.000       0.411       0.499\n",
      "C(YM)[281]                              0.4447      0.025     17.937      0.000       0.396       0.493\n",
      "C(YM)[282]                              0.4059      0.024     16.838      0.000       0.359       0.453\n",
      "C(YM)[283]                              0.4682      0.023     20.202      0.000       0.423       0.514\n",
      "C(YM)[284]                              0.4397      0.025     17.713      0.000       0.391       0.488\n",
      "C(YM)[285]                              0.5046      0.021     23.816      0.000       0.463       0.546\n",
      "C(YM)[286]                              0.4557      0.023     19.907      0.000       0.411       0.501\n",
      "C(YM)[287]                              0.4088      0.026     15.812      0.000       0.358       0.459\n",
      "C(YM)[288]                              0.4112      0.025     16.261      0.000       0.362       0.461\n",
      "C(YM)[289]                              0.4056      0.026     15.640      0.000       0.355       0.456\n",
      "C(YM)[290]                              0.3600      0.026     13.882      0.000       0.309       0.411\n",
      "C(YM)[291]                              0.4457      0.024     18.398      0.000       0.398       0.493\n",
      "C(YM)[292]                              0.4195      0.025     16.837      0.000       0.371       0.468\n",
      "C(YM)[293]                              0.4564      0.026     17.503      0.000       0.405       0.507\n",
      "C(YM)[294]                              0.4419      0.024     18.449      0.000       0.395       0.489\n",
      "C(YM)[295]                              0.4777      0.025     19.255      0.000       0.429       0.526\n",
      "C(YM)[296]                              0.5038      0.026     19.388      0.000       0.453       0.555\n",
      "C(YM)[297]                              0.4640      0.025     18.922      0.000       0.416       0.512\n",
      "C(YM)[298]                              0.4438      0.024     18.877      0.000       0.398       0.490\n",
      "C(YM)[299]                              0.4222      0.027     15.808      0.000       0.370       0.475\n",
      "C(YM)[300]                              0.4290      0.025     17.215      0.000       0.380       0.478\n",
      "C(YM)[301]                              0.5005      0.020     24.585      0.000       0.461       0.540\n",
      "C(YM)[302]                              0.5274      0.020     26.250      0.000       0.488       0.567\n",
      "C(YM)[303]                              0.5063      0.018     28.566      0.000       0.472       0.541\n",
      "C(YM)[304]                              0.5328      0.017     30.497      0.000       0.499       0.567\n",
      "C(YM)[305]                              0.5266      0.017     31.716      0.000       0.494       0.559\n",
      "C(YM)[306]                              0.4969      0.018     27.931      0.000       0.462       0.532\n",
      "C(YM)[307]                              0.5144      0.018     28.081      0.000       0.478       0.550\n",
      "C(YM)[308]                              0.4926      0.020     24.690      0.000       0.453       0.532\n",
      "C(YM)[309]                              0.4811      0.018     26.027      0.000       0.445       0.517\n",
      "C(YM)[310]                              0.4671      0.018     25.971      0.000       0.432       0.502\n",
      "C(YM)[311]                              0.4474      0.019     22.959      0.000       0.409       0.486\n",
      "C(YM)[312]                              0.4551      0.019     23.782      0.000       0.418       0.493\n",
      "C(YM)[313]                              0.4300      0.019     22.563      0.000       0.393       0.467\n",
      "C(YM)[314]                              0.4264      0.020     21.081      0.000       0.387       0.466\n",
      "C(YM)[315]                              0.4791      0.018     27.190      0.000       0.445       0.514\n",
      "C(YM)[316]                              0.4164      0.020     21.306      0.000       0.378       0.455\n",
      "C(YM)[317]                              0.3682      0.019     18.885      0.000       0.330       0.406\n",
      "C(YM)[318]                              0.4438      0.018     24.633      0.000       0.408       0.479\n",
      "C(YM)[319]                              0.4352      0.020     21.824      0.000       0.396       0.474\n",
      "C(YM)[320]                              0.4983      0.020     24.873      0.000       0.459       0.538\n",
      "C(YM)[321]                              0.4730      0.019     24.994      0.000       0.436       0.510\n",
      "C(YM)[322]                              0.4696      0.020     23.762      0.000       0.431       0.508\n",
      "C(YM)[323]                              0.4762      0.020     23.920      0.000       0.437       0.515\n",
      "C(YM)[324]                              0.4739      0.019     24.524      0.000       0.436       0.512\n",
      "C(YM)[325]                              0.4497      0.020     22.360      0.000       0.410       0.489\n",
      "C(YM)[326]                              0.4451      0.020     22.014      0.000       0.405       0.485\n",
      "C(YM)[327]                              0.4095      0.020     20.596      0.000       0.371       0.448\n",
      "C(YM)[328]                              0.5083      0.020     25.537      0.000       0.469       0.547\n",
      "C(YM)[329]                              0.4393      0.019     22.633      0.000       0.401       0.477\n",
      "C(YM)[330]                              0.4682      0.020     23.197      0.000       0.429       0.508\n",
      "C(YM)[331]                              0.4519      0.020     23.022      0.000       0.413       0.490\n",
      "C(YM)[332]                              0.4227      0.020     20.921      0.000       0.383       0.462\n",
      "C(YM)[333]                              0.4535      0.022     20.717      0.000       0.411       0.496\n",
      "C(YM)[334]                              0.4414      0.020     22.259      0.000       0.403       0.480\n",
      "C(YM)[335]                              0.4305      0.020     22.018      0.000       0.392       0.469\n",
      "C(YM)[336]                              0.3562      0.019     18.418      0.000       0.318       0.394\n",
      "C(YM)[337]                              0.4229      0.018     22.976      0.000       0.387       0.459\n",
      "C(YM)[338]                              0.3824      0.019     20.257      0.000       0.345       0.419\n",
      "C(YM)[339]                              0.4541      0.019     24.405      0.000       0.418       0.491\n",
      "C(YM)[340]                              0.4565      0.019     24.418      0.000       0.420       0.493\n",
      "C(YM)[341]                              0.4202      0.018     23.005      0.000       0.384       0.456\n",
      "C(YM)[342]                              0.4012      0.019     21.293      0.000       0.364       0.438\n",
      "C(YM)[343]                              0.4073      0.018     22.442      0.000       0.372       0.443\n",
      "C(YM)[344]                              0.4057      0.019     20.960      0.000       0.368       0.444\n",
      "C(YM)[345]                              0.4372      0.020     22.146      0.000       0.399       0.476\n",
      "C(YM)[346]                              0.4578      0.019     24.378      0.000       0.421       0.495\n",
      "C(YM)[347]                              0.4187      0.019     22.125      0.000       0.382       0.456\n",
      "C(YM)[348]                              0.4366      0.019     22.917      0.000       0.399       0.474\n",
      "C(YM)[349]                              0.3725      0.019     19.676      0.000       0.335       0.410\n",
      "C(YM)[350]                              0.4044      0.019     21.533      0.000       0.368       0.441\n",
      "C(YM)[351]                              0.3971      0.018     22.209      0.000       0.362       0.432\n",
      "C(YM)[352]                              0.4294      0.017     24.792      0.000       0.395       0.463\n",
      "C(YM)[353]                              0.4561      0.017     26.506      0.000       0.422       0.490\n",
      "C(YM)[354]                              0.3657      0.019     19.687      0.000       0.329       0.402\n",
      "C(YM)[355]                              0.4196      0.019     22.621      0.000       0.383       0.456\n",
      "C(YM)[356]                              0.4361      0.019     22.629      0.000       0.398       0.474\n",
      "C(YM)[357]                              0.4343      0.019     22.609      0.000       0.397       0.472\n",
      "C(YM)[358]                              0.4067      0.019     21.760      0.000       0.370       0.443\n",
      "C(YM)[359]                              0.3697      0.018     20.033      0.000       0.334       0.406\n",
      "C(YM)[360]                              0.4557      0.019     24.346      0.000       0.419       0.492\n",
      "C(YM)[361]                              0.3908      0.019     20.447      0.000       0.353       0.428\n",
      "C(YM)[362]                              0.4425      0.020     22.544      0.000       0.404       0.481\n",
      "C(YM)[363]                              0.4009      0.019     21.512      0.000       0.364       0.437\n",
      "C(YM)[364]                              0.4376      0.019     22.998      0.000       0.400       0.475\n",
      "C(YM)[365]                              0.4112      0.019     21.709      0.000       0.374       0.448\n",
      "C(YM)[366]                              0.4379      0.019     23.556      0.000       0.402       0.474\n",
      "C(YM)[367]                              0.3822      0.019     20.343      0.000       0.345       0.419\n",
      "C(YM)[368]                              0.4343      0.020     21.454      0.000       0.395       0.474\n",
      "C(YM)[369]                              0.4339      0.020     21.990      0.000       0.395       0.473\n",
      "C(YM)[370]                              0.4191      0.018     23.398      0.000       0.384       0.454\n",
      "C(YM)[371]                              0.4150      0.019     21.897      0.000       0.378       0.452\n",
      "C(YM)[372]                              0.4606      0.019     24.391      0.000       0.424       0.498\n",
      "C(YM)[373]                              0.4494      0.019     23.733      0.000       0.412       0.486\n",
      "C(YM)[374]                              0.4439      0.019     23.855      0.000       0.407       0.480\n",
      "C(YM)[375]                              0.4959      0.017     29.211      0.000       0.463       0.529\n",
      "C(YM)[376]                              0.4688      0.017     27.716      0.000       0.436       0.502\n",
      "C(YM)[377]                              0.4383      0.017     25.162      0.000       0.404       0.472\n",
      "C(YM)[378]                              0.4662      0.017     27.018      0.000       0.432       0.500\n",
      "C(YM)[379]                              0.4166      0.018     22.822      0.000       0.381       0.452\n",
      "C(YM)[380]                              0.4206      0.019     22.422      0.000       0.384       0.457\n",
      "C(YM)[381]                              0.4487      0.018     24.743      0.000       0.413       0.484\n",
      "C(YM)[382]                              0.4028      0.018     22.844      0.000       0.368       0.437\n",
      "C(YM)[383]                              0.4488      0.018     25.614      0.000       0.414       0.483\n",
      "C(YM)[384]                              0.4463      0.017     25.730      0.000       0.412       0.480\n",
      "C(YM)[385]                              0.4613      0.017     26.919      0.000       0.428       0.495\n",
      "C(YM)[386]                              0.4380      0.019     23.535      0.000       0.401       0.474\n",
      "C(YM)[387]                              0.4180      0.017     23.905      0.000       0.384       0.452\n",
      "C(YM)[388]                              0.4203      0.019     22.333      0.000       0.383       0.457\n",
      "C(YM)[389]                              0.4217      0.020     21.160      0.000       0.383       0.461\n",
      "C(YM)[390]                              0.4352      0.020     22.035      0.000       0.397       0.474\n",
      "C(YM)[391]                              0.4085      0.020     20.428      0.000       0.369       0.448\n",
      "C(YM)[392]                              0.3842      0.022     17.715      0.000       0.342       0.427\n",
      "C(YM)[393]                              0.4436      0.022     20.327      0.000       0.401       0.486\n",
      "C(YM)[394]                              0.4280      0.020     21.308      0.000       0.389       0.467\n",
      "C(YM)[395]                              0.4173      0.022     19.226      0.000       0.375       0.460\n",
      "C(YM)[396]                              0.4334      0.022     19.895      0.000       0.391       0.476\n",
      "C(YM)[397]                              0.4051      0.021     19.280      0.000       0.364       0.446\n",
      "C(YM)[398]                              0.4173      0.023     18.513      0.000       0.373       0.462\n",
      "C(YM)[399]                              0.4147      0.020     20.969      0.000       0.376       0.453\n",
      "C(YM)[400]                              0.4280      0.021     20.631      0.000       0.387       0.469\n",
      "C(YM)[401]                              0.4613      0.022     21.438      0.000       0.419       0.503\n",
      "C(YM)[402]                              0.4154      0.023     18.380      0.000       0.371       0.460\n",
      "C(YM)[403]                              0.3877      0.023     16.906      0.000       0.343       0.433\n",
      "C(YM)[404]                              0.4123      0.023     18.215      0.000       0.368       0.457\n",
      "C(YM)[405]                              0.4094      0.023     17.613      0.000       0.364       0.455\n",
      "C(YM)[406]                              0.4243      0.023     18.671      0.000       0.380       0.469\n",
      "C(YM)[407]                              0.4165      0.023     18.219      0.000       0.372       0.461\n",
      "C(YM)[408]                              0.4456      0.023     19.614      0.000       0.401       0.490\n",
      "C(YM)[409]                              0.4300      0.023     18.639      0.000       0.385       0.475\n",
      "C(YM)[410]                              0.4276      0.023     18.373      0.000       0.382       0.473\n",
      "C(YM)[411]                              0.4090      0.021     19.120      0.000       0.367       0.451\n",
      "C(YM)[412]                              0.3512      0.022     15.975      0.000       0.308       0.394\n",
      "C(YM)[413]                              0.4177      0.022     18.936      0.000       0.374       0.461\n",
      "C(YM)[414]                              0.3376      0.021     15.743      0.000       0.296       0.380\n",
      "C(YM)[415]                              0.4196      0.022     18.660      0.000       0.376       0.464\n",
      "C(YM)[416]                              0.4114      0.023     17.951      0.000       0.366       0.456\n",
      "C(YM)[417]                              0.4022      0.021     19.168      0.000       0.361       0.443\n",
      "C(YM)[418]                              0.3782      0.021     17.978      0.000       0.337       0.419\n",
      "C(YM)[419]                              0.4150      0.022     18.658      0.000       0.371       0.459\n",
      "C(YM)[420]                              0.4456      0.022     20.065      0.000       0.402       0.489\n",
      "C(YM)[421]                              0.4062      0.022     18.240      0.000       0.363       0.450\n",
      "C(YM)[422]                              0.3856      0.024     16.074      0.000       0.339       0.433\n",
      "C(YM)[423]                              0.4437      0.023     18.974      0.000       0.398       0.489\n",
      "C(YM)[424]                              0.4436      0.024     18.387      0.000       0.396       0.491\n",
      "C(YM)[425]                              0.4281      0.023     18.817      0.000       0.383       0.473\n",
      "C(YM)[426]                              0.4263      0.024     17.856      0.000       0.379       0.473\n",
      "C(YM)[427]                              0.4174      0.023     17.852      0.000       0.372       0.463\n",
      "C(YM)[428]                              0.4084      0.023     17.944      0.000       0.364       0.453\n",
      "C(Newspaper)[T.Chicago Tribune]         0.0226      0.005      4.781      0.000       0.013       0.032\n",
      "C(Newspaper)[T.Los Angeles Times]       0.0201      0.004      4.558      0.000       0.011       0.029\n",
      "C(Newspaper)[T.New York Times]          0.0486      0.004     11.057      0.000       0.040       0.057\n",
      "C(Newspaper)[T.The Washington Post]     0.0016      0.004      0.361      0.718      -0.007       0.010\n",
      "C(Newspaper)[T.USA Today]               0.0089      0.006      1.447      0.148      -0.003       0.021\n",
      "C(Newspaper)[T.Wall Street Journal]     0.0786      0.004     19.831      0.000       0.071       0.086\n",
      "==============================================================================\n",
      "Omnibus:                   245298.877   Durbin-Watson:                   1.855\n",
      "Prob(Omnibus):                  0.000   Jarque-Bera (JB):          1992395.235\n",
      "Skew:                           2.256   Prob(JB):                         0.00\n",
      "Kurtosis:                      11.749   Cond. No.                         40.7\n",
      "==============================================================================\n",
      "\n",
      "Notes:\n",
      "[1] Standard Errors assume that the covariance matrix of the errors is correctly specified.\n"
     ]
    }
   ],
   "source": [
    "# Uncertainty index\n",
    "UncertaintyIndex=estimate_index('UncertaintyScore')"
   ]
  },
  {
   "cell_type": "code",
   "execution_count": 40,
   "metadata": {},
   "outputs": [
    {
     "name": "stdout",
     "output_type": "stream",
     "text": [
      "<class 'pandas.core.frame.DataFrame'>\n",
      "RangeIndex: 428 entries, 0 to 427\n",
      "Data columns (total 3 columns):\n",
      " #   Column                 Non-Null Count  Dtype  \n",
      "---  ------                 --------------  -----  \n",
      " 0   FE                     428 non-null    object \n",
      " 1   UncertaintyScoreIndex  428 non-null    float64\n",
      " 2   YM                     428 non-null    int64  \n",
      "dtypes: float64(1), int64(1), object(1)\n",
      "memory usage: 10.2+ KB\n",
      "None\n"
     ]
    }
   ],
   "source": [
    "print(UncertaintyIndex.info())"
   ]
  },
  {
   "cell_type": "code",
   "execution_count": 41,
   "metadata": {},
   "outputs": [
    {
     "name": "stdout",
     "output_type": "stream",
     "text": [
      "<class 'pandas.core.frame.DataFrame'>\n",
      "Int64Index: 428 entries, 0 to 427\n",
      "Data columns (total 5 columns):\n",
      " #   Column                 Non-Null Count  Dtype  \n",
      "---  ------                 --------------  -----  \n",
      " 0   Year                   428 non-null    int64  \n",
      " 1   Month                  428 non-null    int64  \n",
      " 2   YM                     428 non-null    int64  \n",
      " 3   FE                     428 non-null    object \n",
      " 4   UncertaintyScoreIndex  428 non-null    float64\n",
      "dtypes: float64(1), int64(3), object(1)\n",
      "memory usage: 20.1+ KB\n",
      "None\n"
     ]
    }
   ],
   "source": [
    "UncertaintyIndex=df_ym.merge(UncertaintyIndex,on='YM',how='outer').\\\n",
    "        sort_values(['Year','Month'])\n",
    "print(UncertaintyIndex.info())"
   ]
  },
  {
   "cell_type": "code",
   "execution_count": 42,
   "metadata": {},
   "outputs": [
    {
     "name": "stdout",
     "output_type": "stream",
     "text": [
      "   Year  Month  YM        FE  UncertaintyIndex\n",
      "0  1985      1   1  C(YM)[1]          0.388407\n",
      "1  1985      2   2  C(YM)[2]          0.369037\n",
      "2  1985      3   3  C(YM)[3]          0.389335\n",
      "3  1985      4   4  C(YM)[4]          0.398572\n",
      "4  1985      5   5  C(YM)[5]          0.399877\n"
     ]
    }
   ],
   "source": [
    "UncertaintyIndex=UncertaintyIndex.rename(columns={'UncertaintyScoreIndex':'UncertaintyIndex'})\n",
    "print(UncertaintyIndex.head())"
   ]
  },
  {
   "cell_type": "code",
   "execution_count": 43,
   "metadata": {},
   "outputs": [],
   "source": [
    "# Export\n",
    "UncertaintyIndex.to_csv('/home/ec2-user/SageMaker/New Uncertainty/Sentiment Analysis/RegRelevant_MonthlyUncertaintyIndex_Robust.csv',index=False)"
   ]
  },
  {
   "cell_type": "markdown",
   "metadata": {},
   "source": [
    "## Compare with baseline uncertainty index"
   ]
  },
  {
   "cell_type": "code",
   "execution_count": 44,
   "metadata": {},
   "outputs": [
    {
     "name": "stdout",
     "output_type": "stream",
     "text": [
      "<class 'pandas.core.frame.DataFrame'>\n",
      "RangeIndex: 428 entries, 0 to 427\n",
      "Data columns (total 7 columns):\n",
      " #   Column            Non-Null Count  Dtype  \n",
      "---  ------            --------------  -----  \n",
      " 0   Year              428 non-null    int64  \n",
      " 1   Month             428 non-null    int64  \n",
      " 2   YM                428 non-null    int64  \n",
      " 3   UncertaintyIndex  428 non-null    float64\n",
      " 4   LMindex           428 non-null    float64\n",
      " 5   GIindex           428 non-null    float64\n",
      " 6   LSDindex          428 non-null    float64\n",
      "dtypes: float64(4), int64(3)\n",
      "memory usage: 23.5 KB\n",
      "None\n"
     ]
    }
   ],
   "source": [
    "UncertaintyIndex_baseline=pd.read_csv('/home/ec2-user/SageMaker/New Uncertainty/Sentiment Analysis/RegRelevant_MonthlySentimentIndex.csv')\n",
    "print(UncertaintyIndex_baseline.info())"
   ]
  },
  {
   "cell_type": "code",
   "execution_count": 48,
   "metadata": {},
   "outputs": [],
   "source": [
    "import scipy.stats\n",
    "import matplotlib.pyplot as plt"
   ]
  },
  {
   "cell_type": "code",
   "execution_count": 46,
   "metadata": {},
   "outputs": [
    {
     "name": "stdout",
     "output_type": "stream",
     "text": [
      "Baseline & Robust: (0.8874366289024693, 2.2231402436195317e-145)\n"
     ]
    }
   ],
   "source": [
    "print('Baseline & Robust:',scipy.stats.pearsonr(UncertaintyIndex['UncertaintyIndex'], UncertaintyIndex_baseline['UncertaintyIndex']))"
   ]
  },
  {
   "cell_type": "code",
   "execution_count": 51,
   "metadata": {},
   "outputs": [
    {
     "data": {
      "image/png": "[encoded data removed]",
      "text/plain": [
       "<Figure size 432x288 with 1 Axes>"
      ]
     },
     "metadata": {
      "needs_background": "light"
     },
     "output_type": "display_data"
    }
   ],
   "source": [
    "y=UncertaintyIndex['UncertaintyIndex']\n",
    "plt.plot(y)\n",
    "plt.show()"
   ]
  },
  {
   "cell_type": "code",
   "execution_count": null,
   "metadata": {},
   "outputs": [],
   "source": []
  }
 ],
 "metadata": {
  "kernelspec": {
   "display_name": "my_py",
   "language": "python",
   "name": "my_py"
  },
  "language_info": {
   "codemirror_mode": {
    "name": "ipython",
    "version": 3
   },
   "file_extension": ".py",
   "mimetype": "text/x-python",
   "name": "python",
   "nbconvert_exporter": "python",
   "pygments_lexer": "ipython3",
   "version": "3.6.10"
  }
 },
 "nbformat": 4,
 "nbformat_minor": 4
}
